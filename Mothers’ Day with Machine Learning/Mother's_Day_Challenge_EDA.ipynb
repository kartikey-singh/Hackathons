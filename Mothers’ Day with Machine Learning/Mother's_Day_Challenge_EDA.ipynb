{
  "nbformat": 4,
  "nbformat_minor": 0,
  "metadata": {
    "kernelspec": {
      "display_name": "Python 3",
      "language": "python",
      "name": "python3"
    },
    "language_info": {
      "codemirror_mode": {
        "name": "ipython",
        "version": 3
      },
      "file_extension": ".py",
      "mimetype": "text/x-python",
      "name": "python",
      "nbconvert_exporter": "python",
      "pygments_lexer": "ipython3",
      "version": "3.7.4"
    },
    "colab": {
      "name": "Mother's Day Challenge EDA.ipynb",
      "provenance": [],
      "collapsed_sections": [
        "tnKPHZpxqqDs",
        "nr2AoMossHjj",
        "ttFaGw18WHuj",
        "7DA6kY4Rh-s_"
      ],
      "toc_visible": true
    },
    "accelerator": "GPU"
  },
  "cells": [
    {
      "cell_type": "code",
      "metadata": {
        "id": "iSS0CLx3gWni",
        "colab_type": "code",
        "colab": {
          "base_uri": "https://localhost:8080/",
          "height": 109
        },
        "outputId": "94e7f550-ed39-46f9-dfbd-6e8d71dfc428"
      },
      "source": [
        "# !nvidia-smi\n",
        "# !pip install gdown\n",
        "# !pip install tensorflow_text\n",
        "# !pip install wordcloud\n",
        "# !pip install tensorflow-gpu\n",
        "# !pip install \"tensorflow_hub>=0.6.0\"\n",
        "# !pip install \"tensorflow>=2.0.0\"\n",
        "\n",
        "import os\n",
        "import random\n",
        "import re\n",
        "import string\n",
        "import numpy as np \n",
        "import pandas as pd \n",
        "import matplotlib as mpl\n",
        "import matplotlib.pyplot as plt\n",
        "import seaborn as sns\n",
        "%matplotlib inline\n",
        "from plotly import graph_objs as go\n",
        "import plotly.express as px\n",
        "import plotly.figure_factory as ff\n",
        "from collections import Counter\n",
        "from PIL import Image\n",
        "from wordcloud import WordCloud, STOPWORDS, ImageColorGenerator\n",
        "from tqdm import tqdm\n",
        "import nltk\n",
        "nltk.download('stopwords')\n",
        "from nltk.corpus import stopwords\n",
        "import spacy\n",
        "from spacy.util import compounding\n",
        "from spacy.util import minibatch\n",
        "import warnings\n",
        "warnings.filterwarnings(\"ignore\")\n",
        "\n",
        "from sklearn.preprocessing import OneHotEncoder\n",
        "from sklearn.model_selection import train_test_split\n",
        "import tensorflow as tf\n",
        "import tensorflow_hub as hub\n",
        "from tensorflow import keras\n",
        "\n",
        "mpl.rcParams['figure.figsize'] = (12, 10)\n",
        "colors = plt.rcParams['axes.prop_cycle'].by_key()['color']"
      ],
      "execution_count": null,
      "outputs": [
        {
          "output_type": "stream",
          "text": [
            "/usr/local/lib/python3.6/dist-packages/statsmodels/tools/_testing.py:19: FutureWarning: pandas.util.testing is deprecated. Use the functions in the public API at pandas.testing instead.\n",
            "  import pandas.util.testing as tm\n"
          ],
          "name": "stderr"
        },
        {
          "output_type": "stream",
          "text": [
            "[nltk_data] Downloading package stopwords to /root/nltk_data...\n",
            "[nltk_data]   Unzipping corpora/stopwords.zip.\n"
          ],
          "name": "stdout"
        }
      ]
    },
    {
      "cell_type": "code",
      "metadata": {
        "id": "YhNT9FkqM04p",
        "colab_type": "code",
        "colab": {
          "base_uri": "https://localhost:8080/",
          "height": 127
        },
        "outputId": "1b9e1fb3-fb4d-465a-8751-b363798347f0"
      },
      "source": [
        "from google.colab import drive\n",
        "drive.mount('/content/drive')"
      ],
      "execution_count": null,
      "outputs": [
        {
          "output_type": "stream",
          "text": [
            "Go to this URL in a browser: https://accounts.google.com/o/oauth2/auth?client_id=947318989803-6bn6qk8qdgf4n4g3pfee6491hc0brc4i.apps.googleusercontent.com&redirect_uri=urn%3aietf%3awg%3aoauth%3a2.0%3aoob&response_type=code&scope=email%20https%3a%2f%2fwww.googleapis.com%2fauth%2fdocs.test%20https%3a%2f%2fwww.googleapis.com%2fauth%2fdrive%20https%3a%2f%2fwww.googleapis.com%2fauth%2fdrive.photos.readonly%20https%3a%2f%2fwww.googleapis.com%2fauth%2fpeopleapi.readonly\n",
            "\n",
            "Enter your authorization code:\n",
            "··········\n",
            "Mounted at /content/drive\n"
          ],
          "name": "stdout"
        }
      ]
    },
    {
      "cell_type": "code",
      "metadata": {
        "id": "iEyGwH5UgWnt",
        "colab_type": "code",
        "colab": {
          "base_uri": "https://localhost:8080/",
          "height": 53
        },
        "outputId": "bd956773-df73-4a65-b1e2-371e213d99bc"
      },
      "source": [
        "PATH = '/content/drive/My Drive/Analysis/'\n",
        "train = pd.read_csv(PATH + 'dataset/train.csv')\n",
        "test = pd.read_csv(PATH + 'dataset/test.csv')\n",
        "print(train.shape)\n",
        "print(test.shape)"
      ],
      "execution_count": null,
      "outputs": [
        {
          "output_type": "stream",
          "text": [
            "(3235, 6)\n",
            "(1387, 5)\n"
          ],
          "name": "stdout"
        }
      ]
    },
    {
      "cell_type": "code",
      "metadata": {
        "id": "bKRJ-VcjqHZE",
        "colab_type": "code",
        "colab": {}
      },
      "source": [
        "def random_colours(number_of_colors):\n",
        "    '''\n",
        "    Simple function for random colours generation.\n",
        "    Input:\n",
        "        number_of_colors - integer value indicating the number of colours which are going to be generated.\n",
        "    Output:\n",
        "        Color in the following format: ['#E86DA4'] .\n",
        "    '''\n",
        "    colors = []\n",
        "    for i in range(number_of_colors):\n",
        "        colors.append(\"#\"+''.join([random.choice('0123456789ABCDEF') for j in range(6)]))\n",
        "    return colors"
      ],
      "execution_count": null,
      "outputs": []
    },
    {
      "cell_type": "code",
      "metadata": {
        "id": "DgsMcBWbgWnx",
        "colab_type": "code",
        "colab": {
          "base_uri": "https://localhost:8080/",
          "height": 251
        },
        "outputId": "827f3157-2939-4ede-9ec9-09e7faf33b1c"
      },
      "source": [
        "train.info()"
      ],
      "execution_count": null,
      "outputs": [
        {
          "output_type": "stream",
          "text": [
            "<class 'pandas.core.frame.DataFrame'>\n",
            "RangeIndex: 3235 entries, 0 to 3234\n",
            "Data columns (total 6 columns):\n",
            " #   Column           Non-Null Count  Dtype  \n",
            "---  ------           --------------  -----  \n",
            " 0   id               3235 non-null   float64\n",
            " 1   original_text    3235 non-null   object \n",
            " 2   lang             3231 non-null   object \n",
            " 3   retweet_count    3231 non-null   object \n",
            " 4   original_author  3235 non-null   object \n",
            " 5   sentiment_class  3235 non-null   int64  \n",
            "dtypes: float64(1), int64(1), object(4)\n",
            "memory usage: 151.8+ KB\n"
          ],
          "name": "stdout"
        }
      ]
    },
    {
      "cell_type": "code",
      "metadata": {
        "id": "MzwfIJnFgWn1",
        "colab_type": "code",
        "colab": {}
      },
      "source": [
        "train.dropna(inplace=True)"
      ],
      "execution_count": null,
      "outputs": []
    },
    {
      "cell_type": "code",
      "metadata": {
        "id": "fepQ23SwgWn6",
        "colab_type": "code",
        "colab": {
          "base_uri": "https://localhost:8080/",
          "height": 233
        },
        "outputId": "4498d7ad-1721-470b-9666-46304db841a4"
      },
      "source": [
        "test.info()"
      ],
      "execution_count": null,
      "outputs": [
        {
          "output_type": "stream",
          "text": [
            "<class 'pandas.core.frame.DataFrame'>\n",
            "RangeIndex: 1387 entries, 0 to 1386\n",
            "Data columns (total 5 columns):\n",
            " #   Column           Non-Null Count  Dtype  \n",
            "---  ------           --------------  -----  \n",
            " 0   id               1387 non-null   float64\n",
            " 1   original_text    1387 non-null   object \n",
            " 2   lang             1387 non-null   object \n",
            " 3   retweet_count    1386 non-null   object \n",
            " 4   original_author  1387 non-null   object \n",
            "dtypes: float64(1), object(4)\n",
            "memory usage: 54.3+ KB\n"
          ],
          "name": "stdout"
        }
      ]
    },
    {
      "cell_type": "code",
      "metadata": {
        "id": "I7yGo-3NgWn_",
        "colab_type": "code",
        "colab": {},
        "outputId": "e12b56cf-6bc8-40e1-df98-e88a79d95143"
      },
      "source": [
        "train.head()"
      ],
      "execution_count": null,
      "outputs": [
        {
          "output_type": "execute_result",
          "data": {
            "text/html": [
              "<div>\n",
              "<style scoped>\n",
              "    .dataframe tbody tr th:only-of-type {\n",
              "        vertical-align: middle;\n",
              "    }\n",
              "\n",
              "    .dataframe tbody tr th {\n",
              "        vertical-align: top;\n",
              "    }\n",
              "\n",
              "    .dataframe thead th {\n",
              "        text-align: right;\n",
              "    }\n",
              "</style>\n",
              "<table border=\"1\" class=\"dataframe\">\n",
              "  <thead>\n",
              "    <tr style=\"text-align: right;\">\n",
              "      <th></th>\n",
              "      <th>id</th>\n",
              "      <th>original_text</th>\n",
              "      <th>lang</th>\n",
              "      <th>retweet_count</th>\n",
              "      <th>original_author</th>\n",
              "      <th>sentiment_class</th>\n",
              "    </tr>\n",
              "  </thead>\n",
              "  <tbody>\n",
              "    <tr>\n",
              "      <th>0</th>\n",
              "      <td>1.245025e+18</td>\n",
              "      <td>Happy #MothersDay to all you amazing mothers o...</td>\n",
              "      <td>en</td>\n",
              "      <td>0</td>\n",
              "      <td>BeenXXPired</td>\n",
              "      <td>0</td>\n",
              "    </tr>\n",
              "    <tr>\n",
              "      <th>1</th>\n",
              "      <td>1.245759e+18</td>\n",
              "      <td>Happy Mothers Day Mum - I'm sorry I can't be t...</td>\n",
              "      <td>en</td>\n",
              "      <td>1</td>\n",
              "      <td>FestiveFeeling</td>\n",
              "      <td>0</td>\n",
              "    </tr>\n",
              "    <tr>\n",
              "      <th>2</th>\n",
              "      <td>1.246087e+18</td>\n",
              "      <td>Happy mothers day To all This doing a mothers ...</td>\n",
              "      <td>en</td>\n",
              "      <td>0</td>\n",
              "      <td>KrisAllenSak</td>\n",
              "      <td>-1</td>\n",
              "    </tr>\n",
              "    <tr>\n",
              "      <th>3</th>\n",
              "      <td>1.244803e+18</td>\n",
              "      <td>Happy mothers day to this beautiful woman...ro...</td>\n",
              "      <td>en</td>\n",
              "      <td>0</td>\n",
              "      <td>Queenuchee</td>\n",
              "      <td>0</td>\n",
              "    </tr>\n",
              "    <tr>\n",
              "      <th>4</th>\n",
              "      <td>1.244876e+18</td>\n",
              "      <td>Remembering the 3 most amazing ladies who made...</td>\n",
              "      <td>en</td>\n",
              "      <td>0</td>\n",
              "      <td>brittan17446794</td>\n",
              "      <td>-1</td>\n",
              "    </tr>\n",
              "  </tbody>\n",
              "</table>\n",
              "</div>"
            ],
            "text/plain": [
              "             id                                      original_text lang  \\\n",
              "0  1.245025e+18  Happy #MothersDay to all you amazing mothers o...   en   \n",
              "1  1.245759e+18  Happy Mothers Day Mum - I'm sorry I can't be t...   en   \n",
              "2  1.246087e+18  Happy mothers day To all This doing a mothers ...   en   \n",
              "3  1.244803e+18  Happy mothers day to this beautiful woman...ro...   en   \n",
              "4  1.244876e+18  Remembering the 3 most amazing ladies who made...   en   \n",
              "\n",
              "  retweet_count  original_author  sentiment_class  \n",
              "0             0      BeenXXPired                0  \n",
              "1             1   FestiveFeeling                0  \n",
              "2             0     KrisAllenSak               -1  \n",
              "3             0       Queenuchee                0  \n",
              "4             0  brittan17446794               -1  "
            ]
          },
          "metadata": {
            "tags": []
          },
          "execution_count": 10
        }
      ]
    },
    {
      "cell_type": "code",
      "metadata": {
        "id": "wI9bnukYgWoI",
        "colab_type": "code",
        "colab": {},
        "outputId": "da22ff6c-9d7d-4fa8-cdae-cbfa61a03234"
      },
      "source": [
        "temp = train.groupby('sentiment_class').count()['original_text'].reset_index().sort_values(by='original_text',ascending=False)\n",
        "temp.style.background_gradient(cmap='Purples')"
      ],
      "execution_count": null,
      "outputs": [
        {
          "output_type": "execute_result",
          "data": {
            "text/html": [
              "<style  type=\"text/css\" >\n",
              "    #T_777cfeac_a53d_11ea_8514_99ad24f6662erow0_col0 {\n",
              "            background-color:  #9e9ac8;\n",
              "            color:  #000000;\n",
              "        }    #T_777cfeac_a53d_11ea_8514_99ad24f6662erow0_col1 {\n",
              "            background-color:  #3f007d;\n",
              "            color:  #f1f1f1;\n",
              "        }    #T_777cfeac_a53d_11ea_8514_99ad24f6662erow1_col0 {\n",
              "            background-color:  #fcfbfd;\n",
              "            color:  #000000;\n",
              "        }    #T_777cfeac_a53d_11ea_8514_99ad24f6662erow1_col1 {\n",
              "            background-color:  #fcfbfd;\n",
              "            color:  #000000;\n",
              "        }    #T_777cfeac_a53d_11ea_8514_99ad24f6662erow2_col0 {\n",
              "            background-color:  #3f007d;\n",
              "            color:  #f1f1f1;\n",
              "        }    #T_777cfeac_a53d_11ea_8514_99ad24f6662erow2_col1 {\n",
              "            background-color:  #fcfbfd;\n",
              "            color:  #000000;\n",
              "        }</style><table id=\"T_777cfeac_a53d_11ea_8514_99ad24f6662e\" ><thead>    <tr>        <th class=\"blank level0\" ></th>        <th class=\"col_heading level0 col0\" >sentiment_class</th>        <th class=\"col_heading level0 col1\" >original_text</th>    </tr></thead><tbody>\n",
              "                <tr>\n",
              "                        <th id=\"T_777cfeac_a53d_11ea_8514_99ad24f6662elevel0_row0\" class=\"row_heading level0 row0\" >1</th>\n",
              "                        <td id=\"T_777cfeac_a53d_11ea_8514_99ad24f6662erow0_col0\" class=\"data row0 col0\" >0</td>\n",
              "                        <td id=\"T_777cfeac_a53d_11ea_8514_99ad24f6662erow0_col1\" class=\"data row0 col1\" >1693</td>\n",
              "            </tr>\n",
              "            <tr>\n",
              "                        <th id=\"T_777cfeac_a53d_11ea_8514_99ad24f6662elevel0_row1\" class=\"row_heading level0 row1\" >0</th>\n",
              "                        <td id=\"T_777cfeac_a53d_11ea_8514_99ad24f6662erow1_col0\" class=\"data row1 col0\" >-1</td>\n",
              "                        <td id=\"T_777cfeac_a53d_11ea_8514_99ad24f6662erow1_col1\" class=\"data row1 col1\" >769</td>\n",
              "            </tr>\n",
              "            <tr>\n",
              "                        <th id=\"T_777cfeac_a53d_11ea_8514_99ad24f6662elevel0_row2\" class=\"row_heading level0 row2\" >2</th>\n",
              "                        <td id=\"T_777cfeac_a53d_11ea_8514_99ad24f6662erow2_col0\" class=\"data row2 col0\" >1</td>\n",
              "                        <td id=\"T_777cfeac_a53d_11ea_8514_99ad24f6662erow2_col1\" class=\"data row2 col1\" >765</td>\n",
              "            </tr>\n",
              "    </tbody></table>"
            ],
            "text/plain": [
              "<pandas.io.formats.style.Styler at 0x7fe28c4d9c10>"
            ]
          },
          "metadata": {
            "tags": []
          },
          "execution_count": 12
        }
      ]
    },
    {
      "cell_type": "code",
      "metadata": {
        "id": "Mc0Gh_csgWoN",
        "colab_type": "code",
        "colab": {}
      },
      "source": [
        "fig = go.Figure(go.Funnelarea(\n",
        "    text =temp.sentiment_class,\n",
        "    values = temp.original_text,\n",
        "    title = {\"position\": \"top center\", \"text\": \"Funnel-Chart of Sentiment Distribution\"}\n",
        "    ))\n",
        "fig.show()"
      ],
      "execution_count": null,
      "outputs": []
    },
    {
      "cell_type": "code",
      "metadata": {
        "id": "amZd9Fp1gWoa",
        "colab_type": "code",
        "colab": {}
      },
      "source": [
        "def remove_stopword(x):\n",
        "    return [y for y in x if y not in stopwords.words('english')]\n",
        "\n",
        "def clean_text(text):\n",
        "    '''Make text lowercase, remove text in square brackets,remove links,remove punctuation\n",
        "    and remove words containing numbers.'''\n",
        "    text = str(text).lower()\n",
        "    text = text.replace('’','\\'')\n",
        "    text = re.sub('\\[.*?\\]', '', text)\n",
        "    text = re.sub('https?://\\S+|www\\.\\S+', '', text)\n",
        "    text = re.sub('<.*?>+', '', text)\n",
        "    text = re.sub('[%s]' % re.escape(string.punctuation), '', text)\n",
        "    text = re.sub('\\n', '', text)\n",
        "    text = re.sub('\\w*\\d\\w*', '', text)\n",
        "    text = re.sub('instagram.*', '', text)\n",
        "    text = re.sub('piccom.*', '', text)\n",
        "    text = re.sub('https|…|twitter|#|@|“|”|°', '', text)\n",
        "    text = re.sub('mothers|day|happy|mothersday', '', text)\n",
        "    text_list = remove_stopword(str(text).split())    \n",
        "    return ' '.join(text_list)"
      ],
      "execution_count": null,
      "outputs": []
    },
    {
      "cell_type": "code",
      "metadata": {
        "id": "-UTiCPTdgWoe",
        "colab_type": "code",
        "colab": {}
      },
      "source": [
        "train['cleaned_text'] = train['original_text'].apply(lambda x:clean_text(x))"
      ],
      "execution_count": null,
      "outputs": []
    },
    {
      "cell_type": "markdown",
      "metadata": {
        "id": "tnKPHZpxqqDs",
        "colab_type": "text"
      },
      "source": [
        "# Observations and Diagrams"
      ]
    },
    {
      "cell_type": "code",
      "metadata": {
        "id": "Z4G5jbItgWoh",
        "colab_type": "code",
        "colab": {},
        "outputId": "866f6cac-5f21-4be2-a496-84d413f6a900"
      },
      "source": [
        "train['temp_list'] = train['cleaned_text'].apply(lambda x:str(x).split())\n",
        "top = Counter([item for sublist in train['temp_list'] for item in sublist])\n",
        "temp = pd.DataFrame(top.most_common(20))\n",
        "temp.columns = ['Common_words','count']\n",
        "temp.style.background_gradient(cmap='Blues')"
      ],
      "execution_count": null,
      "outputs": [
        {
          "output_type": "execute_result",
          "data": {
            "text/html": [
              "<style  type=\"text/css\" >\n",
              "    #T_a3059088_a552_11ea_8514_99ad24f6662erow0_col1 {\n",
              "            background-color:  #08306b;\n",
              "            color:  #f1f1f1;\n",
              "        }    #T_a3059088_a552_11ea_8514_99ad24f6662erow1_col1 {\n",
              "            background-color:  #084184;\n",
              "            color:  #f1f1f1;\n",
              "        }    #T_a3059088_a552_11ea_8514_99ad24f6662erow2_col1 {\n",
              "            background-color:  #0b559f;\n",
              "            color:  #f1f1f1;\n",
              "        }    #T_a3059088_a552_11ea_8514_99ad24f6662erow3_col1 {\n",
              "            background-color:  #a0cbe2;\n",
              "            color:  #000000;\n",
              "        }    #T_a3059088_a552_11ea_8514_99ad24f6662erow4_col1 {\n",
              "            background-color:  #d2e3f3;\n",
              "            color:  #000000;\n",
              "        }    #T_a3059088_a552_11ea_8514_99ad24f6662erow5_col1 {\n",
              "            background-color:  #d3e4f3;\n",
              "            color:  #000000;\n",
              "        }    #T_a3059088_a552_11ea_8514_99ad24f6662erow6_col1 {\n",
              "            background-color:  #d9e8f5;\n",
              "            color:  #000000;\n",
              "        }    #T_a3059088_a552_11ea_8514_99ad24f6662erow7_col1 {\n",
              "            background-color:  #e7f0fa;\n",
              "            color:  #000000;\n",
              "        }    #T_a3059088_a552_11ea_8514_99ad24f6662erow8_col1 {\n",
              "            background-color:  #ebf3fb;\n",
              "            color:  #000000;\n",
              "        }    #T_a3059088_a552_11ea_8514_99ad24f6662erow9_col1 {\n",
              "            background-color:  #eef5fc;\n",
              "            color:  #000000;\n",
              "        }    #T_a3059088_a552_11ea_8514_99ad24f6662erow10_col1 {\n",
              "            background-color:  #f1f7fd;\n",
              "            color:  #000000;\n",
              "        }    #T_a3059088_a552_11ea_8514_99ad24f6662erow11_col1 {\n",
              "            background-color:  #f3f8fe;\n",
              "            color:  #000000;\n",
              "        }    #T_a3059088_a552_11ea_8514_99ad24f6662erow12_col1 {\n",
              "            background-color:  #f4f9fe;\n",
              "            color:  #000000;\n",
              "        }    #T_a3059088_a552_11ea_8514_99ad24f6662erow13_col1 {\n",
              "            background-color:  #f5f9fe;\n",
              "            color:  #000000;\n",
              "        }    #T_a3059088_a552_11ea_8514_99ad24f6662erow14_col1 {\n",
              "            background-color:  #f5fafe;\n",
              "            color:  #000000;\n",
              "        }    #T_a3059088_a552_11ea_8514_99ad24f6662erow15_col1 {\n",
              "            background-color:  #f6faff;\n",
              "            color:  #000000;\n",
              "        }    #T_a3059088_a552_11ea_8514_99ad24f6662erow16_col1 {\n",
              "            background-color:  #f7fbff;\n",
              "            color:  #000000;\n",
              "        }    #T_a3059088_a552_11ea_8514_99ad24f6662erow17_col1 {\n",
              "            background-color:  #f7fbff;\n",
              "            color:  #000000;\n",
              "        }    #T_a3059088_a552_11ea_8514_99ad24f6662erow18_col1 {\n",
              "            background-color:  #f7fbff;\n",
              "            color:  #000000;\n",
              "        }    #T_a3059088_a552_11ea_8514_99ad24f6662erow19_col1 {\n",
              "            background-color:  #f7fbff;\n",
              "            color:  #000000;\n",
              "        }</style><table id=\"T_a3059088_a552_11ea_8514_99ad24f6662e\" ><thead>    <tr>        <th class=\"blank level0\" ></th>        <th class=\"col_heading level0 col0\" >Common_words</th>        <th class=\"col_heading level0 col1\" >count</th>    </tr></thead><tbody>\n",
              "                <tr>\n",
              "                        <th id=\"T_a3059088_a552_11ea_8514_99ad24f6662elevel0_row0\" class=\"row_heading level0 row0\" >0</th>\n",
              "                        <td id=\"T_a3059088_a552_11ea_8514_99ad24f6662erow0_col0\" class=\"data row0 col0\" >mothers</td>\n",
              "                        <td id=\"T_a3059088_a552_11ea_8514_99ad24f6662erow0_col1\" class=\"data row0 col1\" >3972</td>\n",
              "            </tr>\n",
              "            <tr>\n",
              "                        <th id=\"T_a3059088_a552_11ea_8514_99ad24f6662elevel0_row1\" class=\"row_heading level0 row1\" >1</th>\n",
              "                        <td id=\"T_a3059088_a552_11ea_8514_99ad24f6662erow1_col0\" class=\"data row1 col0\" >day</td>\n",
              "                        <td id=\"T_a3059088_a552_11ea_8514_99ad24f6662erow1_col1\" class=\"data row1 col1\" >3727</td>\n",
              "            </tr>\n",
              "            <tr>\n",
              "                        <th id=\"T_a3059088_a552_11ea_8514_99ad24f6662elevel0_row2\" class=\"row_heading level0 row2\" >2</th>\n",
              "                        <td id=\"T_a3059088_a552_11ea_8514_99ad24f6662erow2_col0\" class=\"data row2 col0\" >happy</td>\n",
              "                        <td id=\"T_a3059088_a552_11ea_8514_99ad24f6662erow2_col1\" class=\"data row2 col1\" >3429</td>\n",
              "            </tr>\n",
              "            <tr>\n",
              "                        <th id=\"T_a3059088_a552_11ea_8514_99ad24f6662elevel0_row3\" class=\"row_heading level0 row3\" >3</th>\n",
              "                        <td id=\"T_a3059088_a552_11ea_8514_99ad24f6662erow3_col0\" class=\"data row3 col0\" >mothersday</td>\n",
              "                        <td id=\"T_a3059088_a552_11ea_8514_99ad24f6662erow3_col1\" class=\"data row3 col1\" >1603</td>\n",
              "            </tr>\n",
              "            <tr>\n",
              "                        <th id=\"T_a3059088_a552_11ea_8514_99ad24f6662elevel0_row4\" class=\"row_heading level0 row4\" >4</th>\n",
              "                        <td id=\"T_a3059088_a552_11ea_8514_99ad24f6662erow4_col0\" class=\"data row4 col0\" >love</td>\n",
              "                        <td id=\"T_a3059088_a552_11ea_8514_99ad24f6662erow4_col1\" class=\"data row4 col1\" >925</td>\n",
              "            </tr>\n",
              "            <tr>\n",
              "                        <th id=\"T_a3059088_a552_11ea_8514_99ad24f6662elevel0_row5\" class=\"row_heading level0 row5\" >5</th>\n",
              "                        <td id=\"T_a3059088_a552_11ea_8514_99ad24f6662erow5_col0\" class=\"data row5 col0\" >mum</td>\n",
              "                        <td id=\"T_a3059088_a552_11ea_8514_99ad24f6662erow5_col1\" class=\"data row5 col1\" >891</td>\n",
              "            </tr>\n",
              "            <tr>\n",
              "                        <th id=\"T_a3059088_a552_11ea_8514_99ad24f6662elevel0_row6\" class=\"row_heading level0 row6\" >6</th>\n",
              "                        <td id=\"T_a3059088_a552_11ea_8514_99ad24f6662erow6_col0\" class=\"data row6 col0\" >mums</td>\n",
              "                        <td id=\"T_a3059088_a552_11ea_8514_99ad24f6662erow6_col1\" class=\"data row6 col1\" >783</td>\n",
              "            </tr>\n",
              "            <tr>\n",
              "                        <th id=\"T_a3059088_a552_11ea_8514_99ad24f6662elevel0_row7\" class=\"row_heading level0 row7\" >7</th>\n",
              "                        <td id=\"T_a3059088_a552_11ea_8514_99ad24f6662erow7_col0\" class=\"data row7 col0\" >today</td>\n",
              "                        <td id=\"T_a3059088_a552_11ea_8514_99ad24f6662erow7_col1\" class=\"data row7 col1\" >526</td>\n",
              "            </tr>\n",
              "            <tr>\n",
              "                        <th id=\"T_a3059088_a552_11ea_8514_99ad24f6662elevel0_row8\" class=\"row_heading level0 row8\" >8</th>\n",
              "                        <td id=\"T_a3059088_a552_11ea_8514_99ad24f6662erow8_col0\" class=\"data row8 col0\" >mother</td>\n",
              "                        <td id=\"T_a3059088_a552_11ea_8514_99ad24f6662erow8_col1\" class=\"data row8 col1\" >446</td>\n",
              "            </tr>\n",
              "            <tr>\n",
              "                        <th id=\"T_a3059088_a552_11ea_8514_99ad24f6662elevel0_row9\" class=\"row_heading level0 row9\" >9</th>\n",
              "                        <td id=\"T_a3059088_a552_11ea_8514_99ad24f6662erow9_col0\" class=\"data row9 col0\" >us</td>\n",
              "                        <td id=\"T_a3059088_a552_11ea_8514_99ad24f6662erow9_col1\" class=\"data row9 col1\" >390</td>\n",
              "            </tr>\n",
              "            <tr>\n",
              "                        <th id=\"T_a3059088_a552_11ea_8514_99ad24f6662elevel0_row10\" class=\"row_heading level0 row10\" >10</th>\n",
              "                        <td id=\"T_a3059088_a552_11ea_8514_99ad24f6662erow10_col0\" class=\"data row10 col0\" >amazing</td>\n",
              "                        <td id=\"T_a3059088_a552_11ea_8514_99ad24f6662erow10_col1\" class=\"data row10 col1\" >334</td>\n",
              "            </tr>\n",
              "            <tr>\n",
              "                        <th id=\"T_a3059088_a552_11ea_8514_99ad24f6662elevel0_row11\" class=\"row_heading level0 row11\" >11</th>\n",
              "                        <td id=\"T_a3059088_a552_11ea_8514_99ad24f6662erow11_col0\" class=\"data row11 col0\" >hope</td>\n",
              "                        <td id=\"T_a3059088_a552_11ea_8514_99ad24f6662erow11_col1\" class=\"data row11 col1\" >295</td>\n",
              "            </tr>\n",
              "            <tr>\n",
              "                        <th id=\"T_a3059088_a552_11ea_8514_99ad24f6662elevel0_row12\" class=\"row_heading level0 row12\" >12</th>\n",
              "                        <td id=\"T_a3059088_a552_11ea_8514_99ad24f6662erow12_col0\" class=\"data row12 col0\" >thank</td>\n",
              "                        <td id=\"T_a3059088_a552_11ea_8514_99ad24f6662erow12_col1\" class=\"data row12 col1\" >278</td>\n",
              "            </tr>\n",
              "            <tr>\n",
              "                        <th id=\"T_a3059088_a552_11ea_8514_99ad24f6662elevel0_row13\" class=\"row_heading level0 row13\" >13</th>\n",
              "                        <td id=\"T_a3059088_a552_11ea_8514_99ad24f6662erow13_col0\" class=\"data row13 col0\" >world</td>\n",
              "                        <td id=\"T_a3059088_a552_11ea_8514_99ad24f6662erow13_col1\" class=\"data row13 col1\" >262</td>\n",
              "            </tr>\n",
              "            <tr>\n",
              "                        <th id=\"T_a3059088_a552_11ea_8514_99ad24f6662elevel0_row14\" class=\"row_heading level0 row14\" >14</th>\n",
              "                        <td id=\"T_a3059088_a552_11ea_8514_99ad24f6662erow14_col0\" class=\"data row14 col0\" >wonderful</td>\n",
              "                        <td id=\"T_a3059088_a552_11ea_8514_99ad24f6662erow14_col1\" class=\"data row14 col1\" >255</td>\n",
              "            </tr>\n",
              "            <tr>\n",
              "                        <th id=\"T_a3059088_a552_11ea_8514_99ad24f6662elevel0_row15\" class=\"row_heading level0 row15\" >15</th>\n",
              "                        <td id=\"T_a3059088_a552_11ea_8514_99ad24f6662erow15_col0\" class=\"data row15 col0\" >one</td>\n",
              "                        <td id=\"T_a3059088_a552_11ea_8514_99ad24f6662erow15_col1\" class=\"data row15 col1\" >241</td>\n",
              "            </tr>\n",
              "            <tr>\n",
              "                        <th id=\"T_a3059088_a552_11ea_8514_99ad24f6662elevel0_row16\" class=\"row_heading level0 row16\" >16</th>\n",
              "                        <td id=\"T_a3059088_a552_11ea_8514_99ad24f6662erow16_col0\" class=\"data row16 col0\" >best</td>\n",
              "                        <td id=\"T_a3059088_a552_11ea_8514_99ad24f6662erow16_col1\" class=\"data row16 col1\" >227</td>\n",
              "            </tr>\n",
              "            <tr>\n",
              "                        <th id=\"T_a3059088_a552_11ea_8514_99ad24f6662elevel0_row17\" class=\"row_heading level0 row17\" >17</th>\n",
              "                        <td id=\"T_a3059088_a552_11ea_8514_99ad24f6662erow17_col0\" class=\"data row17 col0\" >know</td>\n",
              "                        <td id=\"T_a3059088_a552_11ea_8514_99ad24f6662erow17_col1\" class=\"data row17 col1\" >223</td>\n",
              "            </tr>\n",
              "            <tr>\n",
              "                        <th id=\"T_a3059088_a552_11ea_8514_99ad24f6662elevel0_row18\" class=\"row_heading level0 row18\" >18</th>\n",
              "                        <td id=\"T_a3059088_a552_11ea_8514_99ad24f6662erow18_col0\" class=\"data row18 col0\" >beautiful</td>\n",
              "                        <td id=\"T_a3059088_a552_11ea_8514_99ad24f6662erow18_col1\" class=\"data row18 col1\" >223</td>\n",
              "            </tr>\n",
              "            <tr>\n",
              "                        <th id=\"T_a3059088_a552_11ea_8514_99ad24f6662elevel0_row19\" class=\"row_heading level0 row19\" >19</th>\n",
              "                        <td id=\"T_a3059088_a552_11ea_8514_99ad24f6662erow19_col0\" class=\"data row19 col0\" >family</td>\n",
              "                        <td id=\"T_a3059088_a552_11ea_8514_99ad24f6662erow19_col1\" class=\"data row19 col1\" >213</td>\n",
              "            </tr>\n",
              "    </tbody></table>"
            ],
            "text/plain": [
              "<pandas.io.formats.style.Styler at 0x7fe280144b50>"
            ]
          },
          "metadata": {
            "tags": []
          },
          "execution_count": 150
        }
      ]
    },
    {
      "cell_type": "code",
      "metadata": {
        "id": "G80QAOypgWol",
        "colab_type": "code",
        "colab": {},
        "outputId": "600bebd7-db4a-4381-b6a6-829a9a386a54"
      },
      "source": [
        "fig = px.treemap(temp, path=['Common_words'], values='count',title='Tree of Most Common Words')\n",
        "fig.show()"
      ],
      "execution_count": null,
      "outputs": [
        {
          "output_type": "display_data",
          "data": {
            "application/vnd.plotly.v1+json": {
              "config": {
                "plotlyServerURL": "https://plot.ly"
              },
              "data": [
                {
                  "branchvalues": "total",
                  "domain": {
                    "x": [
                      0,
                      1
                    ],
                    "y": [
                      0,
                      1
                    ]
                  },
                  "hovertemplate": "labels=%{label}<br>count=%{value}<br>parent=%{parent}<br>id=%{id}<extra></extra>",
                  "ids": [
                    "amazing",
                    "beautiful",
                    "best",
                    "day",
                    "family",
                    "happy",
                    "hope",
                    "know",
                    "love",
                    "mother",
                    "mothers",
                    "mothersday",
                    "mum",
                    "mums",
                    "one",
                    "thank",
                    "today",
                    "us",
                    "wonderful",
                    "world"
                  ],
                  "labels": [
                    "amazing",
                    "beautiful",
                    "best",
                    "day",
                    "family",
                    "happy",
                    "hope",
                    "know",
                    "love",
                    "mother",
                    "mothers",
                    "mothersday",
                    "mum",
                    "mums",
                    "one",
                    "thank",
                    "today",
                    "us",
                    "wonderful",
                    "world"
                  ],
                  "name": "",
                  "parents": [
                    "",
                    "",
                    "",
                    "",
                    "",
                    "",
                    "",
                    "",
                    "",
                    "",
                    "",
                    "",
                    "",
                    "",
                    "",
                    "",
                    "",
                    "",
                    "",
                    ""
                  ],
                  "type": "treemap",
                  "values": [
                    334,
                    223,
                    227,
                    3727,
                    213,
                    3429,
                    295,
                    223,
                    925,
                    446,
                    3972,
                    1603,
                    891,
                    783,
                    241,
                    278,
                    526,
                    390,
                    255,
                    262
                  ]
                }
              ],
              "layout": {
                "legend": {
                  "tracegroupgap": 0
                },
                "template": {
                  "data": {
                    "bar": [
                      {
                        "error_x": {
                          "color": "#2a3f5f"
                        },
                        "error_y": {
                          "color": "#2a3f5f"
                        },
                        "marker": {
                          "line": {
                            "color": "#E5ECF6",
                            "width": 0.5
                          }
                        },
                        "type": "bar"
                      }
                    ],
                    "barpolar": [
                      {
                        "marker": {
                          "line": {
                            "color": "#E5ECF6",
                            "width": 0.5
                          }
                        },
                        "type": "barpolar"
                      }
                    ],
                    "carpet": [
                      {
                        "aaxis": {
                          "endlinecolor": "#2a3f5f",
                          "gridcolor": "white",
                          "linecolor": "white",
                          "minorgridcolor": "white",
                          "startlinecolor": "#2a3f5f"
                        },
                        "baxis": {
                          "endlinecolor": "#2a3f5f",
                          "gridcolor": "white",
                          "linecolor": "white",
                          "minorgridcolor": "white",
                          "startlinecolor": "#2a3f5f"
                        },
                        "type": "carpet"
                      }
                    ],
                    "choropleth": [
                      {
                        "colorbar": {
                          "outlinewidth": 0,
                          "ticks": ""
                        },
                        "type": "choropleth"
                      }
                    ],
                    "contour": [
                      {
                        "colorbar": {
                          "outlinewidth": 0,
                          "ticks": ""
                        },
                        "colorscale": [
                          [
                            0,
                            "#0d0887"
                          ],
                          [
                            0.1111111111111111,
                            "#46039f"
                          ],
                          [
                            0.2222222222222222,
                            "#7201a8"
                          ],
                          [
                            0.3333333333333333,
                            "#9c179e"
                          ],
                          [
                            0.4444444444444444,
                            "#bd3786"
                          ],
                          [
                            0.5555555555555556,
                            "#d8576b"
                          ],
                          [
                            0.6666666666666666,
                            "#ed7953"
                          ],
                          [
                            0.7777777777777778,
                            "#fb9f3a"
                          ],
                          [
                            0.8888888888888888,
                            "#fdca26"
                          ],
                          [
                            1,
                            "#f0f921"
                          ]
                        ],
                        "type": "contour"
                      }
                    ],
                    "contourcarpet": [
                      {
                        "colorbar": {
                          "outlinewidth": 0,
                          "ticks": ""
                        },
                        "type": "contourcarpet"
                      }
                    ],
                    "heatmap": [
                      {
                        "colorbar": {
                          "outlinewidth": 0,
                          "ticks": ""
                        },
                        "colorscale": [
                          [
                            0,
                            "#0d0887"
                          ],
                          [
                            0.1111111111111111,
                            "#46039f"
                          ],
                          [
                            0.2222222222222222,
                            "#7201a8"
                          ],
                          [
                            0.3333333333333333,
                            "#9c179e"
                          ],
                          [
                            0.4444444444444444,
                            "#bd3786"
                          ],
                          [
                            0.5555555555555556,
                            "#d8576b"
                          ],
                          [
                            0.6666666666666666,
                            "#ed7953"
                          ],
                          [
                            0.7777777777777778,
                            "#fb9f3a"
                          ],
                          [
                            0.8888888888888888,
                            "#fdca26"
                          ],
                          [
                            1,
                            "#f0f921"
                          ]
                        ],
                        "type": "heatmap"
                      }
                    ],
                    "heatmapgl": [
                      {
                        "colorbar": {
                          "outlinewidth": 0,
                          "ticks": ""
                        },
                        "colorscale": [
                          [
                            0,
                            "#0d0887"
                          ],
                          [
                            0.1111111111111111,
                            "#46039f"
                          ],
                          [
                            0.2222222222222222,
                            "#7201a8"
                          ],
                          [
                            0.3333333333333333,
                            "#9c179e"
                          ],
                          [
                            0.4444444444444444,
                            "#bd3786"
                          ],
                          [
                            0.5555555555555556,
                            "#d8576b"
                          ],
                          [
                            0.6666666666666666,
                            "#ed7953"
                          ],
                          [
                            0.7777777777777778,
                            "#fb9f3a"
                          ],
                          [
                            0.8888888888888888,
                            "#fdca26"
                          ],
                          [
                            1,
                            "#f0f921"
                          ]
                        ],
                        "type": "heatmapgl"
                      }
                    ],
                    "histogram": [
                      {
                        "marker": {
                          "colorbar": {
                            "outlinewidth": 0,
                            "ticks": ""
                          }
                        },
                        "type": "histogram"
                      }
                    ],
                    "histogram2d": [
                      {
                        "colorbar": {
                          "outlinewidth": 0,
                          "ticks": ""
                        },
                        "colorscale": [
                          [
                            0,
                            "#0d0887"
                          ],
                          [
                            0.1111111111111111,
                            "#46039f"
                          ],
                          [
                            0.2222222222222222,
                            "#7201a8"
                          ],
                          [
                            0.3333333333333333,
                            "#9c179e"
                          ],
                          [
                            0.4444444444444444,
                            "#bd3786"
                          ],
                          [
                            0.5555555555555556,
                            "#d8576b"
                          ],
                          [
                            0.6666666666666666,
                            "#ed7953"
                          ],
                          [
                            0.7777777777777778,
                            "#fb9f3a"
                          ],
                          [
                            0.8888888888888888,
                            "#fdca26"
                          ],
                          [
                            1,
                            "#f0f921"
                          ]
                        ],
                        "type": "histogram2d"
                      }
                    ],
                    "histogram2dcontour": [
                      {
                        "colorbar": {
                          "outlinewidth": 0,
                          "ticks": ""
                        },
                        "colorscale": [
                          [
                            0,
                            "#0d0887"
                          ],
                          [
                            0.1111111111111111,
                            "#46039f"
                          ],
                          [
                            0.2222222222222222,
                            "#7201a8"
                          ],
                          [
                            0.3333333333333333,
                            "#9c179e"
                          ],
                          [
                            0.4444444444444444,
                            "#bd3786"
                          ],
                          [
                            0.5555555555555556,
                            "#d8576b"
                          ],
                          [
                            0.6666666666666666,
                            "#ed7953"
                          ],
                          [
                            0.7777777777777778,
                            "#fb9f3a"
                          ],
                          [
                            0.8888888888888888,
                            "#fdca26"
                          ],
                          [
                            1,
                            "#f0f921"
                          ]
                        ],
                        "type": "histogram2dcontour"
                      }
                    ],
                    "mesh3d": [
                      {
                        "colorbar": {
                          "outlinewidth": 0,
                          "ticks": ""
                        },
                        "type": "mesh3d"
                      }
                    ],
                    "parcoords": [
                      {
                        "line": {
                          "colorbar": {
                            "outlinewidth": 0,
                            "ticks": ""
                          }
                        },
                        "type": "parcoords"
                      }
                    ],
                    "pie": [
                      {
                        "automargin": true,
                        "type": "pie"
                      }
                    ],
                    "scatter": [
                      {
                        "marker": {
                          "colorbar": {
                            "outlinewidth": 0,
                            "ticks": ""
                          }
                        },
                        "type": "scatter"
                      }
                    ],
                    "scatter3d": [
                      {
                        "line": {
                          "colorbar": {
                            "outlinewidth": 0,
                            "ticks": ""
                          }
                        },
                        "marker": {
                          "colorbar": {
                            "outlinewidth": 0,
                            "ticks": ""
                          }
                        },
                        "type": "scatter3d"
                      }
                    ],
                    "scattercarpet": [
                      {
                        "marker": {
                          "colorbar": {
                            "outlinewidth": 0,
                            "ticks": ""
                          }
                        },
                        "type": "scattercarpet"
                      }
                    ],
                    "scattergeo": [
                      {
                        "marker": {
                          "colorbar": {
                            "outlinewidth": 0,
                            "ticks": ""
                          }
                        },
                        "type": "scattergeo"
                      }
                    ],
                    "scattergl": [
                      {
                        "marker": {
                          "colorbar": {
                            "outlinewidth": 0,
                            "ticks": ""
                          }
                        },
                        "type": "scattergl"
                      }
                    ],
                    "scattermapbox": [
                      {
                        "marker": {
                          "colorbar": {
                            "outlinewidth": 0,
                            "ticks": ""
                          }
                        },
                        "type": "scattermapbox"
                      }
                    ],
                    "scatterpolar": [
                      {
                        "marker": {
                          "colorbar": {
                            "outlinewidth": 0,
                            "ticks": ""
                          }
                        },
                        "type": "scatterpolar"
                      }
                    ],
                    "scatterpolargl": [
                      {
                        "marker": {
                          "colorbar": {
                            "outlinewidth": 0,
                            "ticks": ""
                          }
                        },
                        "type": "scatterpolargl"
                      }
                    ],
                    "scatterternary": [
                      {
                        "marker": {
                          "colorbar": {
                            "outlinewidth": 0,
                            "ticks": ""
                          }
                        },
                        "type": "scatterternary"
                      }
                    ],
                    "surface": [
                      {
                        "colorbar": {
                          "outlinewidth": 0,
                          "ticks": ""
                        },
                        "colorscale": [
                          [
                            0,
                            "#0d0887"
                          ],
                          [
                            0.1111111111111111,
                            "#46039f"
                          ],
                          [
                            0.2222222222222222,
                            "#7201a8"
                          ],
                          [
                            0.3333333333333333,
                            "#9c179e"
                          ],
                          [
                            0.4444444444444444,
                            "#bd3786"
                          ],
                          [
                            0.5555555555555556,
                            "#d8576b"
                          ],
                          [
                            0.6666666666666666,
                            "#ed7953"
                          ],
                          [
                            0.7777777777777778,
                            "#fb9f3a"
                          ],
                          [
                            0.8888888888888888,
                            "#fdca26"
                          ],
                          [
                            1,
                            "#f0f921"
                          ]
                        ],
                        "type": "surface"
                      }
                    ],
                    "table": [
                      {
                        "cells": {
                          "fill": {
                            "color": "#EBF0F8"
                          },
                          "line": {
                            "color": "white"
                          }
                        },
                        "header": {
                          "fill": {
                            "color": "#C8D4E3"
                          },
                          "line": {
                            "color": "white"
                          }
                        },
                        "type": "table"
                      }
                    ]
                  },
                  "layout": {
                    "annotationdefaults": {
                      "arrowcolor": "#2a3f5f",
                      "arrowhead": 0,
                      "arrowwidth": 1
                    },
                    "coloraxis": {
                      "colorbar": {
                        "outlinewidth": 0,
                        "ticks": ""
                      }
                    },
                    "colorscale": {
                      "diverging": [
                        [
                          0,
                          "#8e0152"
                        ],
                        [
                          0.1,
                          "#c51b7d"
                        ],
                        [
                          0.2,
                          "#de77ae"
                        ],
                        [
                          0.3,
                          "#f1b6da"
                        ],
                        [
                          0.4,
                          "#fde0ef"
                        ],
                        [
                          0.5,
                          "#f7f7f7"
                        ],
                        [
                          0.6,
                          "#e6f5d0"
                        ],
                        [
                          0.7,
                          "#b8e186"
                        ],
                        [
                          0.8,
                          "#7fbc41"
                        ],
                        [
                          0.9,
                          "#4d9221"
                        ],
                        [
                          1,
                          "#276419"
                        ]
                      ],
                      "sequential": [
                        [
                          0,
                          "#0d0887"
                        ],
                        [
                          0.1111111111111111,
                          "#46039f"
                        ],
                        [
                          0.2222222222222222,
                          "#7201a8"
                        ],
                        [
                          0.3333333333333333,
                          "#9c179e"
                        ],
                        [
                          0.4444444444444444,
                          "#bd3786"
                        ],
                        [
                          0.5555555555555556,
                          "#d8576b"
                        ],
                        [
                          0.6666666666666666,
                          "#ed7953"
                        ],
                        [
                          0.7777777777777778,
                          "#fb9f3a"
                        ],
                        [
                          0.8888888888888888,
                          "#fdca26"
                        ],
                        [
                          1,
                          "#f0f921"
                        ]
                      ],
                      "sequentialminus": [
                        [
                          0,
                          "#0d0887"
                        ],
                        [
                          0.1111111111111111,
                          "#46039f"
                        ],
                        [
                          0.2222222222222222,
                          "#7201a8"
                        ],
                        [
                          0.3333333333333333,
                          "#9c179e"
                        ],
                        [
                          0.4444444444444444,
                          "#bd3786"
                        ],
                        [
                          0.5555555555555556,
                          "#d8576b"
                        ],
                        [
                          0.6666666666666666,
                          "#ed7953"
                        ],
                        [
                          0.7777777777777778,
                          "#fb9f3a"
                        ],
                        [
                          0.8888888888888888,
                          "#fdca26"
                        ],
                        [
                          1,
                          "#f0f921"
                        ]
                      ]
                    },
                    "colorway": [
                      "#636efa",
                      "#EF553B",
                      "#00cc96",
                      "#ab63fa",
                      "#FFA15A",
                      "#19d3f3",
                      "#FF6692",
                      "#B6E880",
                      "#FF97FF",
                      "#FECB52"
                    ],
                    "font": {
                      "color": "#2a3f5f"
                    },
                    "geo": {
                      "bgcolor": "white",
                      "lakecolor": "white",
                      "landcolor": "#E5ECF6",
                      "showlakes": true,
                      "showland": true,
                      "subunitcolor": "white"
                    },
                    "hoverlabel": {
                      "align": "left"
                    },
                    "hovermode": "closest",
                    "mapbox": {
                      "style": "light"
                    },
                    "paper_bgcolor": "white",
                    "plot_bgcolor": "#E5ECF6",
                    "polar": {
                      "angularaxis": {
                        "gridcolor": "white",
                        "linecolor": "white",
                        "ticks": ""
                      },
                      "bgcolor": "#E5ECF6",
                      "radialaxis": {
                        "gridcolor": "white",
                        "linecolor": "white",
                        "ticks": ""
                      }
                    },
                    "scene": {
                      "xaxis": {
                        "backgroundcolor": "#E5ECF6",
                        "gridcolor": "white",
                        "gridwidth": 2,
                        "linecolor": "white",
                        "showbackground": true,
                        "ticks": "",
                        "zerolinecolor": "white"
                      },
                      "yaxis": {
                        "backgroundcolor": "#E5ECF6",
                        "gridcolor": "white",
                        "gridwidth": 2,
                        "linecolor": "white",
                        "showbackground": true,
                        "ticks": "",
                        "zerolinecolor": "white"
                      },
                      "zaxis": {
                        "backgroundcolor": "#E5ECF6",
                        "gridcolor": "white",
                        "gridwidth": 2,
                        "linecolor": "white",
                        "showbackground": true,
                        "ticks": "",
                        "zerolinecolor": "white"
                      }
                    },
                    "shapedefaults": {
                      "line": {
                        "color": "#2a3f5f"
                      }
                    },
                    "ternary": {
                      "aaxis": {
                        "gridcolor": "white",
                        "linecolor": "white",
                        "ticks": ""
                      },
                      "baxis": {
                        "gridcolor": "white",
                        "linecolor": "white",
                        "ticks": ""
                      },
                      "bgcolor": "#E5ECF6",
                      "caxis": {
                        "gridcolor": "white",
                        "linecolor": "white",
                        "ticks": ""
                      }
                    },
                    "title": {
                      "x": 0.05
                    },
                    "xaxis": {
                      "automargin": true,
                      "gridcolor": "white",
                      "linecolor": "white",
                      "ticks": "",
                      "title": {
                        "standoff": 15
                      },
                      "zerolinecolor": "white",
                      "zerolinewidth": 2
                    },
                    "yaxis": {
                      "automargin": true,
                      "gridcolor": "white",
                      "linecolor": "white",
                      "ticks": "",
                      "title": {
                        "standoff": 15
                      },
                      "zerolinecolor": "white",
                      "zerolinewidth": 2
                    }
                  }
                },
                "title": {
                  "text": "Tree of Most Common Words"
                }
              }
            },
            "text/html": [
              "<div>\n",
              "        \n",
              "        \n",
              "            <div id=\"5e931e26-9a71-4eba-b1f2-efc83d485f62\" class=\"plotly-graph-div\" style=\"height:525px; width:100%;\"></div>\n",
              "            <script type=\"text/javascript\">\n",
              "                require([\"plotly\"], function(Plotly) {\n",
              "                    window.PLOTLYENV=window.PLOTLYENV || {};\n",
              "                    \n",
              "                if (document.getElementById(\"5e931e26-9a71-4eba-b1f2-efc83d485f62\")) {\n",
              "                    Plotly.newPlot(\n",
              "                        '5e931e26-9a71-4eba-b1f2-efc83d485f62',\n",
              "                        [{\"branchvalues\": \"total\", \"domain\": {\"x\": [0.0, 1.0], \"y\": [0.0, 1.0]}, \"hovertemplate\": \"labels=%{label}<br>count=%{value}<br>parent=%{parent}<br>id=%{id}<extra></extra>\", \"ids\": [\"amazing\", \"beautiful\", \"best\", \"day\", \"family\", \"happy\", \"hope\", \"know\", \"love\", \"mother\", \"mothers\", \"mothersday\", \"mum\", \"mums\", \"one\", \"thank\", \"today\", \"us\", \"wonderful\", \"world\"], \"labels\": [\"amazing\", \"beautiful\", \"best\", \"day\", \"family\", \"happy\", \"hope\", \"know\", \"love\", \"mother\", \"mothers\", \"mothersday\", \"mum\", \"mums\", \"one\", \"thank\", \"today\", \"us\", \"wonderful\", \"world\"], \"name\": \"\", \"parents\": [\"\", \"\", \"\", \"\", \"\", \"\", \"\", \"\", \"\", \"\", \"\", \"\", \"\", \"\", \"\", \"\", \"\", \"\", \"\", \"\"], \"type\": \"treemap\", \"values\": [334, 223, 227, 3727, 213, 3429, 295, 223, 925, 446, 3972, 1603, 891, 783, 241, 278, 526, 390, 255, 262]}],\n",
              "                        {\"legend\": {\"tracegroupgap\": 0}, \"template\": {\"data\": {\"bar\": [{\"error_x\": {\"color\": \"#2a3f5f\"}, \"error_y\": {\"color\": \"#2a3f5f\"}, \"marker\": {\"line\": {\"color\": \"#E5ECF6\", \"width\": 0.5}}, \"type\": \"bar\"}], \"barpolar\": [{\"marker\": {\"line\": {\"color\": \"#E5ECF6\", \"width\": 0.5}}, \"type\": \"barpolar\"}], \"carpet\": [{\"aaxis\": {\"endlinecolor\": \"#2a3f5f\", \"gridcolor\": \"white\", \"linecolor\": \"white\", \"minorgridcolor\": \"white\", \"startlinecolor\": \"#2a3f5f\"}, \"baxis\": {\"endlinecolor\": \"#2a3f5f\", \"gridcolor\": \"white\", \"linecolor\": \"white\", \"minorgridcolor\": \"white\", \"startlinecolor\": \"#2a3f5f\"}, \"type\": \"carpet\"}], \"choropleth\": [{\"colorbar\": {\"outlinewidth\": 0, \"ticks\": \"\"}, \"type\": \"choropleth\"}], \"contour\": [{\"colorbar\": {\"outlinewidth\": 0, \"ticks\": \"\"}, \"colorscale\": [[0.0, \"#0d0887\"], [0.1111111111111111, \"#46039f\"], [0.2222222222222222, \"#7201a8\"], [0.3333333333333333, \"#9c179e\"], [0.4444444444444444, \"#bd3786\"], [0.5555555555555556, \"#d8576b\"], [0.6666666666666666, \"#ed7953\"], [0.7777777777777778, \"#fb9f3a\"], [0.8888888888888888, \"#fdca26\"], [1.0, \"#f0f921\"]], \"type\": \"contour\"}], \"contourcarpet\": [{\"colorbar\": {\"outlinewidth\": 0, \"ticks\": \"\"}, \"type\": \"contourcarpet\"}], \"heatmap\": [{\"colorbar\": {\"outlinewidth\": 0, \"ticks\": \"\"}, \"colorscale\": [[0.0, \"#0d0887\"], [0.1111111111111111, \"#46039f\"], [0.2222222222222222, \"#7201a8\"], [0.3333333333333333, \"#9c179e\"], [0.4444444444444444, \"#bd3786\"], [0.5555555555555556, \"#d8576b\"], [0.6666666666666666, \"#ed7953\"], [0.7777777777777778, \"#fb9f3a\"], [0.8888888888888888, \"#fdca26\"], [1.0, \"#f0f921\"]], \"type\": \"heatmap\"}], \"heatmapgl\": [{\"colorbar\": {\"outlinewidth\": 0, \"ticks\": \"\"}, \"colorscale\": [[0.0, \"#0d0887\"], [0.1111111111111111, \"#46039f\"], [0.2222222222222222, \"#7201a8\"], [0.3333333333333333, \"#9c179e\"], [0.4444444444444444, \"#bd3786\"], [0.5555555555555556, \"#d8576b\"], [0.6666666666666666, \"#ed7953\"], [0.7777777777777778, \"#fb9f3a\"], [0.8888888888888888, \"#fdca26\"], [1.0, \"#f0f921\"]], \"type\": \"heatmapgl\"}], \"histogram\": [{\"marker\": {\"colorbar\": {\"outlinewidth\": 0, \"ticks\": \"\"}}, \"type\": \"histogram\"}], \"histogram2d\": [{\"colorbar\": {\"outlinewidth\": 0, \"ticks\": \"\"}, \"colorscale\": [[0.0, \"#0d0887\"], [0.1111111111111111, \"#46039f\"], [0.2222222222222222, \"#7201a8\"], [0.3333333333333333, \"#9c179e\"], [0.4444444444444444, \"#bd3786\"], [0.5555555555555556, \"#d8576b\"], [0.6666666666666666, \"#ed7953\"], [0.7777777777777778, \"#fb9f3a\"], [0.8888888888888888, \"#fdca26\"], [1.0, \"#f0f921\"]], \"type\": \"histogram2d\"}], \"histogram2dcontour\": [{\"colorbar\": {\"outlinewidth\": 0, \"ticks\": \"\"}, \"colorscale\": [[0.0, \"#0d0887\"], [0.1111111111111111, \"#46039f\"], [0.2222222222222222, \"#7201a8\"], [0.3333333333333333, \"#9c179e\"], [0.4444444444444444, \"#bd3786\"], [0.5555555555555556, \"#d8576b\"], [0.6666666666666666, \"#ed7953\"], [0.7777777777777778, \"#fb9f3a\"], [0.8888888888888888, \"#fdca26\"], [1.0, \"#f0f921\"]], \"type\": \"histogram2dcontour\"}], \"mesh3d\": [{\"colorbar\": {\"outlinewidth\": 0, \"ticks\": \"\"}, \"type\": \"mesh3d\"}], \"parcoords\": [{\"line\": {\"colorbar\": {\"outlinewidth\": 0, \"ticks\": \"\"}}, \"type\": \"parcoords\"}], \"pie\": [{\"automargin\": true, \"type\": \"pie\"}], \"scatter\": [{\"marker\": {\"colorbar\": {\"outlinewidth\": 0, \"ticks\": \"\"}}, \"type\": \"scatter\"}], \"scatter3d\": [{\"line\": {\"colorbar\": {\"outlinewidth\": 0, \"ticks\": \"\"}}, \"marker\": {\"colorbar\": {\"outlinewidth\": 0, \"ticks\": \"\"}}, \"type\": \"scatter3d\"}], \"scattercarpet\": [{\"marker\": {\"colorbar\": {\"outlinewidth\": 0, \"ticks\": \"\"}}, \"type\": \"scattercarpet\"}], \"scattergeo\": [{\"marker\": {\"colorbar\": {\"outlinewidth\": 0, \"ticks\": \"\"}}, \"type\": \"scattergeo\"}], \"scattergl\": [{\"marker\": {\"colorbar\": {\"outlinewidth\": 0, \"ticks\": \"\"}}, \"type\": \"scattergl\"}], \"scattermapbox\": [{\"marker\": {\"colorbar\": {\"outlinewidth\": 0, \"ticks\": \"\"}}, \"type\": \"scattermapbox\"}], \"scatterpolar\": [{\"marker\": {\"colorbar\": {\"outlinewidth\": 0, \"ticks\": \"\"}}, \"type\": \"scatterpolar\"}], \"scatterpolargl\": [{\"marker\": {\"colorbar\": {\"outlinewidth\": 0, \"ticks\": \"\"}}, \"type\": \"scatterpolargl\"}], \"scatterternary\": [{\"marker\": {\"colorbar\": {\"outlinewidth\": 0, \"ticks\": \"\"}}, \"type\": \"scatterternary\"}], \"surface\": [{\"colorbar\": {\"outlinewidth\": 0, \"ticks\": \"\"}, \"colorscale\": [[0.0, \"#0d0887\"], [0.1111111111111111, \"#46039f\"], [0.2222222222222222, \"#7201a8\"], [0.3333333333333333, \"#9c179e\"], [0.4444444444444444, \"#bd3786\"], [0.5555555555555556, \"#d8576b\"], [0.6666666666666666, \"#ed7953\"], [0.7777777777777778, \"#fb9f3a\"], [0.8888888888888888, \"#fdca26\"], [1.0, \"#f0f921\"]], \"type\": \"surface\"}], \"table\": [{\"cells\": {\"fill\": {\"color\": \"#EBF0F8\"}, \"line\": {\"color\": \"white\"}}, \"header\": {\"fill\": {\"color\": \"#C8D4E3\"}, \"line\": {\"color\": \"white\"}}, \"type\": \"table\"}]}, \"layout\": {\"annotationdefaults\": {\"arrowcolor\": \"#2a3f5f\", \"arrowhead\": 0, \"arrowwidth\": 1}, \"coloraxis\": {\"colorbar\": {\"outlinewidth\": 0, \"ticks\": \"\"}}, \"colorscale\": {\"diverging\": [[0, \"#8e0152\"], [0.1, \"#c51b7d\"], [0.2, \"#de77ae\"], [0.3, \"#f1b6da\"], [0.4, \"#fde0ef\"], [0.5, \"#f7f7f7\"], [0.6, \"#e6f5d0\"], [0.7, \"#b8e186\"], [0.8, \"#7fbc41\"], [0.9, \"#4d9221\"], [1, \"#276419\"]], \"sequential\": [[0.0, \"#0d0887\"], [0.1111111111111111, \"#46039f\"], [0.2222222222222222, \"#7201a8\"], [0.3333333333333333, \"#9c179e\"], [0.4444444444444444, \"#bd3786\"], [0.5555555555555556, \"#d8576b\"], [0.6666666666666666, \"#ed7953\"], [0.7777777777777778, \"#fb9f3a\"], [0.8888888888888888, \"#fdca26\"], [1.0, \"#f0f921\"]], \"sequentialminus\": [[0.0, \"#0d0887\"], [0.1111111111111111, \"#46039f\"], [0.2222222222222222, \"#7201a8\"], [0.3333333333333333, \"#9c179e\"], [0.4444444444444444, \"#bd3786\"], [0.5555555555555556, \"#d8576b\"], [0.6666666666666666, \"#ed7953\"], [0.7777777777777778, \"#fb9f3a\"], [0.8888888888888888, \"#fdca26\"], [1.0, \"#f0f921\"]]}, \"colorway\": [\"#636efa\", \"#EF553B\", \"#00cc96\", \"#ab63fa\", \"#FFA15A\", \"#19d3f3\", \"#FF6692\", \"#B6E880\", \"#FF97FF\", \"#FECB52\"], \"font\": {\"color\": \"#2a3f5f\"}, \"geo\": {\"bgcolor\": \"white\", \"lakecolor\": \"white\", \"landcolor\": \"#E5ECF6\", \"showlakes\": true, \"showland\": true, \"subunitcolor\": \"white\"}, \"hoverlabel\": {\"align\": \"left\"}, \"hovermode\": \"closest\", \"mapbox\": {\"style\": \"light\"}, \"paper_bgcolor\": \"white\", \"plot_bgcolor\": \"#E5ECF6\", \"polar\": {\"angularaxis\": {\"gridcolor\": \"white\", \"linecolor\": \"white\", \"ticks\": \"\"}, \"bgcolor\": \"#E5ECF6\", \"radialaxis\": {\"gridcolor\": \"white\", \"linecolor\": \"white\", \"ticks\": \"\"}}, \"scene\": {\"xaxis\": {\"backgroundcolor\": \"#E5ECF6\", \"gridcolor\": \"white\", \"gridwidth\": 2, \"linecolor\": \"white\", \"showbackground\": true, \"ticks\": \"\", \"zerolinecolor\": \"white\"}, \"yaxis\": {\"backgroundcolor\": \"#E5ECF6\", \"gridcolor\": \"white\", \"gridwidth\": 2, \"linecolor\": \"white\", \"showbackground\": true, \"ticks\": \"\", \"zerolinecolor\": \"white\"}, \"zaxis\": {\"backgroundcolor\": \"#E5ECF6\", \"gridcolor\": \"white\", \"gridwidth\": 2, \"linecolor\": \"white\", \"showbackground\": true, \"ticks\": \"\", \"zerolinecolor\": \"white\"}}, \"shapedefaults\": {\"line\": {\"color\": \"#2a3f5f\"}}, \"ternary\": {\"aaxis\": {\"gridcolor\": \"white\", \"linecolor\": \"white\", \"ticks\": \"\"}, \"baxis\": {\"gridcolor\": \"white\", \"linecolor\": \"white\", \"ticks\": \"\"}, \"bgcolor\": \"#E5ECF6\", \"caxis\": {\"gridcolor\": \"white\", \"linecolor\": \"white\", \"ticks\": \"\"}}, \"title\": {\"x\": 0.05}, \"xaxis\": {\"automargin\": true, \"gridcolor\": \"white\", \"linecolor\": \"white\", \"ticks\": \"\", \"title\": {\"standoff\": 15}, \"zerolinecolor\": \"white\", \"zerolinewidth\": 2}, \"yaxis\": {\"automargin\": true, \"gridcolor\": \"white\", \"linecolor\": \"white\", \"ticks\": \"\", \"title\": {\"standoff\": 15}, \"zerolinecolor\": \"white\", \"zerolinewidth\": 2}}}, \"title\": {\"text\": \"Tree of Most Common Words\"}},\n",
              "                        {\"responsive\": true}\n",
              "                    ).then(function(){\n",
              "                            \n",
              "var gd = document.getElementById('5e931e26-9a71-4eba-b1f2-efc83d485f62');\n",
              "var x = new MutationObserver(function (mutations, observer) {{\n",
              "        var display = window.getComputedStyle(gd).display;\n",
              "        if (!display || display === 'none') {{\n",
              "            console.log([gd, 'removed!']);\n",
              "            Plotly.purge(gd);\n",
              "            observer.disconnect();\n",
              "        }}\n",
              "}});\n",
              "\n",
              "// Listen for the removal of the full notebook cells\n",
              "var notebookContainer = gd.closest('#notebook-container');\n",
              "if (notebookContainer) {{\n",
              "    x.observe(notebookContainer, {childList: true});\n",
              "}}\n",
              "\n",
              "// Listen for the clearing of the current output cell\n",
              "var outputEl = gd.closest('.output');\n",
              "if (outputEl) {{\n",
              "    x.observe(outputEl, {childList: true});\n",
              "}}\n",
              "\n",
              "                        })\n",
              "                };\n",
              "                });\n",
              "            </script>\n",
              "        </div>"
            ]
          },
          "metadata": {
            "tags": []
          }
        }
      ]
    },
    {
      "cell_type": "code",
      "metadata": {
        "id": "OlDULtDvgWoo",
        "colab_type": "code",
        "colab": {}
      },
      "source": [
        "positive_sent = train[train['sentiment_class'] == 1]\n",
        "negative_sent = train[train['sentiment_class'] == -1]\n",
        "neutral_sent = train[train['sentiment_class'] == 0]"
      ],
      "execution_count": null,
      "outputs": []
    },
    {
      "cell_type": "code",
      "metadata": {
        "id": "2kOY-HSYgWor",
        "colab_type": "code",
        "colab": {},
        "outputId": "37c277fd-5c49-4c62-f466-dd07bd82fa21"
      },
      "source": [
        "# Most common positive words\n",
        "top = Counter([item for sublist in positive_sent['temp_list'] for item in sublist])\n",
        "temp_positive = pd.DataFrame(top.most_common(20))\n",
        "temp_positive.columns = ['Common_words','count']\n",
        "temp_positive.style.background_gradient(cmap='Greens')"
      ],
      "execution_count": null,
      "outputs": [
        {
          "output_type": "execute_result",
          "data": {
            "text/html": [
              "<style  type=\"text/css\" >\n",
              "    #T_a349002a_a552_11ea_8514_99ad24f6662erow0_col1 {\n",
              "            background-color:  #00441b;\n",
              "            color:  #f1f1f1;\n",
              "        }    #T_a349002a_a552_11ea_8514_99ad24f6662erow1_col1 {\n",
              "            background-color:  #006227;\n",
              "            color:  #f1f1f1;\n",
              "        }    #T_a349002a_a552_11ea_8514_99ad24f6662erow2_col1 {\n",
              "            background-color:  #0a7633;\n",
              "            color:  #f1f1f1;\n",
              "        }    #T_a349002a_a552_11ea_8514_99ad24f6662erow3_col1 {\n",
              "            background-color:  #a5db9f;\n",
              "            color:  #000000;\n",
              "        }    #T_a349002a_a552_11ea_8514_99ad24f6662erow4_col1 {\n",
              "            background-color:  #d9f0d3;\n",
              "            color:  #000000;\n",
              "        }    #T_a349002a_a552_11ea_8514_99ad24f6662erow5_col1 {\n",
              "            background-color:  #d9f0d3;\n",
              "            color:  #000000;\n",
              "        }    #T_a349002a_a552_11ea_8514_99ad24f6662erow6_col1 {\n",
              "            background-color:  #e2f4dd;\n",
              "            color:  #000000;\n",
              "        }    #T_a349002a_a552_11ea_8514_99ad24f6662erow7_col1 {\n",
              "            background-color:  #edf8e9;\n",
              "            color:  #000000;\n",
              "        }    #T_a349002a_a552_11ea_8514_99ad24f6662erow8_col1 {\n",
              "            background-color:  #eff9eb;\n",
              "            color:  #000000;\n",
              "        }    #T_a349002a_a552_11ea_8514_99ad24f6662erow9_col1 {\n",
              "            background-color:  #f1faee;\n",
              "            color:  #000000;\n",
              "        }    #T_a349002a_a552_11ea_8514_99ad24f6662erow10_col1 {\n",
              "            background-color:  #f2faef;\n",
              "            color:  #000000;\n",
              "        }    #T_a349002a_a552_11ea_8514_99ad24f6662erow11_col1 {\n",
              "            background-color:  #f5fbf2;\n",
              "            color:  #000000;\n",
              "        }    #T_a349002a_a552_11ea_8514_99ad24f6662erow12_col1 {\n",
              "            background-color:  #f5fbf3;\n",
              "            color:  #000000;\n",
              "        }    #T_a349002a_a552_11ea_8514_99ad24f6662erow13_col1 {\n",
              "            background-color:  #f6fcf4;\n",
              "            color:  #000000;\n",
              "        }    #T_a349002a_a552_11ea_8514_99ad24f6662erow14_col1 {\n",
              "            background-color:  #f6fcf4;\n",
              "            color:  #000000;\n",
              "        }    #T_a349002a_a552_11ea_8514_99ad24f6662erow15_col1 {\n",
              "            background-color:  #f6fcf4;\n",
              "            color:  #000000;\n",
              "        }    #T_a349002a_a552_11ea_8514_99ad24f6662erow16_col1 {\n",
              "            background-color:  #f7fcf5;\n",
              "            color:  #000000;\n",
              "        }    #T_a349002a_a552_11ea_8514_99ad24f6662erow17_col1 {\n",
              "            background-color:  #f7fcf5;\n",
              "            color:  #000000;\n",
              "        }    #T_a349002a_a552_11ea_8514_99ad24f6662erow18_col1 {\n",
              "            background-color:  #f7fcf5;\n",
              "            color:  #000000;\n",
              "        }    #T_a349002a_a552_11ea_8514_99ad24f6662erow19_col1 {\n",
              "            background-color:  #f7fcf5;\n",
              "            color:  #000000;\n",
              "        }</style><table id=\"T_a349002a_a552_11ea_8514_99ad24f6662e\" ><thead>    <tr>        <th class=\"blank level0\" ></th>        <th class=\"col_heading level0 col0\" >Common_words</th>        <th class=\"col_heading level0 col1\" >count</th>    </tr></thead><tbody>\n",
              "                <tr>\n",
              "                        <th id=\"T_a349002a_a552_11ea_8514_99ad24f6662elevel0_row0\" class=\"row_heading level0 row0\" >0</th>\n",
              "                        <td id=\"T_a349002a_a552_11ea_8514_99ad24f6662erow0_col0\" class=\"data row0 col0\" >mothers</td>\n",
              "                        <td id=\"T_a349002a_a552_11ea_8514_99ad24f6662erow0_col1\" class=\"data row0 col1\" >953</td>\n",
              "            </tr>\n",
              "            <tr>\n",
              "                        <th id=\"T_a349002a_a552_11ea_8514_99ad24f6662elevel0_row1\" class=\"row_heading level0 row1\" >1</th>\n",
              "                        <td id=\"T_a349002a_a552_11ea_8514_99ad24f6662erow1_col0\" class=\"data row1 col0\" >day</td>\n",
              "                        <td id=\"T_a349002a_a552_11ea_8514_99ad24f6662erow1_col1\" class=\"data row1 col1\" >870</td>\n",
              "            </tr>\n",
              "            <tr>\n",
              "                        <th id=\"T_a349002a_a552_11ea_8514_99ad24f6662elevel0_row2\" class=\"row_heading level0 row2\" >2</th>\n",
              "                        <td id=\"T_a349002a_a552_11ea_8514_99ad24f6662erow2_col0\" class=\"data row2 col0\" >happy</td>\n",
              "                        <td id=\"T_a349002a_a552_11ea_8514_99ad24f6662erow2_col1\" class=\"data row2 col1\" >808</td>\n",
              "            </tr>\n",
              "            <tr>\n",
              "                        <th id=\"T_a349002a_a552_11ea_8514_99ad24f6662elevel0_row3\" class=\"row_heading level0 row3\" >3</th>\n",
              "                        <td id=\"T_a349002a_a552_11ea_8514_99ad24f6662erow3_col0\" class=\"data row3 col0\" >mothersday</td>\n",
              "                        <td id=\"T_a349002a_a552_11ea_8514_99ad24f6662erow3_col1\" class=\"data row3 col1\" >378</td>\n",
              "            </tr>\n",
              "            <tr>\n",
              "                        <th id=\"T_a349002a_a552_11ea_8514_99ad24f6662elevel0_row4\" class=\"row_heading level0 row4\" >4</th>\n",
              "                        <td id=\"T_a349002a_a552_11ea_8514_99ad24f6662erow4_col0\" class=\"data row4 col0\" >love</td>\n",
              "                        <td id=\"T_a349002a_a552_11ea_8514_99ad24f6662erow4_col1\" class=\"data row4 col1\" >214</td>\n",
              "            </tr>\n",
              "            <tr>\n",
              "                        <th id=\"T_a349002a_a552_11ea_8514_99ad24f6662elevel0_row5\" class=\"row_heading level0 row5\" >5</th>\n",
              "                        <td id=\"T_a349002a_a552_11ea_8514_99ad24f6662erow5_col0\" class=\"data row5 col0\" >mum</td>\n",
              "                        <td id=\"T_a349002a_a552_11ea_8514_99ad24f6662erow5_col1\" class=\"data row5 col1\" >214</td>\n",
              "            </tr>\n",
              "            <tr>\n",
              "                        <th id=\"T_a349002a_a552_11ea_8514_99ad24f6662elevel0_row6\" class=\"row_heading level0 row6\" >6</th>\n",
              "                        <td id=\"T_a349002a_a552_11ea_8514_99ad24f6662erow6_col0\" class=\"data row6 col0\" >mums</td>\n",
              "                        <td id=\"T_a349002a_a552_11ea_8514_99ad24f6662erow6_col1\" class=\"data row6 col1\" >179</td>\n",
              "            </tr>\n",
              "            <tr>\n",
              "                        <th id=\"T_a349002a_a552_11ea_8514_99ad24f6662elevel0_row7\" class=\"row_heading level0 row7\" >7</th>\n",
              "                        <td id=\"T_a349002a_a552_11ea_8514_99ad24f6662erow7_col0\" class=\"data row7 col0\" >today</td>\n",
              "                        <td id=\"T_a349002a_a552_11ea_8514_99ad24f6662erow7_col1\" class=\"data row7 col1\" >119</td>\n",
              "            </tr>\n",
              "            <tr>\n",
              "                        <th id=\"T_a349002a_a552_11ea_8514_99ad24f6662elevel0_row8\" class=\"row_heading level0 row8\" >8</th>\n",
              "                        <td id=\"T_a349002a_a552_11ea_8514_99ad24f6662erow8_col0\" class=\"data row8 col0\" >mother</td>\n",
              "                        <td id=\"T_a349002a_a552_11ea_8514_99ad24f6662erow8_col1\" class=\"data row8 col1\" >106</td>\n",
              "            </tr>\n",
              "            <tr>\n",
              "                        <th id=\"T_a349002a_a552_11ea_8514_99ad24f6662elevel0_row9\" class=\"row_heading level0 row9\" >9</th>\n",
              "                        <td id=\"T_a349002a_a552_11ea_8514_99ad24f6662erow9_col0\" class=\"data row9 col0\" >us</td>\n",
              "                        <td id=\"T_a349002a_a552_11ea_8514_99ad24f6662erow9_col1\" class=\"data row9 col1\" >94</td>\n",
              "            </tr>\n",
              "            <tr>\n",
              "                        <th id=\"T_a349002a_a552_11ea_8514_99ad24f6662elevel0_row10\" class=\"row_heading level0 row10\" >10</th>\n",
              "                        <td id=\"T_a349002a_a552_11ea_8514_99ad24f6662erow10_col0\" class=\"data row10 col0\" >amazing</td>\n",
              "                        <td id=\"T_a349002a_a552_11ea_8514_99ad24f6662erow10_col1\" class=\"data row10 col1\" >85</td>\n",
              "            </tr>\n",
              "            <tr>\n",
              "                        <th id=\"T_a349002a_a552_11ea_8514_99ad24f6662elevel0_row11\" class=\"row_heading level0 row11\" >11</th>\n",
              "                        <td id=\"T_a349002a_a552_11ea_8514_99ad24f6662erow11_col0\" class=\"data row11 col0\" >wonderful</td>\n",
              "                        <td id=\"T_a349002a_a552_11ea_8514_99ad24f6662erow11_col1\" class=\"data row11 col1\" >68</td>\n",
              "            </tr>\n",
              "            <tr>\n",
              "                        <th id=\"T_a349002a_a552_11ea_8514_99ad24f6662elevel0_row12\" class=\"row_heading level0 row12\" >12</th>\n",
              "                        <td id=\"T_a349002a_a552_11ea_8514_99ad24f6662erow12_col0\" class=\"data row12 col0\" >hope</td>\n",
              "                        <td id=\"T_a349002a_a552_11ea_8514_99ad24f6662erow12_col1\" class=\"data row12 col1\" >67</td>\n",
              "            </tr>\n",
              "            <tr>\n",
              "                        <th id=\"T_a349002a_a552_11ea_8514_99ad24f6662elevel0_row13\" class=\"row_heading level0 row13\" >13</th>\n",
              "                        <td id=\"T_a349002a_a552_11ea_8514_99ad24f6662erow13_col0\" class=\"data row13 col0\" >thank</td>\n",
              "                        <td id=\"T_a349002a_a552_11ea_8514_99ad24f6662erow13_col1\" class=\"data row13 col1\" >63</td>\n",
              "            </tr>\n",
              "            <tr>\n",
              "                        <th id=\"T_a349002a_a552_11ea_8514_99ad24f6662elevel0_row14\" class=\"row_heading level0 row14\" >14</th>\n",
              "                        <td id=\"T_a349002a_a552_11ea_8514_99ad24f6662erow14_col0\" class=\"data row14 col0\" >world</td>\n",
              "                        <td id=\"T_a349002a_a552_11ea_8514_99ad24f6662erow14_col1\" class=\"data row14 col1\" >63</td>\n",
              "            </tr>\n",
              "            <tr>\n",
              "                        <th id=\"T_a349002a_a552_11ea_8514_99ad24f6662elevel0_row15\" class=\"row_heading level0 row15\" >15</th>\n",
              "                        <td id=\"T_a349002a_a552_11ea_8514_99ad24f6662erow15_col0\" class=\"data row15 col0\" >beautiful</td>\n",
              "                        <td id=\"T_a349002a_a552_11ea_8514_99ad24f6662erow15_col1\" class=\"data row15 col1\" >61</td>\n",
              "            </tr>\n",
              "            <tr>\n",
              "                        <th id=\"T_a349002a_a552_11ea_8514_99ad24f6662elevel0_row16\" class=\"row_heading level0 row16\" >16</th>\n",
              "                        <td id=\"T_a349002a_a552_11ea_8514_99ad24f6662erow16_col0\" class=\"data row16 col0\" >safe</td>\n",
              "                        <td id=\"T_a349002a_a552_11ea_8514_99ad24f6662erow16_col1\" class=\"data row16 col1\" >55</td>\n",
              "            </tr>\n",
              "            <tr>\n",
              "                        <th id=\"T_a349002a_a552_11ea_8514_99ad24f6662elevel0_row17\" class=\"row_heading level0 row17\" >17</th>\n",
              "                        <td id=\"T_a349002a_a552_11ea_8514_99ad24f6662erow17_col0\" class=\"data row17 col0\" >much</td>\n",
              "                        <td id=\"T_a349002a_a552_11ea_8514_99ad24f6662erow17_col1\" class=\"data row17 col1\" >55</td>\n",
              "            </tr>\n",
              "            <tr>\n",
              "                        <th id=\"T_a349002a_a552_11ea_8514_99ad24f6662elevel0_row18\" class=\"row_heading level0 row18\" >18</th>\n",
              "                        <td id=\"T_a349002a_a552_11ea_8514_99ad24f6662erow18_col0\" class=\"data row18 col0\" >best</td>\n",
              "                        <td id=\"T_a349002a_a552_11ea_8514_99ad24f6662erow18_col1\" class=\"data row18 col1\" >54</td>\n",
              "            </tr>\n",
              "            <tr>\n",
              "                        <th id=\"T_a349002a_a552_11ea_8514_99ad24f6662elevel0_row19\" class=\"row_heading level0 row19\" >19</th>\n",
              "                        <td id=\"T_a349002a_a552_11ea_8514_99ad24f6662erow19_col0\" class=\"data row19 col0\" >wish</td>\n",
              "                        <td id=\"T_a349002a_a552_11ea_8514_99ad24f6662erow19_col1\" class=\"data row19 col1\" >53</td>\n",
              "            </tr>\n",
              "    </tbody></table>"
            ],
            "text/plain": [
              "<pandas.io.formats.style.Styler at 0x7fe281360910>"
            ]
          },
          "metadata": {
            "tags": []
          },
          "execution_count": 153
        }
      ]
    },
    {
      "cell_type": "code",
      "metadata": {
        "id": "QspZEGOegWou",
        "colab_type": "code",
        "colab": {},
        "outputId": "a907e0a6-1b59-420d-aa0c-c3c21c0ab8ff"
      },
      "source": [
        "# Most common negative words\n",
        "top = Counter([item for sublist in negative_sent['temp_list'] for item in sublist])\n",
        "temp_negative = pd.DataFrame(top.most_common(20))\n",
        "temp_negative = temp_negative.iloc[1:,:]\n",
        "temp_negative.columns = ['Common_words','count']\n",
        "temp_negative.style.background_gradient(cmap='Reds')"
      ],
      "execution_count": null,
      "outputs": [
        {
          "output_type": "execute_result",
          "data": {
            "text/html": [
              "<style  type=\"text/css\" >\n",
              "    #T_a35cded8_a552_11ea_8514_99ad24f6662erow0_col1 {\n",
              "            background-color:  #67000d;\n",
              "            color:  #f1f1f1;\n",
              "        }    #T_a35cded8_a552_11ea_8514_99ad24f6662erow1_col1 {\n",
              "            background-color:  #860811;\n",
              "            color:  #f1f1f1;\n",
              "        }    #T_a35cded8_a552_11ea_8514_99ad24f6662erow2_col1 {\n",
              "            background-color:  #fc8a6a;\n",
              "            color:  #000000;\n",
              "        }    #T_a35cded8_a552_11ea_8514_99ad24f6662erow3_col1 {\n",
              "            background-color:  #fcbda4;\n",
              "            color:  #000000;\n",
              "        }    #T_a35cded8_a552_11ea_8514_99ad24f6662erow4_col1 {\n",
              "            background-color:  #fdc5ae;\n",
              "            color:  #000000;\n",
              "        }    #T_a35cded8_a552_11ea_8514_99ad24f6662erow5_col1 {\n",
              "            background-color:  #fdd2bf;\n",
              "            color:  #000000;\n",
              "        }    #T_a35cded8_a552_11ea_8514_99ad24f6662erow6_col1 {\n",
              "            background-color:  #fee7db;\n",
              "            color:  #000000;\n",
              "        }    #T_a35cded8_a552_11ea_8514_99ad24f6662erow7_col1 {\n",
              "            background-color:  #fee9df;\n",
              "            color:  #000000;\n",
              "        }    #T_a35cded8_a552_11ea_8514_99ad24f6662erow8_col1 {\n",
              "            background-color:  #feeae1;\n",
              "            color:  #000000;\n",
              "        }    #T_a35cded8_a552_11ea_8514_99ad24f6662erow9_col1 {\n",
              "            background-color:  #fff0e9;\n",
              "            color:  #000000;\n",
              "        }    #T_a35cded8_a552_11ea_8514_99ad24f6662erow10_col1 {\n",
              "            background-color:  #fff1ea;\n",
              "            color:  #000000;\n",
              "        }    #T_a35cded8_a552_11ea_8514_99ad24f6662erow11_col1 {\n",
              "            background-color:  #fff2eb;\n",
              "            color:  #000000;\n",
              "        }    #T_a35cded8_a552_11ea_8514_99ad24f6662erow12_col1 {\n",
              "            background-color:  #fff2eb;\n",
              "            color:  #000000;\n",
              "        }    #T_a35cded8_a552_11ea_8514_99ad24f6662erow13_col1 {\n",
              "            background-color:  #fff2ec;\n",
              "            color:  #000000;\n",
              "        }    #T_a35cded8_a552_11ea_8514_99ad24f6662erow14_col1 {\n",
              "            background-color:  #fff4ee;\n",
              "            color:  #000000;\n",
              "        }    #T_a35cded8_a552_11ea_8514_99ad24f6662erow15_col1 {\n",
              "            background-color:  #fff4ef;\n",
              "            color:  #000000;\n",
              "        }    #T_a35cded8_a552_11ea_8514_99ad24f6662erow16_col1 {\n",
              "            background-color:  #fff5f0;\n",
              "            color:  #000000;\n",
              "        }    #T_a35cded8_a552_11ea_8514_99ad24f6662erow17_col1 {\n",
              "            background-color:  #fff5f0;\n",
              "            color:  #000000;\n",
              "        }    #T_a35cded8_a552_11ea_8514_99ad24f6662erow18_col1 {\n",
              "            background-color:  #fff5f0;\n",
              "            color:  #000000;\n",
              "        }</style><table id=\"T_a35cded8_a552_11ea_8514_99ad24f6662e\" ><thead>    <tr>        <th class=\"blank level0\" ></th>        <th class=\"col_heading level0 col0\" >Common_words</th>        <th class=\"col_heading level0 col1\" >count</th>    </tr></thead><tbody>\n",
              "                <tr>\n",
              "                        <th id=\"T_a35cded8_a552_11ea_8514_99ad24f6662elevel0_row0\" class=\"row_heading level0 row0\" >1</th>\n",
              "                        <td id=\"T_a35cded8_a552_11ea_8514_99ad24f6662erow0_col0\" class=\"data row0 col0\" >day</td>\n",
              "                        <td id=\"T_a35cded8_a552_11ea_8514_99ad24f6662erow0_col1\" class=\"data row0 col1\" >860</td>\n",
              "            </tr>\n",
              "            <tr>\n",
              "                        <th id=\"T_a35cded8_a552_11ea_8514_99ad24f6662elevel0_row1\" class=\"row_heading level0 row1\" >2</th>\n",
              "                        <td id=\"T_a35cded8_a552_11ea_8514_99ad24f6662erow1_col0\" class=\"data row1 col0\" >happy</td>\n",
              "                        <td id=\"T_a35cded8_a552_11ea_8514_99ad24f6662erow1_col1\" class=\"data row1 col1\" >808</td>\n",
              "            </tr>\n",
              "            <tr>\n",
              "                        <th id=\"T_a35cded8_a552_11ea_8514_99ad24f6662elevel0_row2\" class=\"row_heading level0 row2\" >3</th>\n",
              "                        <td id=\"T_a35cded8_a552_11ea_8514_99ad24f6662erow2_col0\" class=\"data row2 col0\" >mothersday</td>\n",
              "                        <td id=\"T_a35cded8_a552_11ea_8514_99ad24f6662erow2_col1\" class=\"data row2 col1\" >376</td>\n",
              "            </tr>\n",
              "            <tr>\n",
              "                        <th id=\"T_a35cded8_a552_11ea_8514_99ad24f6662elevel0_row3\" class=\"row_heading level0 row3\" >4</th>\n",
              "                        <td id=\"T_a35cded8_a552_11ea_8514_99ad24f6662erow3_col0\" class=\"data row3 col0\" >love</td>\n",
              "                        <td id=\"T_a35cded8_a552_11ea_8514_99ad24f6662erow3_col1\" class=\"data row3 col1\" >250</td>\n",
              "            </tr>\n",
              "            <tr>\n",
              "                        <th id=\"T_a35cded8_a552_11ea_8514_99ad24f6662elevel0_row4\" class=\"row_heading level0 row4\" >5</th>\n",
              "                        <td id=\"T_a35cded8_a552_11ea_8514_99ad24f6662erow4_col0\" class=\"data row4 col0\" >mum</td>\n",
              "                        <td id=\"T_a35cded8_a552_11ea_8514_99ad24f6662erow4_col1\" class=\"data row4 col1\" >227</td>\n",
              "            </tr>\n",
              "            <tr>\n",
              "                        <th id=\"T_a35cded8_a552_11ea_8514_99ad24f6662elevel0_row5\" class=\"row_heading level0 row5\" >6</th>\n",
              "                        <td id=\"T_a35cded8_a552_11ea_8514_99ad24f6662erow5_col0\" class=\"data row5 col0\" >mums</td>\n",
              "                        <td id=\"T_a35cded8_a552_11ea_8514_99ad24f6662erow5_col1\" class=\"data row5 col1\" >193</td>\n",
              "            </tr>\n",
              "            <tr>\n",
              "                        <th id=\"T_a35cded8_a552_11ea_8514_99ad24f6662elevel0_row6\" class=\"row_heading level0 row6\" >7</th>\n",
              "                        <td id=\"T_a35cded8_a552_11ea_8514_99ad24f6662erow6_col0\" class=\"data row6 col0\" >today</td>\n",
              "                        <td id=\"T_a35cded8_a552_11ea_8514_99ad24f6662erow6_col1\" class=\"data row6 col1\" >121</td>\n",
              "            </tr>\n",
              "            <tr>\n",
              "                        <th id=\"T_a35cded8_a552_11ea_8514_99ad24f6662elevel0_row7\" class=\"row_heading level0 row7\" >8</th>\n",
              "                        <td id=\"T_a35cded8_a552_11ea_8514_99ad24f6662erow7_col0\" class=\"data row7 col0\" >mother</td>\n",
              "                        <td id=\"T_a35cded8_a552_11ea_8514_99ad24f6662erow7_col1\" class=\"data row7 col1\" >109</td>\n",
              "            </tr>\n",
              "            <tr>\n",
              "                        <th id=\"T_a35cded8_a552_11ea_8514_99ad24f6662elevel0_row8\" class=\"row_heading level0 row8\" >9</th>\n",
              "                        <td id=\"T_a35cded8_a552_11ea_8514_99ad24f6662erow8_col0\" class=\"data row8 col0\" >us</td>\n",
              "                        <td id=\"T_a35cded8_a552_11ea_8514_99ad24f6662erow8_col1\" class=\"data row8 col1\" >104</td>\n",
              "            </tr>\n",
              "            <tr>\n",
              "                        <th id=\"T_a35cded8_a552_11ea_8514_99ad24f6662elevel0_row9\" class=\"row_heading level0 row9\" >10</th>\n",
              "                        <td id=\"T_a35cded8_a552_11ea_8514_99ad24f6662erow9_col0\" class=\"data row9 col0\" >hope</td>\n",
              "                        <td id=\"T_a35cded8_a552_11ea_8514_99ad24f6662erow9_col1\" class=\"data row9 col1\" >74</td>\n",
              "            </tr>\n",
              "            <tr>\n",
              "                        <th id=\"T_a35cded8_a552_11ea_8514_99ad24f6662elevel0_row10\" class=\"row_heading level0 row10\" >11</th>\n",
              "                        <td id=\"T_a35cded8_a552_11ea_8514_99ad24f6662erow10_col0\" class=\"data row10 col0\" >amazing</td>\n",
              "                        <td id=\"T_a35cded8_a552_11ea_8514_99ad24f6662erow10_col1\" class=\"data row10 col1\" >73</td>\n",
              "            </tr>\n",
              "            <tr>\n",
              "                        <th id=\"T_a35cded8_a552_11ea_8514_99ad24f6662elevel0_row11\" class=\"row_heading level0 row11\" >12</th>\n",
              "                        <td id=\"T_a35cded8_a552_11ea_8514_99ad24f6662erow11_col0\" class=\"data row11 col0\" >thank</td>\n",
              "                        <td id=\"T_a35cded8_a552_11ea_8514_99ad24f6662erow11_col1\" class=\"data row11 col1\" >69</td>\n",
              "            </tr>\n",
              "            <tr>\n",
              "                        <th id=\"T_a35cded8_a552_11ea_8514_99ad24f6662elevel0_row12\" class=\"row_heading level0 row12\" >13</th>\n",
              "                        <td id=\"T_a35cded8_a552_11ea_8514_99ad24f6662erow12_col0\" class=\"data row12 col0\" >one</td>\n",
              "                        <td id=\"T_a35cded8_a552_11ea_8514_99ad24f6662erow12_col1\" class=\"data row12 col1\" >67</td>\n",
              "            </tr>\n",
              "            <tr>\n",
              "                        <th id=\"T_a35cded8_a552_11ea_8514_99ad24f6662elevel0_row13\" class=\"row_heading level0 row13\" >14</th>\n",
              "                        <td id=\"T_a35cded8_a552_11ea_8514_99ad24f6662erow13_col0\" class=\"data row13 col0\" >world</td>\n",
              "                        <td id=\"T_a35cded8_a552_11ea_8514_99ad24f6662erow13_col1\" class=\"data row13 col1\" >65</td>\n",
              "            </tr>\n",
              "            <tr>\n",
              "                        <th id=\"T_a35cded8_a552_11ea_8514_99ad24f6662elevel0_row14\" class=\"row_heading level0 row14\" >15</th>\n",
              "                        <td id=\"T_a35cded8_a552_11ea_8514_99ad24f6662erow14_col0\" class=\"data row14 col0\" >like</td>\n",
              "                        <td id=\"T_a35cded8_a552_11ea_8514_99ad24f6662erow14_col1\" class=\"data row14 col1\" >59</td>\n",
              "            </tr>\n",
              "            <tr>\n",
              "                        <th id=\"T_a35cded8_a552_11ea_8514_99ad24f6662elevel0_row15\" class=\"row_heading level0 row15\" >16</th>\n",
              "                        <td id=\"T_a35cded8_a552_11ea_8514_99ad24f6662erow15_col0\" class=\"data row15 col0\" >wonderful</td>\n",
              "                        <td id=\"T_a35cded8_a552_11ea_8514_99ad24f6662erow15_col1\" class=\"data row15 col1\" >57</td>\n",
              "            </tr>\n",
              "            <tr>\n",
              "                        <th id=\"T_a35cded8_a552_11ea_8514_99ad24f6662elevel0_row16\" class=\"row_heading level0 row16\" >17</th>\n",
              "                        <td id=\"T_a35cded8_a552_11ea_8514_99ad24f6662erow16_col0\" class=\"data row16 col0\" >safe</td>\n",
              "                        <td id=\"T_a35cded8_a552_11ea_8514_99ad24f6662erow16_col1\" class=\"data row16 col1\" >52</td>\n",
              "            </tr>\n",
              "            <tr>\n",
              "                        <th id=\"T_a35cded8_a552_11ea_8514_99ad24f6662elevel0_row17\" class=\"row_heading level0 row17\" >18</th>\n",
              "                        <td id=\"T_a35cded8_a552_11ea_8514_99ad24f6662erow17_col0\" class=\"data row17 col0\" >lovely</td>\n",
              "                        <td id=\"T_a35cded8_a552_11ea_8514_99ad24f6662erow17_col1\" class=\"data row17 col1\" >52</td>\n",
              "            </tr>\n",
              "            <tr>\n",
              "                        <th id=\"T_a35cded8_a552_11ea_8514_99ad24f6662elevel0_row18\" class=\"row_heading level0 row18\" >19</th>\n",
              "                        <td id=\"T_a35cded8_a552_11ea_8514_99ad24f6662erow18_col0\" class=\"data row18 col0\" >always</td>\n",
              "                        <td id=\"T_a35cded8_a552_11ea_8514_99ad24f6662erow18_col1\" class=\"data row18 col1\" >51</td>\n",
              "            </tr>\n",
              "    </tbody></table>"
            ],
            "text/plain": [
              "<pandas.io.formats.style.Styler at 0x7fe281360790>"
            ]
          },
          "metadata": {
            "tags": []
          },
          "execution_count": 154
        }
      ]
    },
    {
      "cell_type": "code",
      "metadata": {
        "id": "iO1keD7cgWoy",
        "colab_type": "code",
        "colab": {},
        "outputId": "a2c6acf4-f3e9-430e-dd9a-685f02ab2233"
      },
      "source": [
        "# Most common Neutral words\n",
        "top = Counter([item for sublist in neutral_sent['temp_list'] for item in sublist])\n",
        "temp_neutral = pd.DataFrame(top.most_common(20))\n",
        "temp_neutral = temp_neutral.loc[1:,:]\n",
        "temp_neutral.columns = ['Common_words','count']\n",
        "temp_neutral.style.background_gradient(cmap='Blues')"
      ],
      "execution_count": null,
      "outputs": [
        {
          "output_type": "execute_result",
          "data": {
            "text/html": [
              "<style  type=\"text/css\" >\n",
              "    #T_a375544a_a552_11ea_8514_99ad24f6662erow0_col1 {\n",
              "            background-color:  #08306b;\n",
              "            color:  #f1f1f1;\n",
              "        }    #T_a375544a_a552_11ea_8514_99ad24f6662erow1_col1 {\n",
              "            background-color:  #084a91;\n",
              "            color:  #f1f1f1;\n",
              "        }    #T_a375544a_a552_11ea_8514_99ad24f6662erow2_col1 {\n",
              "            background-color:  #99c7e0;\n",
              "            color:  #000000;\n",
              "        }    #T_a375544a_a552_11ea_8514_99ad24f6662erow3_col1 {\n",
              "            background-color:  #d3e4f3;\n",
              "            color:  #000000;\n",
              "        }    #T_a375544a_a552_11ea_8514_99ad24f6662erow4_col1 {\n",
              "            background-color:  #d4e4f4;\n",
              "            color:  #000000;\n",
              "        }    #T_a375544a_a552_11ea_8514_99ad24f6662erow5_col1 {\n",
              "            background-color:  #d9e7f5;\n",
              "            color:  #000000;\n",
              "        }    #T_a375544a_a552_11ea_8514_99ad24f6662erow6_col1 {\n",
              "            background-color:  #e6f0f9;\n",
              "            color:  #000000;\n",
              "        }    #T_a375544a_a552_11ea_8514_99ad24f6662erow7_col1 {\n",
              "            background-color:  #ebf3fb;\n",
              "            color:  #000000;\n",
              "        }    #T_a375544a_a552_11ea_8514_99ad24f6662erow8_col1 {\n",
              "            background-color:  #f0f6fd;\n",
              "            color:  #000000;\n",
              "        }    #T_a375544a_a552_11ea_8514_99ad24f6662erow9_col1 {\n",
              "            background-color:  #f2f7fd;\n",
              "            color:  #000000;\n",
              "        }    #T_a375544a_a552_11ea_8514_99ad24f6662erow10_col1 {\n",
              "            background-color:  #f4f9fe;\n",
              "            color:  #000000;\n",
              "        }    #T_a375544a_a552_11ea_8514_99ad24f6662erow11_col1 {\n",
              "            background-color:  #f5f9fe;\n",
              "            color:  #000000;\n",
              "        }    #T_a375544a_a552_11ea_8514_99ad24f6662erow12_col1 {\n",
              "            background-color:  #f5fafe;\n",
              "            color:  #000000;\n",
              "        }    #T_a375544a_a552_11ea_8514_99ad24f6662erow13_col1 {\n",
              "            background-color:  #f6faff;\n",
              "            color:  #000000;\n",
              "        }    #T_a375544a_a552_11ea_8514_99ad24f6662erow14_col1 {\n",
              "            background-color:  #f6faff;\n",
              "            color:  #000000;\n",
              "        }    #T_a375544a_a552_11ea_8514_99ad24f6662erow15_col1 {\n",
              "            background-color:  #f7fbff;\n",
              "            color:  #000000;\n",
              "        }    #T_a375544a_a552_11ea_8514_99ad24f6662erow16_col1 {\n",
              "            background-color:  #f7fbff;\n",
              "            color:  #000000;\n",
              "        }    #T_a375544a_a552_11ea_8514_99ad24f6662erow17_col1 {\n",
              "            background-color:  #f7fbff;\n",
              "            color:  #000000;\n",
              "        }    #T_a375544a_a552_11ea_8514_99ad24f6662erow18_col1 {\n",
              "            background-color:  #f7fbff;\n",
              "            color:  #000000;\n",
              "        }</style><table id=\"T_a375544a_a552_11ea_8514_99ad24f6662e\" ><thead>    <tr>        <th class=\"blank level0\" ></th>        <th class=\"col_heading level0 col0\" >Common_words</th>        <th class=\"col_heading level0 col1\" >count</th>    </tr></thead><tbody>\n",
              "                <tr>\n",
              "                        <th id=\"T_a375544a_a552_11ea_8514_99ad24f6662elevel0_row0\" class=\"row_heading level0 row0\" >1</th>\n",
              "                        <td id=\"T_a375544a_a552_11ea_8514_99ad24f6662erow0_col0\" class=\"data row0 col0\" >day</td>\n",
              "                        <td id=\"T_a375544a_a552_11ea_8514_99ad24f6662erow0_col1\" class=\"data row0 col1\" >1997</td>\n",
              "            </tr>\n",
              "            <tr>\n",
              "                        <th id=\"T_a375544a_a552_11ea_8514_99ad24f6662elevel0_row1\" class=\"row_heading level0 row1\" >2</th>\n",
              "                        <td id=\"T_a375544a_a552_11ea_8514_99ad24f6662erow1_col0\" class=\"data row1 col0\" >happy</td>\n",
              "                        <td id=\"T_a375544a_a552_11ea_8514_99ad24f6662erow1_col1\" class=\"data row1 col1\" >1813</td>\n",
              "            </tr>\n",
              "            <tr>\n",
              "                        <th id=\"T_a375544a_a552_11ea_8514_99ad24f6662elevel0_row2\" class=\"row_heading level0 row2\" >3</th>\n",
              "                        <td id=\"T_a375544a_a552_11ea_8514_99ad24f6662erow2_col0\" class=\"data row2 col0\" >mothersday</td>\n",
              "                        <td id=\"T_a375544a_a552_11ea_8514_99ad24f6662erow2_col1\" class=\"data row2 col1\" >849</td>\n",
              "            </tr>\n",
              "            <tr>\n",
              "                        <th id=\"T_a375544a_a552_11ea_8514_99ad24f6662elevel0_row3\" class=\"row_heading level0 row3\" >4</th>\n",
              "                        <td id=\"T_a375544a_a552_11ea_8514_99ad24f6662erow3_col0\" class=\"data row3 col0\" >love</td>\n",
              "                        <td id=\"T_a375544a_a552_11ea_8514_99ad24f6662erow3_col1\" class=\"data row3 col1\" >461</td>\n",
              "            </tr>\n",
              "            <tr>\n",
              "                        <th id=\"T_a375544a_a552_11ea_8514_99ad24f6662elevel0_row4\" class=\"row_heading level0 row4\" >5</th>\n",
              "                        <td id=\"T_a375544a_a552_11ea_8514_99ad24f6662erow4_col0\" class=\"data row4 col0\" >mum</td>\n",
              "                        <td id=\"T_a375544a_a552_11ea_8514_99ad24f6662erow4_col1\" class=\"data row4 col1\" >450</td>\n",
              "            </tr>\n",
              "            <tr>\n",
              "                        <th id=\"T_a375544a_a552_11ea_8514_99ad24f6662elevel0_row5\" class=\"row_heading level0 row5\" >6</th>\n",
              "                        <td id=\"T_a375544a_a552_11ea_8514_99ad24f6662erow5_col0\" class=\"data row5 col0\" >mums</td>\n",
              "                        <td id=\"T_a375544a_a552_11ea_8514_99ad24f6662erow5_col1\" class=\"data row5 col1\" >411</td>\n",
              "            </tr>\n",
              "            <tr>\n",
              "                        <th id=\"T_a375544a_a552_11ea_8514_99ad24f6662elevel0_row6\" class=\"row_heading level0 row6\" >7</th>\n",
              "                        <td id=\"T_a375544a_a552_11ea_8514_99ad24f6662erow6_col0\" class=\"data row6 col0\" >today</td>\n",
              "                        <td id=\"T_a375544a_a552_11ea_8514_99ad24f6662erow6_col1\" class=\"data row6 col1\" >286</td>\n",
              "            </tr>\n",
              "            <tr>\n",
              "                        <th id=\"T_a375544a_a552_11ea_8514_99ad24f6662elevel0_row7\" class=\"row_heading level0 row7\" >8</th>\n",
              "                        <td id=\"T_a375544a_a552_11ea_8514_99ad24f6662erow7_col0\" class=\"data row7 col0\" >mother</td>\n",
              "                        <td id=\"T_a375544a_a552_11ea_8514_99ad24f6662erow7_col1\" class=\"data row7 col1\" >231</td>\n",
              "            </tr>\n",
              "            <tr>\n",
              "                        <th id=\"T_a375544a_a552_11ea_8514_99ad24f6662elevel0_row8\" class=\"row_heading level0 row8\" >9</th>\n",
              "                        <td id=\"T_a375544a_a552_11ea_8514_99ad24f6662erow8_col0\" class=\"data row8 col0\" >us</td>\n",
              "                        <td id=\"T_a375544a_a552_11ea_8514_99ad24f6662erow8_col1\" class=\"data row8 col1\" >192</td>\n",
              "            </tr>\n",
              "            <tr>\n",
              "                        <th id=\"T_a375544a_a552_11ea_8514_99ad24f6662elevel0_row9\" class=\"row_heading level0 row9\" >10</th>\n",
              "                        <td id=\"T_a375544a_a552_11ea_8514_99ad24f6662erow9_col0\" class=\"data row9 col0\" >amazing</td>\n",
              "                        <td id=\"T_a375544a_a552_11ea_8514_99ad24f6662erow9_col1\" class=\"data row9 col1\" >176</td>\n",
              "            </tr>\n",
              "            <tr>\n",
              "                        <th id=\"T_a375544a_a552_11ea_8514_99ad24f6662elevel0_row10\" class=\"row_heading level0 row10\" >11</th>\n",
              "                        <td id=\"T_a375544a_a552_11ea_8514_99ad24f6662erow10_col0\" class=\"data row10 col0\" >hope</td>\n",
              "                        <td id=\"T_a375544a_a552_11ea_8514_99ad24f6662erow10_col1\" class=\"data row10 col1\" >154</td>\n",
              "            </tr>\n",
              "            <tr>\n",
              "                        <th id=\"T_a375544a_a552_11ea_8514_99ad24f6662elevel0_row11\" class=\"row_heading level0 row11\" >12</th>\n",
              "                        <td id=\"T_a375544a_a552_11ea_8514_99ad24f6662erow11_col0\" class=\"data row11 col0\" >thank</td>\n",
              "                        <td id=\"T_a375544a_a552_11ea_8514_99ad24f6662erow11_col1\" class=\"data row11 col1\" >146</td>\n",
              "            </tr>\n",
              "            <tr>\n",
              "                        <th id=\"T_a375544a_a552_11ea_8514_99ad24f6662elevel0_row12\" class=\"row_heading level0 row12\" >13</th>\n",
              "                        <td id=\"T_a375544a_a552_11ea_8514_99ad24f6662erow12_col0\" class=\"data row12 col0\" >world</td>\n",
              "                        <td id=\"T_a375544a_a552_11ea_8514_99ad24f6662erow12_col1\" class=\"data row12 col1\" >134</td>\n",
              "            </tr>\n",
              "            <tr>\n",
              "                        <th id=\"T_a375544a_a552_11ea_8514_99ad24f6662elevel0_row13\" class=\"row_heading level0 row13\" >14</th>\n",
              "                        <td id=\"T_a375544a_a552_11ea_8514_99ad24f6662erow13_col0\" class=\"data row13 col0\" >wonderful</td>\n",
              "                        <td id=\"T_a375544a_a552_11ea_8514_99ad24f6662erow13_col1\" class=\"data row13 col1\" >130</td>\n",
              "            </tr>\n",
              "            <tr>\n",
              "                        <th id=\"T_a375544a_a552_11ea_8514_99ad24f6662elevel0_row14\" class=\"row_heading level0 row14\" >15</th>\n",
              "                        <td id=\"T_a375544a_a552_11ea_8514_99ad24f6662erow14_col0\" class=\"data row14 col0\" >know</td>\n",
              "                        <td id=\"T_a375544a_a552_11ea_8514_99ad24f6662erow14_col1\" class=\"data row14 col1\" >129</td>\n",
              "            </tr>\n",
              "            <tr>\n",
              "                        <th id=\"T_a375544a_a552_11ea_8514_99ad24f6662elevel0_row15\" class=\"row_heading level0 row15\" >16</th>\n",
              "                        <td id=\"T_a375544a_a552_11ea_8514_99ad24f6662erow15_col0\" class=\"data row15 col0\" >best</td>\n",
              "                        <td id=\"T_a375544a_a552_11ea_8514_99ad24f6662erow15_col1\" class=\"data row15 col1\" >125</td>\n",
              "            </tr>\n",
              "            <tr>\n",
              "                        <th id=\"T_a375544a_a552_11ea_8514_99ad24f6662elevel0_row16\" class=\"row_heading level0 row16\" >17</th>\n",
              "                        <td id=\"T_a375544a_a552_11ea_8514_99ad24f6662erow16_col0\" class=\"data row16 col0\" >one</td>\n",
              "                        <td id=\"T_a375544a_a552_11ea_8514_99ad24f6662erow16_col1\" class=\"data row16 col1\" >124</td>\n",
              "            </tr>\n",
              "            <tr>\n",
              "                        <th id=\"T_a375544a_a552_11ea_8514_99ad24f6662elevel0_row17\" class=\"row_heading level0 row17\" >18</th>\n",
              "                        <td id=\"T_a375544a_a552_11ea_8514_99ad24f6662erow17_col0\" class=\"data row17 col0\" >family</td>\n",
              "                        <td id=\"T_a375544a_a552_11ea_8514_99ad24f6662erow17_col1\" class=\"data row17 col1\" >123</td>\n",
              "            </tr>\n",
              "            <tr>\n",
              "                        <th id=\"T_a375544a_a552_11ea_8514_99ad24f6662elevel0_row18\" class=\"row_heading level0 row18\" >19</th>\n",
              "                        <td id=\"T_a375544a_a552_11ea_8514_99ad24f6662erow18_col0\" class=\"data row18 col0\" >happymothersday</td>\n",
              "                        <td id=\"T_a375544a_a552_11ea_8514_99ad24f6662erow18_col1\" class=\"data row18 col1\" >119</td>\n",
              "            </tr>\n",
              "    </tbody></table>"
            ],
            "text/plain": [
              "<pandas.io.formats.style.Styler at 0x7fe28013d950>"
            ]
          },
          "metadata": {
            "tags": []
          },
          "execution_count": 155
        }
      ]
    },
    {
      "cell_type": "code",
      "metadata": {
        "id": "jPh1NTibgWo1",
        "colab_type": "code",
        "colab": {}
      },
      "source": [
        "raw_text = [word for word_list in train['temp_list'] for word in word_list]"
      ],
      "execution_count": null,
      "outputs": []
    },
    {
      "cell_type": "code",
      "metadata": {
        "id": "SseXzPN2gWo4",
        "colab_type": "code",
        "colab": {}
      },
      "source": [
        "def words_unique(sentiment, numwords, raw_words):\n",
        "    '''\n",
        "    Input:\n",
        "        segment - Segment category (ex. 'Neutral');\n",
        "        numwords - how many specific words do you want to see in the final result; \n",
        "        raw_words - list  for item in train_data[train_data.segments == segments]['temp_list1']:\n",
        "    Output: \n",
        "        dataframe giving information about the name of the specific ingredient and how many times it occurs in the chosen cuisine (in descending order based on their counts)..\n",
        "\n",
        "    '''\n",
        "    allother = []\n",
        "    for item in train[train.sentiment_class != sentiment]['temp_list']:\n",
        "        for word in item:\n",
        "            allother.append(word)\n",
        "    allother = list(set(allother ))\n",
        "    \n",
        "    specificnonly = [x for x in raw_text if x not in allother]\n",
        "    \n",
        "    mycounter = Counter()\n",
        "    \n",
        "    for item in train[train.sentiment_class == sentiment]['temp_list']:\n",
        "        for word in item:\n",
        "            mycounter[word] += 1\n",
        "    keep = list(specificnonly)\n",
        "    \n",
        "    for word in list(mycounter):\n",
        "        if word not in keep:\n",
        "            del mycounter[word]\n",
        "    \n",
        "    unique_words = pd.DataFrame(mycounter.most_common(numwords), columns = ['words','count'])\n",
        "    \n",
        "    return unique_words"
      ],
      "execution_count": null,
      "outputs": []
    },
    {
      "cell_type": "code",
      "metadata": {
        "id": "1qgXr_HEgWo8",
        "colab_type": "code",
        "colab": {},
        "outputId": "d306e3b1-926b-4b2c-e000-eae9ddaaa797"
      },
      "source": [
        "unique_Positive= words_unique(1, 20, raw_text)\n",
        "print(\"The top 20 unique words in Positive Tweets are:\")\n",
        "unique_Positive.style.background_gradient(cmap='Greens')"
      ],
      "execution_count": null,
      "outputs": [
        {
          "output_type": "stream",
          "text": [
            "The top 20 unique words in Positive Tweets are:\n"
          ],
          "name": "stdout"
        },
        {
          "output_type": "execute_result",
          "data": {
            "text/html": [
              "<style  type=\"text/css\" >\n",
              "    #T_a642b334_a552_11ea_8514_99ad24f6662erow0_col1 {\n",
              "            background-color:  #00441b;\n",
              "            color:  #f1f1f1;\n",
              "        }    #T_a642b334_a552_11ea_8514_99ad24f6662erow1_col1 {\n",
              "            background-color:  #aedea7;\n",
              "            color:  #000000;\n",
              "        }    #T_a642b334_a552_11ea_8514_99ad24f6662erow2_col1 {\n",
              "            background-color:  #aedea7;\n",
              "            color:  #000000;\n",
              "        }    #T_a642b334_a552_11ea_8514_99ad24f6662erow3_col1 {\n",
              "            background-color:  #f7fcf5;\n",
              "            color:  #000000;\n",
              "        }    #T_a642b334_a552_11ea_8514_99ad24f6662erow4_col1 {\n",
              "            background-color:  #f7fcf5;\n",
              "            color:  #000000;\n",
              "        }    #T_a642b334_a552_11ea_8514_99ad24f6662erow5_col1 {\n",
              "            background-color:  #f7fcf5;\n",
              "            color:  #000000;\n",
              "        }    #T_a642b334_a552_11ea_8514_99ad24f6662erow6_col1 {\n",
              "            background-color:  #f7fcf5;\n",
              "            color:  #000000;\n",
              "        }    #T_a642b334_a552_11ea_8514_99ad24f6662erow7_col1 {\n",
              "            background-color:  #f7fcf5;\n",
              "            color:  #000000;\n",
              "        }    #T_a642b334_a552_11ea_8514_99ad24f6662erow8_col1 {\n",
              "            background-color:  #f7fcf5;\n",
              "            color:  #000000;\n",
              "        }    #T_a642b334_a552_11ea_8514_99ad24f6662erow9_col1 {\n",
              "            background-color:  #f7fcf5;\n",
              "            color:  #000000;\n",
              "        }    #T_a642b334_a552_11ea_8514_99ad24f6662erow10_col1 {\n",
              "            background-color:  #f7fcf5;\n",
              "            color:  #000000;\n",
              "        }    #T_a642b334_a552_11ea_8514_99ad24f6662erow11_col1 {\n",
              "            background-color:  #f7fcf5;\n",
              "            color:  #000000;\n",
              "        }    #T_a642b334_a552_11ea_8514_99ad24f6662erow12_col1 {\n",
              "            background-color:  #f7fcf5;\n",
              "            color:  #000000;\n",
              "        }    #T_a642b334_a552_11ea_8514_99ad24f6662erow13_col1 {\n",
              "            background-color:  #f7fcf5;\n",
              "            color:  #000000;\n",
              "        }    #T_a642b334_a552_11ea_8514_99ad24f6662erow14_col1 {\n",
              "            background-color:  #f7fcf5;\n",
              "            color:  #000000;\n",
              "        }    #T_a642b334_a552_11ea_8514_99ad24f6662erow15_col1 {\n",
              "            background-color:  #f7fcf5;\n",
              "            color:  #000000;\n",
              "        }    #T_a642b334_a552_11ea_8514_99ad24f6662erow16_col1 {\n",
              "            background-color:  #f7fcf5;\n",
              "            color:  #000000;\n",
              "        }    #T_a642b334_a552_11ea_8514_99ad24f6662erow17_col1 {\n",
              "            background-color:  #f7fcf5;\n",
              "            color:  #000000;\n",
              "        }    #T_a642b334_a552_11ea_8514_99ad24f6662erow18_col1 {\n",
              "            background-color:  #f7fcf5;\n",
              "            color:  #000000;\n",
              "        }    #T_a642b334_a552_11ea_8514_99ad24f6662erow19_col1 {\n",
              "            background-color:  #f7fcf5;\n",
              "            color:  #000000;\n",
              "        }</style><table id=\"T_a642b334_a552_11ea_8514_99ad24f6662e\" ><thead>    <tr>        <th class=\"blank level0\" ></th>        <th class=\"col_heading level0 col0\" >words</th>        <th class=\"col_heading level0 col1\" >count</th>    </tr></thead><tbody>\n",
              "                <tr>\n",
              "                        <th id=\"T_a642b334_a552_11ea_8514_99ad24f6662elevel0_row0\" class=\"row_heading level0 row0\" >0</th>\n",
              "                        <td id=\"T_a642b334_a552_11ea_8514_99ad24f6662erow0_col0\" class=\"data row0 col0\" >black</td>\n",
              "                        <td id=\"T_a642b334_a552_11ea_8514_99ad24f6662erow0_col1\" class=\"data row0 col1\" >6</td>\n",
              "            </tr>\n",
              "            <tr>\n",
              "                        <th id=\"T_a642b334_a552_11ea_8514_99ad24f6662elevel0_row1\" class=\"row_heading level0 row1\" >1</th>\n",
              "                        <td id=\"T_a642b334_a552_11ea_8514_99ad24f6662erow1_col0\" class=\"data row1 col0\" >​</td>\n",
              "                        <td id=\"T_a642b334_a552_11ea_8514_99ad24f6662erow1_col1\" class=\"data row1 col1\" >4</td>\n",
              "            </tr>\n",
              "            <tr>\n",
              "                        <th id=\"T_a642b334_a552_11ea_8514_99ad24f6662elevel0_row2\" class=\"row_heading level0 row2\" >2</th>\n",
              "                        <td id=\"T_a642b334_a552_11ea_8514_99ad24f6662erow2_col0\" class=\"data row2 col0\" >active</td>\n",
              "                        <td id=\"T_a642b334_a552_11ea_8514_99ad24f6662erow2_col1\" class=\"data row2 col1\" >4</td>\n",
              "            </tr>\n",
              "            <tr>\n",
              "                        <th id=\"T_a642b334_a552_11ea_8514_99ad24f6662elevel0_row3\" class=\"row_heading level0 row3\" >3</th>\n",
              "                        <td id=\"T_a642b334_a552_11ea_8514_99ad24f6662erow3_col0\" class=\"data row3 col0\" >loose</td>\n",
              "                        <td id=\"T_a642b334_a552_11ea_8514_99ad24f6662erow3_col1\" class=\"data row3 col1\" >3</td>\n",
              "            </tr>\n",
              "            <tr>\n",
              "                        <th id=\"T_a642b334_a552_11ea_8514_99ad24f6662elevel0_row4\" class=\"row_heading level0 row4\" >4</th>\n",
              "                        <td id=\"T_a642b334_a552_11ea_8514_99ad24f6662erow4_col0\" class=\"data row4 col0\" >lying</td>\n",
              "                        <td id=\"T_a642b334_a552_11ea_8514_99ad24f6662erow4_col1\" class=\"data row4 col1\" >3</td>\n",
              "            </tr>\n",
              "            <tr>\n",
              "                        <th id=\"T_a642b334_a552_11ea_8514_99ad24f6662elevel0_row5\" class=\"row_heading level0 row5\" >5</th>\n",
              "                        <td id=\"T_a642b334_a552_11ea_8514_99ad24f6662erow5_col0\" class=\"data row5 col0\" >carole</td>\n",
              "                        <td id=\"T_a642b334_a552_11ea_8514_99ad24f6662erow5_col1\" class=\"data row5 col1\" >3</td>\n",
              "            </tr>\n",
              "            <tr>\n",
              "                        <th id=\"T_a642b334_a552_11ea_8514_99ad24f6662elevel0_row6\" class=\"row_heading level0 row6\" >6</th>\n",
              "                        <td id=\"T_a642b334_a552_11ea_8514_99ad24f6662erow6_col0\" class=\"data row6 col0\" >vintage</td>\n",
              "                        <td id=\"T_a642b334_a552_11ea_8514_99ad24f6662erow6_col1\" class=\"data row6 col1\" >3</td>\n",
              "            </tr>\n",
              "            <tr>\n",
              "                        <th id=\"T_a642b334_a552_11ea_8514_99ad24f6662elevel0_row7\" class=\"row_heading level0 row7\" >7</th>\n",
              "                        <td id=\"T_a642b334_a552_11ea_8514_99ad24f6662erow7_col0\" class=\"data row7 col0\" >sculpture</td>\n",
              "                        <td id=\"T_a642b334_a552_11ea_8514_99ad24f6662erow7_col1\" class=\"data row7 col1\" >3</td>\n",
              "            </tr>\n",
              "            <tr>\n",
              "                        <th id=\"T_a642b334_a552_11ea_8514_99ad24f6662elevel0_row8\" class=\"row_heading level0 row8\" >8</th>\n",
              "                        <td id=\"T_a642b334_a552_11ea_8514_99ad24f6662erow8_col0\" class=\"data row8 col0\" >nursing</td>\n",
              "                        <td id=\"T_a642b334_a552_11ea_8514_99ad24f6662erow8_col1\" class=\"data row8 col1\" >3</td>\n",
              "            </tr>\n",
              "            <tr>\n",
              "                        <th id=\"T_a642b334_a552_11ea_8514_99ad24f6662elevel0_row9\" class=\"row_heading level0 row9\" >9</th>\n",
              "                        <td id=\"T_a642b334_a552_11ea_8514_99ad24f6662erow9_col0\" class=\"data row9 col0\" >kindly</td>\n",
              "                        <td id=\"T_a642b334_a552_11ea_8514_99ad24f6662erow9_col1\" class=\"data row9 col1\" >3</td>\n",
              "            </tr>\n",
              "            <tr>\n",
              "                        <th id=\"T_a642b334_a552_11ea_8514_99ad24f6662elevel0_row10\" class=\"row_heading level0 row10\" >10</th>\n",
              "                        <td id=\"T_a642b334_a552_11ea_8514_99ad24f6662erow10_col0\" class=\"data row10 col0\" >dogmum</td>\n",
              "                        <td id=\"T_a642b334_a552_11ea_8514_99ad24f6662erow10_col1\" class=\"data row10 col1\" >3</td>\n",
              "            </tr>\n",
              "            <tr>\n",
              "                        <th id=\"T_a642b334_a552_11ea_8514_99ad24f6662elevel0_row11\" class=\"row_heading level0 row11\" >11</th>\n",
              "                        <td id=\"T_a642b334_a552_11ea_8514_99ad24f6662erow11_col0\" class=\"data row11 col0\" >ginger</td>\n",
              "                        <td id=\"T_a642b334_a552_11ea_8514_99ad24f6662erow11_col1\" class=\"data row11 col1\" >3</td>\n",
              "            </tr>\n",
              "            <tr>\n",
              "                        <th id=\"T_a642b334_a552_11ea_8514_99ad24f6662elevel0_row12\" class=\"row_heading level0 row12\" >12</th>\n",
              "                        <td id=\"T_a642b334_a552_11ea_8514_99ad24f6662erow12_col0\" class=\"data row12 col0\" >sundaymorning</td>\n",
              "                        <td id=\"T_a642b334_a552_11ea_8514_99ad24f6662erow12_col1\" class=\"data row12 col1\" >3</td>\n",
              "            </tr>\n",
              "            <tr>\n",
              "                        <th id=\"T_a642b334_a552_11ea_8514_99ad24f6662elevel0_row13\" class=\"row_heading level0 row13\" >13</th>\n",
              "                        <td id=\"T_a642b334_a552_11ea_8514_99ad24f6662erow13_col0\" class=\"data row13 col0\" >distant</td>\n",
              "                        <td id=\"T_a642b334_a552_11ea_8514_99ad24f6662erow13_col1\" class=\"data row13 col1\" >3</td>\n",
              "            </tr>\n",
              "            <tr>\n",
              "                        <th id=\"T_a642b334_a552_11ea_8514_99ad24f6662elevel0_row14\" class=\"row_heading level0 row14\" >14</th>\n",
              "                        <td id=\"T_a642b334_a552_11ea_8514_99ad24f6662erow14_col0\" class=\"data row14 col0\" >cookie</td>\n",
              "                        <td id=\"T_a642b334_a552_11ea_8514_99ad24f6662erow14_col1\" class=\"data row14 col1\" >3</td>\n",
              "            </tr>\n",
              "            <tr>\n",
              "                        <th id=\"T_a642b334_a552_11ea_8514_99ad24f6662elevel0_row15\" class=\"row_heading level0 row15\" >15</th>\n",
              "                        <td id=\"T_a642b334_a552_11ea_8514_99ad24f6662erow15_col0\" class=\"data row15 col0\" >hat</td>\n",
              "                        <td id=\"T_a642b334_a552_11ea_8514_99ad24f6662erow15_col1\" class=\"data row15 col1\" >3</td>\n",
              "            </tr>\n",
              "            <tr>\n",
              "                        <th id=\"T_a642b334_a552_11ea_8514_99ad24f6662elevel0_row16\" class=\"row_heading level0 row16\" >16</th>\n",
              "                        <td id=\"T_a642b334_a552_11ea_8514_99ad24f6662erow16_col0\" class=\"data row16 col0\" >fancy</td>\n",
              "                        <td id=\"T_a642b334_a552_11ea_8514_99ad24f6662erow16_col1\" class=\"data row16 col1\" >3</td>\n",
              "            </tr>\n",
              "            <tr>\n",
              "                        <th id=\"T_a642b334_a552_11ea_8514_99ad24f6662elevel0_row17\" class=\"row_heading level0 row17\" >17</th>\n",
              "                        <td id=\"T_a642b334_a552_11ea_8514_99ad24f6662erow17_col0\" class=\"data row17 col0\" >labelm</td>\n",
              "                        <td id=\"T_a642b334_a552_11ea_8514_99ad24f6662erow17_col1\" class=\"data row17 col1\" >3</td>\n",
              "            </tr>\n",
              "            <tr>\n",
              "                        <th id=\"T_a642b334_a552_11ea_8514_99ad24f6662elevel0_row18\" class=\"row_heading level0 row18\" >18</th>\n",
              "                        <td id=\"T_a642b334_a552_11ea_8514_99ad24f6662erow18_col0\" class=\"data row18 col0\" >cheesecake</td>\n",
              "                        <td id=\"T_a642b334_a552_11ea_8514_99ad24f6662erow18_col1\" class=\"data row18 col1\" >3</td>\n",
              "            </tr>\n",
              "            <tr>\n",
              "                        <th id=\"T_a642b334_a552_11ea_8514_99ad24f6662elevel0_row19\" class=\"row_heading level0 row19\" >19</th>\n",
              "                        <td id=\"T_a642b334_a552_11ea_8514_99ad24f6662erow19_col0\" class=\"data row19 col0\" >slapped</td>\n",
              "                        <td id=\"T_a642b334_a552_11ea_8514_99ad24f6662erow19_col1\" class=\"data row19 col1\" >3</td>\n",
              "            </tr>\n",
              "    </tbody></table>"
            ],
            "text/plain": [
              "<pandas.io.formats.style.Styler at 0x7fe281360110>"
            ]
          },
          "metadata": {
            "tags": []
          },
          "execution_count": 158
        }
      ]
    },
    {
      "cell_type": "code",
      "metadata": {
        "id": "ZNTtUMwOgWo_",
        "colab_type": "code",
        "colab": {},
        "outputId": "e7e37dcc-9075-4c53-c32b-c38a39d7a57c"
      },
      "source": [
        "unique_Positive= words_unique(-1, 20, raw_text)\n",
        "print(\"The top 20 unique words in Negative Tweets are:\")\n",
        "unique_Positive.style.background_gradient(cmap='Reds')"
      ],
      "execution_count": null,
      "outputs": [
        {
          "output_type": "stream",
          "text": [
            "The top 20 unique words in Negative Tweets are:\n"
          ],
          "name": "stdout"
        },
        {
          "output_type": "execute_result",
          "data": {
            "text/html": [
              "<style  type=\"text/css\" >\n",
              "    #T_a9267dba_a552_11ea_8514_99ad24f6662erow0_col1 {\n",
              "            background-color:  #67000d;\n",
              "            color:  #f1f1f1;\n",
              "        }    #T_a9267dba_a552_11ea_8514_99ad24f6662erow1_col1 {\n",
              "            background-color:  #fb694a;\n",
              "            color:  #000000;\n",
              "        }    #T_a9267dba_a552_11ea_8514_99ad24f6662erow2_col1 {\n",
              "            background-color:  #fb694a;\n",
              "            color:  #000000;\n",
              "        }    #T_a9267dba_a552_11ea_8514_99ad24f6662erow3_col1 {\n",
              "            background-color:  #fcbba1;\n",
              "            color:  #000000;\n",
              "        }    #T_a9267dba_a552_11ea_8514_99ad24f6662erow4_col1 {\n",
              "            background-color:  #fcbba1;\n",
              "            color:  #000000;\n",
              "        }    #T_a9267dba_a552_11ea_8514_99ad24f6662erow5_col1 {\n",
              "            background-color:  #fcbba1;\n",
              "            color:  #000000;\n",
              "        }    #T_a9267dba_a552_11ea_8514_99ad24f6662erow6_col1 {\n",
              "            background-color:  #fcbba1;\n",
              "            color:  #000000;\n",
              "        }    #T_a9267dba_a552_11ea_8514_99ad24f6662erow7_col1 {\n",
              "            background-color:  #fcbba1;\n",
              "            color:  #000000;\n",
              "        }    #T_a9267dba_a552_11ea_8514_99ad24f6662erow8_col1 {\n",
              "            background-color:  #fcbba1;\n",
              "            color:  #000000;\n",
              "        }    #T_a9267dba_a552_11ea_8514_99ad24f6662erow9_col1 {\n",
              "            background-color:  #fcbba1;\n",
              "            color:  #000000;\n",
              "        }    #T_a9267dba_a552_11ea_8514_99ad24f6662erow10_col1 {\n",
              "            background-color:  #fcbba1;\n",
              "            color:  #000000;\n",
              "        }    #T_a9267dba_a552_11ea_8514_99ad24f6662erow11_col1 {\n",
              "            background-color:  #fcbba1;\n",
              "            color:  #000000;\n",
              "        }    #T_a9267dba_a552_11ea_8514_99ad24f6662erow12_col1 {\n",
              "            background-color:  #fff5f0;\n",
              "            color:  #000000;\n",
              "        }    #T_a9267dba_a552_11ea_8514_99ad24f6662erow13_col1 {\n",
              "            background-color:  #fff5f0;\n",
              "            color:  #000000;\n",
              "        }    #T_a9267dba_a552_11ea_8514_99ad24f6662erow14_col1 {\n",
              "            background-color:  #fff5f0;\n",
              "            color:  #000000;\n",
              "        }    #T_a9267dba_a552_11ea_8514_99ad24f6662erow15_col1 {\n",
              "            background-color:  #fff5f0;\n",
              "            color:  #000000;\n",
              "        }    #T_a9267dba_a552_11ea_8514_99ad24f6662erow16_col1 {\n",
              "            background-color:  #fff5f0;\n",
              "            color:  #000000;\n",
              "        }    #T_a9267dba_a552_11ea_8514_99ad24f6662erow17_col1 {\n",
              "            background-color:  #fff5f0;\n",
              "            color:  #000000;\n",
              "        }    #T_a9267dba_a552_11ea_8514_99ad24f6662erow18_col1 {\n",
              "            background-color:  #fff5f0;\n",
              "            color:  #000000;\n",
              "        }    #T_a9267dba_a552_11ea_8514_99ad24f6662erow19_col1 {\n",
              "            background-color:  #fff5f0;\n",
              "            color:  #000000;\n",
              "        }</style><table id=\"T_a9267dba_a552_11ea_8514_99ad24f6662e\" ><thead>    <tr>        <th class=\"blank level0\" ></th>        <th class=\"col_heading level0 col0\" >words</th>        <th class=\"col_heading level0 col1\" >count</th>    </tr></thead><tbody>\n",
              "                <tr>\n",
              "                        <th id=\"T_a9267dba_a552_11ea_8514_99ad24f6662elevel0_row0\" class=\"row_heading level0 row0\" >0</th>\n",
              "                        <td id=\"T_a9267dba_a552_11ea_8514_99ad24f6662erow0_col0\" class=\"data row0 col0\" >du</td>\n",
              "                        <td id=\"T_a9267dba_a552_11ea_8514_99ad24f6662erow0_col1\" class=\"data row0 col1\" >6</td>\n",
              "            </tr>\n",
              "            <tr>\n",
              "                        <th id=\"T_a9267dba_a552_11ea_8514_99ad24f6662elevel0_row1\" class=\"row_heading level0 row1\" >1</th>\n",
              "                        <td id=\"T_a9267dba_a552_11ea_8514_99ad24f6662erow1_col0\" class=\"data row1 col0\" >⁣⁣⁠⁣</td>\n",
              "                        <td id=\"T_a9267dba_a552_11ea_8514_99ad24f6662erow1_col1\" class=\"data row1 col1\" >4</td>\n",
              "            </tr>\n",
              "            <tr>\n",
              "                        <th id=\"T_a9267dba_a552_11ea_8514_99ad24f6662elevel0_row2\" class=\"row_heading level0 row2\" >2</th>\n",
              "                        <td id=\"T_a9267dba_a552_11ea_8514_99ad24f6662erow2_col0\" class=\"data row2 col0\" >village</td>\n",
              "                        <td id=\"T_a9267dba_a552_11ea_8514_99ad24f6662erow2_col1\" class=\"data row2 col1\" >4</td>\n",
              "            </tr>\n",
              "            <tr>\n",
              "                        <th id=\"T_a9267dba_a552_11ea_8514_99ad24f6662elevel0_row3\" class=\"row_heading level0 row3\" >3</th>\n",
              "                        <td id=\"T_a9267dba_a552_11ea_8514_99ad24f6662erow3_col0\" class=\"data row3 col0\" >⁣⁣⁠</td>\n",
              "                        <td id=\"T_a9267dba_a552_11ea_8514_99ad24f6662erow3_col1\" class=\"data row3 col1\" >3</td>\n",
              "            </tr>\n",
              "            <tr>\n",
              "                        <th id=\"T_a9267dba_a552_11ea_8514_99ad24f6662elevel0_row4\" class=\"row_heading level0 row4\" >4</th>\n",
              "                        <td id=\"T_a9267dba_a552_11ea_8514_99ad24f6662erow4_col0\" class=\"data row4 col0\" >rice</td>\n",
              "                        <td id=\"T_a9267dba_a552_11ea_8514_99ad24f6662erow4_col1\" class=\"data row4 col1\" >3</td>\n",
              "            </tr>\n",
              "            <tr>\n",
              "                        <th id=\"T_a9267dba_a552_11ea_8514_99ad24f6662elevel0_row5\" class=\"row_heading level0 row5\" >5</th>\n",
              "                        <td id=\"T_a9267dba_a552_11ea_8514_99ad24f6662erow5_col0\" class=\"data row5 col0\" >coz</td>\n",
              "                        <td id=\"T_a9267dba_a552_11ea_8514_99ad24f6662erow5_col1\" class=\"data row5 col1\" >3</td>\n",
              "            </tr>\n",
              "            <tr>\n",
              "                        <th id=\"T_a9267dba_a552_11ea_8514_99ad24f6662elevel0_row6\" class=\"row_heading level0 row6\" >6</th>\n",
              "                        <td id=\"T_a9267dba_a552_11ea_8514_99ad24f6662erow6_col0\" class=\"data row6 col0\" >donegal</td>\n",
              "                        <td id=\"T_a9267dba_a552_11ea_8514_99ad24f6662erow6_col1\" class=\"data row6 col1\" >3</td>\n",
              "            </tr>\n",
              "            <tr>\n",
              "                        <th id=\"T_a9267dba_a552_11ea_8514_99ad24f6662elevel0_row7\" class=\"row_heading level0 row7\" >7</th>\n",
              "                        <td id=\"T_a9267dba_a552_11ea_8514_99ad24f6662erow7_col0\" class=\"data row7 col0\" >disney</td>\n",
              "                        <td id=\"T_a9267dba_a552_11ea_8514_99ad24f6662erow7_col1\" class=\"data row7 col1\" >3</td>\n",
              "            </tr>\n",
              "            <tr>\n",
              "                        <th id=\"T_a9267dba_a552_11ea_8514_99ad24f6662elevel0_row8\" class=\"row_heading level0 row8\" >8</th>\n",
              "                        <td id=\"T_a9267dba_a552_11ea_8514_99ad24f6662erow8_col0\" class=\"data row8 col0\" >personal</td>\n",
              "                        <td id=\"T_a9267dba_a552_11ea_8514_99ad24f6662erow8_col1\" class=\"data row8 col1\" >3</td>\n",
              "            </tr>\n",
              "            <tr>\n",
              "                        <th id=\"T_a9267dba_a552_11ea_8514_99ad24f6662elevel0_row9\" class=\"row_heading level0 row9\" >9</th>\n",
              "                        <td id=\"T_a9267dba_a552_11ea_8514_99ad24f6662erow9_col0\" class=\"data row9 col0\" >mami</td>\n",
              "                        <td id=\"T_a9267dba_a552_11ea_8514_99ad24f6662erow9_col1\" class=\"data row9 col1\" >3</td>\n",
              "            </tr>\n",
              "            <tr>\n",
              "                        <th id=\"T_a9267dba_a552_11ea_8514_99ad24f6662elevel0_row10\" class=\"row_heading level0 row10\" >10</th>\n",
              "                        <td id=\"T_a9267dba_a552_11ea_8514_99ad24f6662erow10_col0\" class=\"data row10 col0\" >stupid</td>\n",
              "                        <td id=\"T_a9267dba_a552_11ea_8514_99ad24f6662erow10_col1\" class=\"data row10 col1\" >3</td>\n",
              "            </tr>\n",
              "            <tr>\n",
              "                        <th id=\"T_a9267dba_a552_11ea_8514_99ad24f6662elevel0_row11\" class=\"row_heading level0 row11\" >11</th>\n",
              "                        <td id=\"T_a9267dba_a552_11ea_8514_99ad24f6662erow11_col0\" class=\"data row11 col0\" >jcm</td>\n",
              "                        <td id=\"T_a9267dba_a552_11ea_8514_99ad24f6662erow11_col1\" class=\"data row11 col1\" >3</td>\n",
              "            </tr>\n",
              "            <tr>\n",
              "                        <th id=\"T_a9267dba_a552_11ea_8514_99ad24f6662elevel0_row12\" class=\"row_heading level0 row12\" >12</th>\n",
              "                        <td id=\"T_a9267dba_a552_11ea_8514_99ad24f6662erow12_col0\" class=\"data row12 col0\" >reflect</td>\n",
              "                        <td id=\"T_a9267dba_a552_11ea_8514_99ad24f6662erow12_col1\" class=\"data row12 col1\" >2</td>\n",
              "            </tr>\n",
              "            <tr>\n",
              "                        <th id=\"T_a9267dba_a552_11ea_8514_99ad24f6662elevel0_row13\" class=\"row_heading level0 row13\" >13</th>\n",
              "                        <td id=\"T_a9267dba_a552_11ea_8514_99ad24f6662erow13_col0\" class=\"data row13 col0\" >repay</td>\n",
              "                        <td id=\"T_a9267dba_a552_11ea_8514_99ad24f6662erow13_col1\" class=\"data row13 col1\" >2</td>\n",
              "            </tr>\n",
              "            <tr>\n",
              "                        <th id=\"T_a9267dba_a552_11ea_8514_99ad24f6662elevel0_row14\" class=\"row_heading level0 row14\" >14</th>\n",
              "                        <td id=\"T_a9267dba_a552_11ea_8514_99ad24f6662erow14_col0\" class=\"data row14 col0\" >wanting</td>\n",
              "                        <td id=\"T_a9267dba_a552_11ea_8514_99ad24f6662erow14_col1\" class=\"data row14 col1\" >2</td>\n",
              "            </tr>\n",
              "            <tr>\n",
              "                        <th id=\"T_a9267dba_a552_11ea_8514_99ad24f6662elevel0_row15\" class=\"row_heading level0 row15\" >15</th>\n",
              "                        <td id=\"T_a9267dba_a552_11ea_8514_99ad24f6662erow15_col0\" class=\"data row15 col0\" >neighbour</td>\n",
              "                        <td id=\"T_a9267dba_a552_11ea_8514_99ad24f6662erow15_col1\" class=\"data row15 col1\" >2</td>\n",
              "            </tr>\n",
              "            <tr>\n",
              "                        <th id=\"T_a9267dba_a552_11ea_8514_99ad24f6662elevel0_row16\" class=\"row_heading level0 row16\" >16</th>\n",
              "                        <td id=\"T_a9267dba_a552_11ea_8514_99ad24f6662erow16_col0\" class=\"data row16 col0\" >masterclass</td>\n",
              "                        <td id=\"T_a9267dba_a552_11ea_8514_99ad24f6662erow16_col1\" class=\"data row16 col1\" >2</td>\n",
              "            </tr>\n",
              "            <tr>\n",
              "                        <th id=\"T_a9267dba_a552_11ea_8514_99ad24f6662elevel0_row17\" class=\"row_heading level0 row17\" >17</th>\n",
              "                        <td id=\"T_a9267dba_a552_11ea_8514_99ad24f6662erow17_col0\" class=\"data row17 col0\" >ah</td>\n",
              "                        <td id=\"T_a9267dba_a552_11ea_8514_99ad24f6662erow17_col1\" class=\"data row17 col1\" >2</td>\n",
              "            </tr>\n",
              "            <tr>\n",
              "                        <th id=\"T_a9267dba_a552_11ea_8514_99ad24f6662elevel0_row18\" class=\"row_heading level0 row18\" >18</th>\n",
              "                        <td id=\"T_a9267dba_a552_11ea_8514_99ad24f6662erow18_col0\" class=\"data row18 col0\" >motherssunday</td>\n",
              "                        <td id=\"T_a9267dba_a552_11ea_8514_99ad24f6662erow18_col1\" class=\"data row18 col1\" >2</td>\n",
              "            </tr>\n",
              "            <tr>\n",
              "                        <th id=\"T_a9267dba_a552_11ea_8514_99ad24f6662elevel0_row19\" class=\"row_heading level0 row19\" >19</th>\n",
              "                        <td id=\"T_a9267dba_a552_11ea_8514_99ad24f6662erow19_col0\" class=\"data row19 col0\" >lastic</td>\n",
              "                        <td id=\"T_a9267dba_a552_11ea_8514_99ad24f6662erow19_col1\" class=\"data row19 col1\" >2</td>\n",
              "            </tr>\n",
              "    </tbody></table>"
            ],
            "text/plain": [
              "<pandas.io.formats.style.Styler at 0x7fe281362e50>"
            ]
          },
          "metadata": {
            "tags": []
          },
          "execution_count": 159
        }
      ]
    },
    {
      "cell_type": "code",
      "metadata": {
        "id": "Z0pp1Tp0gWpD",
        "colab_type": "code",
        "colab": {},
        "outputId": "3e4f5881-3064-476f-d8f8-0a25b37b9699"
      },
      "source": [
        "unique_Positive= words_unique(0, 20, raw_text)\n",
        "print(\"The top 20 unique words in Neutral Tweets are:\")\n",
        "unique_Positive.style.background_gradient(cmap='Blues')"
      ],
      "execution_count": null,
      "outputs": [
        {
          "output_type": "stream",
          "text": [
            "The top 20 unique words in Neutral Tweets are:\n"
          ],
          "name": "stdout"
        },
        {
          "output_type": "execute_result",
          "data": {
            "text/html": [
              "<style  type=\"text/css\" >\n",
              "    #T_ab77925c_a552_11ea_8514_99ad24f6662erow0_col1 {\n",
              "            background-color:  #08306b;\n",
              "            color:  #f1f1f1;\n",
              "        }    #T_ab77925c_a552_11ea_8514_99ad24f6662erow1_col1 {\n",
              "            background-color:  #1764ab;\n",
              "            color:  #f1f1f1;\n",
              "        }    #T_ab77925c_a552_11ea_8514_99ad24f6662erow2_col1 {\n",
              "            background-color:  #1764ab;\n",
              "            color:  #f1f1f1;\n",
              "        }    #T_ab77925c_a552_11ea_8514_99ad24f6662erow3_col1 {\n",
              "            background-color:  #1764ab;\n",
              "            color:  #f1f1f1;\n",
              "        }    #T_ab77925c_a552_11ea_8514_99ad24f6662erow4_col1 {\n",
              "            background-color:  #4a98c9;\n",
              "            color:  #000000;\n",
              "        }    #T_ab77925c_a552_11ea_8514_99ad24f6662erow5_col1 {\n",
              "            background-color:  #4a98c9;\n",
              "            color:  #000000;\n",
              "        }    #T_ab77925c_a552_11ea_8514_99ad24f6662erow6_col1 {\n",
              "            background-color:  #94c4df;\n",
              "            color:  #000000;\n",
              "        }    #T_ab77925c_a552_11ea_8514_99ad24f6662erow7_col1 {\n",
              "            background-color:  #94c4df;\n",
              "            color:  #000000;\n",
              "        }    #T_ab77925c_a552_11ea_8514_99ad24f6662erow8_col1 {\n",
              "            background-color:  #d0e1f2;\n",
              "            color:  #000000;\n",
              "        }    #T_ab77925c_a552_11ea_8514_99ad24f6662erow9_col1 {\n",
              "            background-color:  #d0e1f2;\n",
              "            color:  #000000;\n",
              "        }    #T_ab77925c_a552_11ea_8514_99ad24f6662erow10_col1 {\n",
              "            background-color:  #d0e1f2;\n",
              "            color:  #000000;\n",
              "        }    #T_ab77925c_a552_11ea_8514_99ad24f6662erow11_col1 {\n",
              "            background-color:  #d0e1f2;\n",
              "            color:  #000000;\n",
              "        }    #T_ab77925c_a552_11ea_8514_99ad24f6662erow12_col1 {\n",
              "            background-color:  #d0e1f2;\n",
              "            color:  #000000;\n",
              "        }    #T_ab77925c_a552_11ea_8514_99ad24f6662erow13_col1 {\n",
              "            background-color:  #d0e1f2;\n",
              "            color:  #000000;\n",
              "        }    #T_ab77925c_a552_11ea_8514_99ad24f6662erow14_col1 {\n",
              "            background-color:  #d0e1f2;\n",
              "            color:  #000000;\n",
              "        }    #T_ab77925c_a552_11ea_8514_99ad24f6662erow15_col1 {\n",
              "            background-color:  #d0e1f2;\n",
              "            color:  #000000;\n",
              "        }    #T_ab77925c_a552_11ea_8514_99ad24f6662erow16_col1 {\n",
              "            background-color:  #f7fbff;\n",
              "            color:  #000000;\n",
              "        }    #T_ab77925c_a552_11ea_8514_99ad24f6662erow17_col1 {\n",
              "            background-color:  #f7fbff;\n",
              "            color:  #000000;\n",
              "        }    #T_ab77925c_a552_11ea_8514_99ad24f6662erow18_col1 {\n",
              "            background-color:  #f7fbff;\n",
              "            color:  #000000;\n",
              "        }    #T_ab77925c_a552_11ea_8514_99ad24f6662erow19_col1 {\n",
              "            background-color:  #f7fbff;\n",
              "            color:  #000000;\n",
              "        }</style><table id=\"T_ab77925c_a552_11ea_8514_99ad24f6662e\" ><thead>    <tr>        <th class=\"blank level0\" ></th>        <th class=\"col_heading level0 col0\" >words</th>        <th class=\"col_heading level0 col1\" >count</th>    </tr></thead><tbody>\n",
              "                <tr>\n",
              "                        <th id=\"T_ab77925c_a552_11ea_8514_99ad24f6662elevel0_row0\" class=\"row_heading level0 row0\" >0</th>\n",
              "                        <td id=\"T_ab77925c_a552_11ea_8514_99ad24f6662erow0_col0\" class=\"data row0 col0\" >connected</td>\n",
              "                        <td id=\"T_ab77925c_a552_11ea_8514_99ad24f6662erow0_col1\" class=\"data row0 col1\" >9</td>\n",
              "            </tr>\n",
              "            <tr>\n",
              "                        <th id=\"T_ab77925c_a552_11ea_8514_99ad24f6662elevel0_row1\" class=\"row_heading level0 row1\" >1</th>\n",
              "                        <td id=\"T_ab77925c_a552_11ea_8514_99ad24f6662erow1_col0\" class=\"data row1 col0\" >r</td>\n",
              "                        <td id=\"T_ab77925c_a552_11ea_8514_99ad24f6662erow1_col1\" class=\"data row1 col1\" >8</td>\n",
              "            </tr>\n",
              "            <tr>\n",
              "                        <th id=\"T_ab77925c_a552_11ea_8514_99ad24f6662elevel0_row2\" class=\"row_heading level0 row2\" >2</th>\n",
              "                        <td id=\"T_ab77925c_a552_11ea_8514_99ad24f6662erow2_col0\" class=\"data row2 col0\" >front</td>\n",
              "                        <td id=\"T_ab77925c_a552_11ea_8514_99ad24f6662erow2_col1\" class=\"data row2 col1\" >8</td>\n",
              "            </tr>\n",
              "            <tr>\n",
              "                        <th id=\"T_ab77925c_a552_11ea_8514_99ad24f6662elevel0_row3\" class=\"row_heading level0 row3\" >3</th>\n",
              "                        <td id=\"T_ab77925c_a552_11ea_8514_99ad24f6662erow3_col0\" class=\"data row3 col0\" >aspiring</td>\n",
              "                        <td id=\"T_ab77925c_a552_11ea_8514_99ad24f6662erow3_col1\" class=\"data row3 col1\" >8</td>\n",
              "            </tr>\n",
              "            <tr>\n",
              "                        <th id=\"T_ab77925c_a552_11ea_8514_99ad24f6662elevel0_row4\" class=\"row_heading level0 row4\" >4</th>\n",
              "                        <td id=\"T_ab77925c_a552_11ea_8514_99ad24f6662erow4_col0\" class=\"data row4 col0\" >society</td>\n",
              "                        <td id=\"T_ab77925c_a552_11ea_8514_99ad24f6662erow4_col1\" class=\"data row4 col1\" >7</td>\n",
              "            </tr>\n",
              "            <tr>\n",
              "                        <th id=\"T_ab77925c_a552_11ea_8514_99ad24f6662elevel0_row5\" class=\"row_heading level0 row5\" >5</th>\n",
              "                        <td id=\"T_ab77925c_a552_11ea_8514_99ad24f6662erow5_col0\" class=\"data row5 col0\" >clients</td>\n",
              "                        <td id=\"T_ab77925c_a552_11ea_8514_99ad24f6662erow5_col1\" class=\"data row5 col1\" >7</td>\n",
              "            </tr>\n",
              "            <tr>\n",
              "                        <th id=\"T_ab77925c_a552_11ea_8514_99ad24f6662elevel0_row6\" class=\"row_heading level0 row6\" >6</th>\n",
              "                        <td id=\"T_ab77925c_a552_11ea_8514_99ad24f6662erow6_col0\" class=\"data row6 col0\" >watched</td>\n",
              "                        <td id=\"T_ab77925c_a552_11ea_8514_99ad24f6662erow6_col1\" class=\"data row6 col1\" >6</td>\n",
              "            </tr>\n",
              "            <tr>\n",
              "                        <th id=\"T_ab77925c_a552_11ea_8514_99ad24f6662elevel0_row7\" class=\"row_heading level0 row7\" >7</th>\n",
              "                        <td id=\"T_ab77925c_a552_11ea_8514_99ad24f6662erow7_col0\" class=\"data row7 col0\" >stayhomestaysafe</td>\n",
              "                        <td id=\"T_ab77925c_a552_11ea_8514_99ad24f6662erow7_col1\" class=\"data row7 col1\" >6</td>\n",
              "            </tr>\n",
              "            <tr>\n",
              "                        <th id=\"T_ab77925c_a552_11ea_8514_99ad24f6662elevel0_row8\" class=\"row_heading level0 row8\" >8</th>\n",
              "                        <td id=\"T_ab77925c_a552_11ea_8514_99ad24f6662erow8_col0\" class=\"data row8 col0\" >amongst</td>\n",
              "                        <td id=\"T_ab77925c_a552_11ea_8514_99ad24f6662erow8_col1\" class=\"data row8 col1\" >5</td>\n",
              "            </tr>\n",
              "            <tr>\n",
              "                        <th id=\"T_ab77925c_a552_11ea_8514_99ad24f6662elevel0_row9\" class=\"row_heading level0 row9\" >9</th>\n",
              "                        <td id=\"T_ab77925c_a552_11ea_8514_99ad24f6662erow9_col0\" class=\"data row9 col0\" >centre</td>\n",
              "                        <td id=\"T_ab77925c_a552_11ea_8514_99ad24f6662erow9_col1\" class=\"data row9 col1\" >5</td>\n",
              "            </tr>\n",
              "            <tr>\n",
              "                        <th id=\"T_ab77925c_a552_11ea_8514_99ad24f6662elevel0_row10\" class=\"row_heading level0 row10\" >10</th>\n",
              "                        <td id=\"T_ab77925c_a552_11ea_8514_99ad24f6662erow10_col0\" class=\"data row10 col0\" >grandchildren</td>\n",
              "                        <td id=\"T_ab77925c_a552_11ea_8514_99ad24f6662erow10_col1\" class=\"data row10 col1\" >5</td>\n",
              "            </tr>\n",
              "            <tr>\n",
              "                        <th id=\"T_ab77925c_a552_11ea_8514_99ad24f6662elevel0_row11\" class=\"row_heading level0 row11\" >11</th>\n",
              "                        <td id=\"T_ab77925c_a552_11ea_8514_99ad24f6662erow11_col0\" class=\"data row11 col0\" >wives</td>\n",
              "                        <td id=\"T_ab77925c_a552_11ea_8514_99ad24f6662erow11_col1\" class=\"data row11 col1\" >5</td>\n",
              "            </tr>\n",
              "            <tr>\n",
              "                        <th id=\"T_ab77925c_a552_11ea_8514_99ad24f6662elevel0_row12\" class=\"row_heading level0 row12\" >12</th>\n",
              "                        <td id=\"T_ab77925c_a552_11ea_8514_99ad24f6662erow12_col0\" class=\"data row12 col0\" >success</td>\n",
              "                        <td id=\"T_ab77925c_a552_11ea_8514_99ad24f6662erow12_col1\" class=\"data row12 col1\" >5</td>\n",
              "            </tr>\n",
              "            <tr>\n",
              "                        <th id=\"T_ab77925c_a552_11ea_8514_99ad24f6662elevel0_row13\" class=\"row_heading level0 row13\" >13</th>\n",
              "                        <td id=\"T_ab77925c_a552_11ea_8514_99ad24f6662erow13_col0\" class=\"data row13 col0\" >line</td>\n",
              "                        <td id=\"T_ab77925c_a552_11ea_8514_99ad24f6662erow13_col1\" class=\"data row13 col1\" >5</td>\n",
              "            </tr>\n",
              "            <tr>\n",
              "                        <th id=\"T_ab77925c_a552_11ea_8514_99ad24f6662elevel0_row14\" class=\"row_heading level0 row14\" >14</th>\n",
              "                        <td id=\"T_ab77925c_a552_11ea_8514_99ad24f6662erow14_col0\" class=\"data row14 col0\" >coronavirusuk</td>\n",
              "                        <td id=\"T_ab77925c_a552_11ea_8514_99ad24f6662erow14_col1\" class=\"data row14 col1\" >5</td>\n",
              "            </tr>\n",
              "            <tr>\n",
              "                        <th id=\"T_ab77925c_a552_11ea_8514_99ad24f6662elevel0_row15\" class=\"row_heading level0 row15\" >15</th>\n",
              "                        <td id=\"T_ab77925c_a552_11ea_8514_99ad24f6662erow15_col0\" class=\"data row15 col0\" >bekind</td>\n",
              "                        <td id=\"T_ab77925c_a552_11ea_8514_99ad24f6662erow15_col1\" class=\"data row15 col1\" >5</td>\n",
              "            </tr>\n",
              "            <tr>\n",
              "                        <th id=\"T_ab77925c_a552_11ea_8514_99ad24f6662elevel0_row16\" class=\"row_heading level0 row16\" >16</th>\n",
              "                        <td id=\"T_ab77925c_a552_11ea_8514_99ad24f6662erow16_col0\" class=\"data row16 col0\" >motherday</td>\n",
              "                        <td id=\"T_ab77925c_a552_11ea_8514_99ad24f6662erow16_col1\" class=\"data row16 col1\" >4</td>\n",
              "            </tr>\n",
              "            <tr>\n",
              "                        <th id=\"T_ab77925c_a552_11ea_8514_99ad24f6662elevel0_row17\" class=\"row_heading level0 row17\" >17</th>\n",
              "                        <td id=\"T_ab77925c_a552_11ea_8514_99ad24f6662erow17_col0\" class=\"data row17 col0\" >theyve</td>\n",
              "                        <td id=\"T_ab77925c_a552_11ea_8514_99ad24f6662erow17_col1\" class=\"data row17 col1\" >4</td>\n",
              "            </tr>\n",
              "            <tr>\n",
              "                        <th id=\"T_ab77925c_a552_11ea_8514_99ad24f6662elevel0_row18\" class=\"row_heading level0 row18\" >18</th>\n",
              "                        <td id=\"T_ab77925c_a552_11ea_8514_99ad24f6662erow18_col0\" class=\"data row18 col0\" >sick</td>\n",
              "                        <td id=\"T_ab77925c_a552_11ea_8514_99ad24f6662erow18_col1\" class=\"data row18 col1\" >4</td>\n",
              "            </tr>\n",
              "            <tr>\n",
              "                        <th id=\"T_ab77925c_a552_11ea_8514_99ad24f6662elevel0_row19\" class=\"row_heading level0 row19\" >19</th>\n",
              "                        <td id=\"T_ab77925c_a552_11ea_8514_99ad24f6662erow19_col0\" class=\"data row19 col0\" >surreal</td>\n",
              "                        <td id=\"T_ab77925c_a552_11ea_8514_99ad24f6662erow19_col1\" class=\"data row19 col1\" >4</td>\n",
              "            </tr>\n",
              "    </tbody></table>"
            ],
            "text/plain": [
              "<pandas.io.formats.style.Styler at 0x7fe281360d10>"
            ]
          },
          "metadata": {
            "tags": []
          },
          "execution_count": 160
        }
      ]
    },
    {
      "cell_type": "code",
      "metadata": {
        "id": "lcNJKYklgWpG",
        "colab_type": "code",
        "colab": {}
      },
      "source": [
        "def plot_wordcloud(text, mask=None, max_words=200, max_font_size=100, figure_size=(6.0, 6.0), color = 'white',\n",
        "                   title = None, title_size=40, image_color=False):\n",
        "    stopwords = set(STOPWORDS)\n",
        "    more_stopwords = {'u', \"im\"}\n",
        "    stopwords = stopwords.union(more_stopwords)\n",
        "\n",
        "    wordcloud = WordCloud(background_color=color,\n",
        "                    stopwords = stopwords,\n",
        "                    max_words = max_words,\n",
        "                    max_font_size = max_font_size, \n",
        "                    random_state = 42,\n",
        "                    width=100, \n",
        "                    height=100,\n",
        "                    scale=10)\n",
        "    wordcloud.generate(str(text))\n",
        "    \n",
        "    plt.figure(figsize=figure_size)\n",
        "    if image_color:\n",
        "        image_colors = ImageColorGenerator(mask);\n",
        "        plt.imshow(wordcloud.recolor(color_func=image_colors), interpolation=\"bilinear\");\n",
        "        plt.title(title, fontdict={'size': title_size,  \n",
        "                                  'verticalalignment': 'bottom'})\n",
        "    else:\n",
        "        plt.imshow(wordcloud);\n",
        "        plt.title(title, fontdict={'size': title_size, 'color': 'black', \n",
        "                                  'verticalalignment': 'bottom'})\n",
        "    plt.axis('off');\n",
        "    plt.tight_layout()  "
      ],
      "execution_count": null,
      "outputs": []
    },
    {
      "cell_type": "code",
      "metadata": {
        "id": "iCdlt7AQgWpK",
        "colab_type": "code",
        "colab": {},
        "outputId": "7029fdff-ac5d-48a2-eb12-828817d3d01f"
      },
      "source": [
        "plot_wordcloud(neutral_sent.cleaned_text, mask=pos_mask, title_size=30, title=\"Neutral Tweets\")"
      ],
      "execution_count": null,
      "outputs": [
        {
          "output_type": "display_data",
          "data": {
            "image/png": "[encoded data removed]",
            "text/plain": [
              "<Figure size 432x432 with 1 Axes>"
            ]
          },
          "metadata": {
            "tags": [],
            "needs_background": "light"
          }
        }
      ]
    },
    {
      "cell_type": "code",
      "metadata": {
        "id": "p8U9rhLUgWpN",
        "colab_type": "code",
        "colab": {},
        "outputId": "cf69f783-6c51-45c7-92a6-5732d818bae8"
      },
      "source": [
        "plot_wordcloud(positive_sent.cleaned_text, mask=pos_mask, title=\"Positive tweets\", title_size=30)"
      ],
      "execution_count": null,
      "outputs": [
        {
          "output_type": "display_data",
          "data": {
            "image/png": "[encoded data removed]",
            "text/plain": [
              "<Figure size 432x432 with 1 Axes>"
            ]
          },
          "metadata": {
            "tags": [],
            "needs_background": "light"
          }
        }
      ]
    },
    {
      "cell_type": "code",
      "metadata": {
        "id": "R54yDuQVgWpR",
        "colab_type": "code",
        "colab": {},
        "outputId": "2bdb62b7-aabb-43ac-e1d3-33f42f22f889"
      },
      "source": [
        "plot_wordcloud(negative_sent.cleaned_text, mask=pos_mask, title=\"Negative tweets\", title_size=30)"
      ],
      "execution_count": null,
      "outputs": [
        {
          "output_type": "display_data",
          "data": {
            "image/png": "[encoded data removed]",
            "text/plain": [
              "<Figure size 432x432 with 1 Axes>"
            ]
          },
          "metadata": {
            "tags": [],
            "needs_background": "light"
          }
        }
      ]
    },
    {
      "cell_type": "markdown",
      "metadata": {
        "id": "5fzHJjXMrWld",
        "colab_type": "text"
      },
      "source": [
        "# Modelling"
      ]
    },
    {
      "cell_type": "code",
      "metadata": {
        "id": "GoyhzE8ogWpX",
        "colab_type": "code",
        "colab": {
          "base_uri": "https://localhost:8080/",
          "height": 204
        },
        "outputId": "6b74c2a2-cb5d-463d-9260-bf2fbc4de4c8"
      },
      "source": [
        "# Important Cols cleaned_text and sentiment_class\n",
        "# Need to use it for test too\n",
        "train_df = train[['cleaned_text', 'sentiment_class']]\n",
        "train_df.head()"
      ],
      "execution_count": null,
      "outputs": [
        {
          "output_type": "execute_result",
          "data": {
            "text/html": [
              "<div>\n",
              "<style scoped>\n",
              "    .dataframe tbody tr th:only-of-type {\n",
              "        vertical-align: middle;\n",
              "    }\n",
              "\n",
              "    .dataframe tbody tr th {\n",
              "        vertical-align: top;\n",
              "    }\n",
              "\n",
              "    .dataframe thead th {\n",
              "        text-align: right;\n",
              "    }\n",
              "</style>\n",
              "<table border=\"1\" class=\"dataframe\">\n",
              "  <thead>\n",
              "    <tr style=\"text-align: right;\">\n",
              "      <th></th>\n",
              "      <th>cleaned_text</th>\n",
              "      <th>sentiment_class</th>\n",
              "    </tr>\n",
              "  </thead>\n",
              "  <tbody>\n",
              "    <tr>\n",
              "      <th>0</th>\n",
              "      <td>amazing know hard able see us protect vulnerab...</td>\n",
              "      <td>0</td>\n",
              "    </tr>\n",
              "    <tr>\n",
              "      <th>1</th>\n",
              "      <td>mum im sorry cant bring flowers cwtch honestly...</td>\n",
              "      <td>0</td>\n",
              "    </tr>\n",
              "    <tr>\n",
              "      <th>2</th>\n",
              "      <td>work quiet time reflect dog walk finish jigsaw...</td>\n",
              "      <td>-1</td>\n",
              "    </tr>\n",
              "    <tr>\n",
              "      <th>3</th>\n",
              "      <td>beautiful womanroyalty soothes mummy jeremy em...</td>\n",
              "      <td>0</td>\n",
              "    </tr>\n",
              "    <tr>\n",
              "      <th>4</th>\n",
              "      <td>remembering amazing ladies made late grandmoth...</td>\n",
              "      <td>-1</td>\n",
              "    </tr>\n",
              "  </tbody>\n",
              "</table>\n",
              "</div>"
            ],
            "text/plain": [
              "                                        cleaned_text  sentiment_class\n",
              "0  amazing know hard able see us protect vulnerab...                0\n",
              "1  mum im sorry cant bring flowers cwtch honestly...                0\n",
              "2  work quiet time reflect dog walk finish jigsaw...               -1\n",
              "3  beautiful womanroyalty soothes mummy jeremy em...                0\n",
              "4  remembering amazing ladies made late grandmoth...               -1"
            ]
          },
          "metadata": {
            "tags": []
          },
          "execution_count": 30
        }
      ]
    },
    {
      "cell_type": "code",
      "metadata": {
        "id": "-GH1SO0WVWAo",
        "colab_type": "code",
        "colab": {
          "base_uri": "https://localhost:8080/",
          "height": 204
        },
        "outputId": "21d39df2-c2cd-4996-c979-06b3f0e0627f"
      },
      "source": [
        "test['cleaned_text'] = test['original_text'].apply(lambda x:clean_text(x))\n",
        "test_df = test[['id', 'cleaned_text']]\n",
        "test_df.head()"
      ],
      "execution_count": null,
      "outputs": [
        {
          "output_type": "execute_result",
          "data": {
            "text/html": [
              "<div>\n",
              "<style scoped>\n",
              "    .dataframe tbody tr th:only-of-type {\n",
              "        vertical-align: middle;\n",
              "    }\n",
              "\n",
              "    .dataframe tbody tr th {\n",
              "        vertical-align: top;\n",
              "    }\n",
              "\n",
              "    .dataframe thead th {\n",
              "        text-align: right;\n",
              "    }\n",
              "</style>\n",
              "<table border=\"1\" class=\"dataframe\">\n",
              "  <thead>\n",
              "    <tr style=\"text-align: right;\">\n",
              "      <th></th>\n",
              "      <th>id</th>\n",
              "      <th>cleaned_text</th>\n",
              "    </tr>\n",
              "  </thead>\n",
              "  <tbody>\n",
              "    <tr>\n",
              "      <th>0</th>\n",
              "      <td>1.246628e+18</td>\n",
              "      <td>yeah cooked potatoes years old mean threw bag ...</td>\n",
              "    </tr>\n",
              "    <tr>\n",
              "      <th>1</th>\n",
              "      <td>1.245898e+18</td>\n",
              "      <td>mums stepmums grand dads cover parental roles ...</td>\n",
              "    </tr>\n",
              "    <tr>\n",
              "      <th>2</th>\n",
              "      <td>1.244717e+18</td>\n",
              "      <td>love people uk however awoke saw trending woke...</td>\n",
              "    </tr>\n",
              "    <tr>\n",
              "      <th>3</th>\n",
              "      <td>1.245730e+18</td>\n",
              "      <td>birth mum cant see keep safe shame many others...</td>\n",
              "    </tr>\n",
              "    <tr>\n",
              "      <th>4</th>\n",
              "      <td>1.244636e+18</td>\n",
              "      <td>wonderful world live present always rely mothe...</td>\n",
              "    </tr>\n",
              "  </tbody>\n",
              "</table>\n",
              "</div>"
            ],
            "text/plain": [
              "             id                                       cleaned_text\n",
              "0  1.246628e+18  yeah cooked potatoes years old mean threw bag ...\n",
              "1  1.245898e+18  mums stepmums grand dads cover parental roles ...\n",
              "2  1.244717e+18  love people uk however awoke saw trending woke...\n",
              "3  1.245730e+18  birth mum cant see keep safe shame many others...\n",
              "4  1.244636e+18  wonderful world live present always rely mothe..."
            ]
          },
          "metadata": {
            "tags": []
          },
          "execution_count": 31
        }
      ]
    },
    {
      "cell_type": "code",
      "metadata": {
        "id": "CC-egtxoPp39",
        "colab_type": "code",
        "colab": {}
      },
      "source": [
        "type_one_hot = OneHotEncoder(sparse=False).fit_transform(\n",
        "    train_df.sentiment_class.to_numpy().reshape(-1, 1)\n",
        ")"
      ],
      "execution_count": null,
      "outputs": []
    },
    {
      "cell_type": "code",
      "metadata": {
        "id": "S-67U73DQDo6",
        "colab_type": "code",
        "colab": {}
      },
      "source": [
        "train_x, test_x, train_y, test_y = train_test_split(train_df.cleaned_text,\n",
        "                                                    type_one_hot,\n",
        "                                                    test_size=.1,\n",
        "                                                    random_state=1\n",
        "                                                  )"
      ],
      "execution_count": null,
      "outputs": []
    },
    {
      "cell_type": "markdown",
      "metadata": {
        "id": "nr2AoMossHjj",
        "colab_type": "text"
      },
      "source": [
        "# Modelling 1: Embedding Pre Lookup Model"
      ]
    },
    {
      "cell_type": "code",
      "metadata": {
        "id": "Y9oueRgKsDlk",
        "colab_type": "code",
        "colab": {}
      },
      "source": [
        "module_url = \"https://tfhub.dev/google/nnlm-en-dim128/2\"\n",
        "embed = hub.KerasLayer(module_url)\n",
        "embeddings = embed([\"A long sentence.\", \"single-word\",\n",
        "                    \"http://example.com\"])\n",
        "print(embeddings.shape)  #(3,128)"
      ],
      "execution_count": null,
      "outputs": []
    },
    {
      "cell_type": "code",
      "metadata": {
        "id": "mXxtlOqWQ9VJ",
        "colab_type": "code",
        "colab": {
          "base_uri": "https://localhost:8080/",
          "height": 35
        },
        "outputId": "f8a07df4-b9a7-4d75-cfda-a96d9df00fbb"
      },
      "source": [
        "train_X = []\n",
        "\n",
        "for sentence in tqdm(train_x):\n",
        "  emb = embed([sentence])\n",
        "  sentence_embedding = tf.reshape(emb, [-1]).numpy()\n",
        "  train_X.append(sentence_embedding)\n",
        "\n",
        "train_X = np.array(train_X)"
      ],
      "execution_count": null,
      "outputs": [
        {
          "output_type": "stream",
          "text": [
            "100%|██████████| 2911/2911 [00:02<00:00, 1090.09it/s]\n"
          ],
          "name": "stderr"
        }
      ]
    },
    {
      "cell_type": "code",
      "metadata": {
        "id": "AqnEypL-VBoo",
        "colab_type": "code",
        "colab": {
          "base_uri": "https://localhost:8080/",
          "height": 35
        },
        "outputId": "63fc6dcd-de90-44fe-ef53-bd6f8ad70d7f"
      },
      "source": [
        "test_X = []\n",
        "\n",
        "for sentence in tqdm(test_x):\n",
        "  emb = embed([sentence])\n",
        "  sentence_embedding = tf.reshape(emb, [-1]).numpy()\n",
        "  test_X.append(sentence_embedding)\n",
        "\n",
        "test_X = np.array(test_X)"
      ],
      "execution_count": null,
      "outputs": [
        {
          "output_type": "stream",
          "text": [
            "100%|██████████| 324/324 [00:00<00:00, 1088.92it/s]\n"
          ],
          "name": "stderr"
        }
      ]
    },
    {
      "cell_type": "code",
      "metadata": {
        "id": "f04GZm5MQ9gW",
        "colab_type": "code",
        "colab": {}
      },
      "source": [
        "model = keras.Sequential()\n",
        "# model.add(hub_layer)\n",
        "model.add(keras.layers.Dense(units=256, input_shape=(train_X.shape[1],), \n",
        "                             activation='relu'))\n",
        "model.add(keras.layers.Dropout(rate=0.5))\n",
        "model.add(keras.layers.Dense(units=128, activation='relu'))\n",
        "model.add(keras.layers.Dropout(rate=0.5))\n",
        "model.add(keras.layers.Dense(3, activation='softmax'))\n",
        "model.compile(loss='categorical_crossentropy', optimizer=keras.optimizers.Adam(0.001), \n",
        "              metrics=['accuracy'])"
      ],
      "execution_count": null,
      "outputs": []
    },
    {
      "cell_type": "code",
      "metadata": {
        "id": "K0TT5EUDQ9l-",
        "colab_type": "code",
        "colab": {}
      },
      "source": [
        "history = model.fit(train_X, train_y, epochs=100, batch_size=4, \n",
        "                    validation_split=0.1, \n",
        "                    verbose=1, \n",
        "                    shuffle=True)"
      ],
      "execution_count": null,
      "outputs": []
    },
    {
      "cell_type": "code",
      "metadata": {
        "id": "UJaBCiLHQ9pF",
        "colab_type": "code",
        "colab": {
          "base_uri": "https://localhost:8080/",
          "height": 606
        },
        "outputId": "969f62f2-f30e-4199-f18f-4198c2fe55d1"
      },
      "source": [
        "plt.figure(figsize=(10, 10))\n",
        "plt.plot(history.history['loss'], label='train loss')\n",
        "plt.plot(history.history['val_loss'], label='val loss')\n",
        "plt.xlabel(\"epoch\")\n",
        "plt.ylabel(\"Cross-entropy loss\")\n",
        "plt.legend();"
      ],
      "execution_count": null,
      "outputs": [
        {
          "output_type": "display_data",
          "data": {
            "image/png": "[encoded data removed]",
            "text/plain": [
              "<Figure size 720x720 with 1 Axes>"
            ]
          },
          "metadata": {
            "tags": [],
            "needs_background": "light"
          }
        }
      ]
    },
    {
      "cell_type": "code",
      "metadata": {
        "id": "HqlR45aSUfVU",
        "colab_type": "code",
        "colab": {
          "base_uri": "https://localhost:8080/",
          "height": 279
        },
        "outputId": "b5d730de-4560-4c91-cecd-475f1abf85a5"
      },
      "source": [
        "plt.plot(history.history['accuracy'], label='train accuracy')\n",
        "plt.plot(history.history['val_accuracy'], label='val accuracy')\n",
        "plt.xlabel(\"epoch\")\n",
        "plt.ylabel(\"accuracy\")\n",
        "plt.legend();"
      ],
      "execution_count": null,
      "outputs": [
        {
          "output_type": "display_data",
          "data": {
            "image/png": "[encoded data removed]",
            "text/plain": [
              "<Figure size 432x288 with 1 Axes>"
            ]
          },
          "metadata": {
            "tags": [],
            "needs_background": "light"
          }
        }
      ]
    },
    {
      "cell_type": "code",
      "metadata": {
        "id": "BcA25q-kUzQB",
        "colab_type": "code",
        "colab": {
          "base_uri": "https://localhost:8080/",
          "height": 53
        },
        "outputId": "e9a16088-f784-44e7-af8a-1ab339aeb7f0"
      },
      "source": [
        "model.evaluate(test_X, test_y)"
      ],
      "execution_count": null,
      "outputs": [
        {
          "output_type": "stream",
          "text": [
            "11/11 [==============================] - 0s 1ms/step - loss: 2.9673 - accuracy: 0.4444\n"
          ],
          "name": "stdout"
        },
        {
          "output_type": "execute_result",
          "data": {
            "text/plain": [
              "[2.967316150665283, 0.4444444477558136]"
            ]
          },
          "metadata": {
            "tags": []
          },
          "execution_count": 58
        }
      ]
    },
    {
      "cell_type": "markdown",
      "metadata": {
        "id": "ttFaGw18WHuj",
        "colab_type": "text"
      },
      "source": [
        "# Modelling 2: Embedding Layer Model\n"
      ]
    },
    {
      "cell_type": "code",
      "metadata": {
        "id": "EaQcW485WmPr",
        "colab_type": "code",
        "colab": {}
      },
      "source": [
        "train_x, test_x, train_y, test_y = train_test_split(train_df.cleaned_text,\n",
        "                                                    type_one_hot,\n",
        "                                                    test_size=.1,\n",
        "                                                    random_state=1\n",
        "                                                  )"
      ],
      "execution_count": null,
      "outputs": []
    },
    {
      "cell_type": "code",
      "metadata": {
        "id": "vGVIsHKXU051",
        "colab_type": "code",
        "colab": {
          "base_uri": "https://localhost:8080/",
          "height": 305
        },
        "outputId": "876993a3-3026-496c-d5c2-50a8c08d3048"
      },
      "source": [
        "hub_layer = hub.KerasLayer(\"https://tfhub.dev/google/tf2-preview/nnlm-en-dim128/1\", output_shape=[128],\n",
        "                           input_shape=[], dtype=tf.string)\n",
        "model = keras.Sequential()\n",
        "model.add(hub_layer)\n",
        "model.add(keras.layers.Dense(64, activation='relu'))\n",
        "model.add(keras.layers.Dropout(rate=0.5))\n",
        "model.add(keras.layers.Dense(3, activation='softmax'))\n",
        "model.summary()"
      ],
      "execution_count": null,
      "outputs": [
        {
          "output_type": "stream",
          "text": [
            "Model: \"sequential_13\"\n",
            "_________________________________________________________________\n",
            "Layer (type)                 Output Shape              Param #   \n",
            "=================================================================\n",
            "keras_layer_7 (KerasLayer)   (None, 128)               124642688 \n",
            "_________________________________________________________________\n",
            "dense_26 (Dense)             (None, 64)                8256      \n",
            "_________________________________________________________________\n",
            "dropout_14 (Dropout)         (None, 64)                0         \n",
            "_________________________________________________________________\n",
            "dense_27 (Dense)             (None, 3)                 195       \n",
            "=================================================================\n",
            "Total params: 124,651,139\n",
            "Trainable params: 8,451\n",
            "Non-trainable params: 124,642,688\n",
            "_________________________________________________________________\n"
          ],
          "name": "stdout"
        }
      ]
    },
    {
      "cell_type": "code",
      "metadata": {
        "id": "7O4sdj5eomoL",
        "colab_type": "code",
        "colab": {
          "base_uri": "https://localhost:8080/",
          "height": 503
        },
        "outputId": "cc6bf9b0-89dd-4821-8513-cb92c78eab68"
      },
      "source": [
        "# input_text = tf.keras.Input((), dtype=tf.string, name='input_text')\n",
        "# embedding = hub_layer(input_text)\n",
        "embed([train_df['cleaned_text'][0]])"
      ],
      "execution_count": null,
      "outputs": [
        {
          "output_type": "execute_result",
          "data": {
            "text/plain": [
              "<tf.Tensor: shape=(1, 128), dtype=float32, numpy=\n",
              "array([[ 0.19140953,  0.19943511,  0.02795447,  0.14277649,  0.06675703,\n",
              "        -0.22592582,  0.15257737,  0.01113997, -0.02177524, -0.0204234 ,\n",
              "        -0.13202837,  0.00165972,  0.06693799, -0.2561168 ,  0.21297517,\n",
              "        -0.05325458, -0.02367662, -0.17761189, -0.06414608, -0.02169079,\n",
              "         0.00933411,  0.07365692,  0.10530455,  0.02278584, -0.03877132,\n",
              "        -0.31471723,  0.11946777,  0.3306818 , -0.0318742 , -0.05605437,\n",
              "         0.0299108 ,  0.05090968,  0.20386484,  0.06150984,  0.24057205,\n",
              "        -0.09016474, -0.2541646 , -0.00275669,  0.19382554, -0.01365957,\n",
              "        -0.1495418 , -0.21498775, -0.10399609, -0.02398051, -0.00932805,\n",
              "        -0.01196792, -0.04063909,  0.06410025,  0.20106676,  0.08038047,\n",
              "         0.00984398, -0.00358324, -0.16204569,  0.08942051,  0.00294448,\n",
              "        -0.0121595 , -0.01891474, -0.22219263,  0.023642  ,  0.03489816,\n",
              "        -0.1047613 ,  0.2960454 ,  0.06307705, -0.08355895, -0.09318483,\n",
              "         0.24511233,  0.16326042, -0.0633125 ,  0.16531676,  0.15071511,\n",
              "        -0.01402343, -0.01644779,  0.11852515, -0.06032238, -0.06237569,\n",
              "         0.2852276 , -0.00611731,  0.14151852, -0.05565982, -0.14333674,\n",
              "         0.12146173,  0.18745154, -0.07105145, -0.07246558, -0.06071371,\n",
              "        -0.04683028, -0.05717437,  0.15850788,  0.23583809,  0.27997446,\n",
              "         0.02996711,  0.12209798, -0.13292222,  0.1115362 ,  0.21339451,\n",
              "         0.0568382 ,  0.07200116, -0.2901007 , -0.2162771 ,  0.12132119,\n",
              "         0.16376875,  0.2815851 , -0.05384479,  0.0352916 ,  0.1125657 ,\n",
              "        -0.11344439, -0.00670838,  0.31445336, -0.23317218,  0.14182138,\n",
              "        -0.0838872 ,  0.05637464, -0.08725597, -0.01606803, -0.12827334,\n",
              "        -0.09256514,  0.11737487, -0.15944733, -0.10380868,  0.24041755,\n",
              "         0.15705727, -0.0046884 ,  0.10627328,  0.21246898, -0.05167941,\n",
              "        -0.16350594,  0.02573868, -0.15826574]], dtype=float32)>"
            ]
          },
          "metadata": {
            "tags": []
          },
          "execution_count": 131
        }
      ]
    },
    {
      "cell_type": "code",
      "metadata": {
        "id": "nO9OkW-SUzyh",
        "colab_type": "code",
        "colab": {}
      },
      "source": [
        "model.compile(loss='categorical_crossentropy', optimizer=keras.optimizers.Adam(0.001), \n",
        "              metrics=['accuracy'])\n",
        "\n",
        "history = model.fit(train_x, train_y, epochs=1, batch_size=16, \n",
        "                    validation_split=0.1, \n",
        "                    verbose=1, \n",
        "                    shuffle=True)"
      ],
      "execution_count": null,
      "outputs": []
    },
    {
      "cell_type": "code",
      "metadata": {
        "id": "omactKmuWbax",
        "colab_type": "code",
        "colab": {
          "base_uri": "https://localhost:8080/",
          "height": 279
        },
        "outputId": "015a33f0-4e93-447f-cfc8-724786e6378d"
      },
      "source": [
        "plt.plot(history.history['accuracy'], label='train accuracy')\n",
        "plt.plot(history.history['val_accuracy'], label='val accuracy')\n",
        "plt.xlabel(\"epoch\")\n",
        "plt.ylabel(\"accuracy\")\n",
        "plt.legend();"
      ],
      "execution_count": null,
      "outputs": [
        {
          "output_type": "display_data",
          "data": {
            "image/png": "[encoded data removed]",
            "text/plain": [
              "<Figure size 432x288 with 1 Axes>"
            ]
          },
          "metadata": {
            "tags": [],
            "needs_background": "light"
          }
        }
      ]
    },
    {
      "cell_type": "code",
      "metadata": {
        "id": "V98E6hM0WbRj",
        "colab_type": "code",
        "colab": {
          "base_uri": "https://localhost:8080/",
          "height": 53
        },
        "outputId": "834d4dda-4b8e-425a-82a7-468ca3393342"
      },
      "source": [
        "model.evaluate(test_x, test_y)"
      ],
      "execution_count": null,
      "outputs": [
        {
          "output_type": "stream",
          "text": [
            "11/11 [==============================] - 2s 160ms/step - loss: 1.0372 - accuracy: 0.5093\n"
          ],
          "name": "stdout"
        },
        {
          "output_type": "execute_result",
          "data": {
            "text/plain": [
              "[1.0371732711791992, 0.5092592835426331]"
            ]
          },
          "metadata": {
            "tags": []
          },
          "execution_count": 80
        }
      ]
    },
    {
      "cell_type": "code",
      "metadata": {
        "id": "mCl5cA6ge688",
        "colab_type": "code",
        "colab": {
          "base_uri": "https://localhost:8080/",
          "height": 53
        },
        "outputId": "387c98d7-6ee7-4bc4-f0ee-5dcf7c60bad8"
      },
      "source": [
        "predictions = model.predict(test_df['cleaned_text'])\n",
        "class_preds = np.argmax(predictions, axis=1)\n",
        "test_df['sentiment_class'] = class_preds\n",
        "test_df[['id', 'sentiment_class']].to_csv('submission.csv', index=False)"
      ],
      "execution_count": null,
      "outputs": [
        {
          "output_type": "stream",
          "text": [
            "[0.23998727 0.5277512  0.23226152]\n"
          ],
          "name": "stdout"
        },
        {
          "output_type": "execute_result",
          "data": {
            "text/plain": [
              "(1387,)"
            ]
          },
          "metadata": {
            "tags": []
          },
          "execution_count": 103
        }
      ]
    },
    {
      "cell_type": "markdown",
      "metadata": {
        "id": "7DA6kY4Rh-s_",
        "colab_type": "text"
      },
      "source": [
        "# Modelling 3: Embedding + LSTM Model\n"
      ]
    },
    {
      "cell_type": "code",
      "metadata": {
        "id": "K07gJWaqiCR1",
        "colab_type": "code",
        "colab": {
          "base_uri": "https://localhost:8080/",
          "height": 413
        },
        "outputId": "e0ff696e-73f6-43e6-c5a9-c82890e68e6d"
      },
      "source": [
        "# Try Ensembling/ Two LSTM or GRU?\n",
        "\n",
        "hub_layer = hub.KerasLayer(\"https://tfhub.dev/google/tf2-preview/nnlm-en-dim128/1\", output_shape=[128],\n",
        "                           input_shape=[], dtype=tf.string)\n",
        "model = keras.Sequential()\n",
        "model.add(hub_layer)\n",
        "model.add(keras.layers.Reshape(target_shape=(128, 1)))\n",
        "model.add(keras.layers.Bidirectional(keras.layers.LSTM(64, return_sequences=True)))\n",
        "model.add(keras.layers.Bidirectional(keras.layers.LSTM(32)))\n",
        "model.add(keras.layers.Dense(64, activation='relu'))\n",
        "model.add(keras.layers.Dropout(rate=0.5))\n",
        "model.add(keras.layers.Dense(3, activation='softmax'))\n",
        "model.summary()"
      ],
      "execution_count": null,
      "outputs": [
        {
          "output_type": "stream",
          "text": [
            "Model: \"sequential_2\"\n",
            "_________________________________________________________________\n",
            "Layer (type)                 Output Shape              Param #   \n",
            "=================================================================\n",
            "keras_layer_2 (KerasLayer)   (None, 128)               124642688 \n",
            "_________________________________________________________________\n",
            "reshape_2 (Reshape)          (None, 128, 1)            0         \n",
            "_________________________________________________________________\n",
            "bidirectional_4 (Bidirection (None, 128, 128)          33792     \n",
            "_________________________________________________________________\n",
            "bidirectional_5 (Bidirection (None, 64)                41216     \n",
            "_________________________________________________________________\n",
            "dense_4 (Dense)              (None, 64)                4160      \n",
            "_________________________________________________________________\n",
            "dropout_2 (Dropout)          (None, 64)                0         \n",
            "_________________________________________________________________\n",
            "dense_5 (Dense)              (None, 3)                 195       \n",
            "=================================================================\n",
            "Total params: 124,722,051\n",
            "Trainable params: 79,363\n",
            "Non-trainable params: 124,642,688\n",
            "_________________________________________________________________\n"
          ],
          "name": "stdout"
        }
      ]
    },
    {
      "cell_type": "code",
      "metadata": {
        "id": "34l-Og3ZXRLK",
        "colab_type": "code",
        "colab": {}
      },
      "source": [
        "total_rows = [769, 1693, 765]\n",
        "weight_rows = [1075/769, 1075/1693, 1075/765]\n",
        "class_weight = {0: weight_rows[0], 1: weight_rows[1], 2: weight_rows[2]}"
      ],
      "execution_count": null,
      "outputs": []
    },
    {
      "cell_type": "code",
      "metadata": {
        "id": "7SSDtFvll83d",
        "colab_type": "code",
        "colab": {
          "base_uri": "https://localhost:8080/",
          "height": 1000
        },
        "outputId": "00dab4b3-1b17-4187-a017-eb031e5ff3a1"
      },
      "source": [
        "METRICS = [      \n",
        "      keras.metrics.CategoricalAccuracy(name='accuracy'),      \n",
        "      keras.metrics.AUC(name='auc', multi_label=True),\n",
        "]\n",
        "\n",
        "model.compile(loss='categorical_crossentropy', optimizer=keras.optimizers.Adam(1e-4), \n",
        "              metrics=METRICS)\n",
        "\n",
        "history = model.fit(train_x, train_y, epochs=100, batch_size=64, \n",
        "                    validation_split=0.1, \n",
        "                    verbose=1, \n",
        "                    shuffle=True,\n",
        "                    class_weight=class_weight)"
      ],
      "execution_count": null,
      "outputs": [
        {
          "output_type": "stream",
          "text": [
            "Epoch 1/100\n",
            "41/41 [==============================] - 7s 172ms/step - loss: 1.0932 - accuracy: 0.3058 - auc: 0.5382 - val_loss: 1.1070 - val_accuracy: 0.2329 - val_auc: 0.4697\n",
            "Epoch 2/100\n",
            "41/41 [==============================] - 5s 126ms/step - loss: 1.0928 - accuracy: 0.3100 - auc: 0.5435 - val_loss: 1.1074 - val_accuracy: 0.2500 - val_auc: 0.4720\n",
            "Epoch 3/100\n",
            "41/41 [==============================] - 5s 125ms/step - loss: 1.0922 - accuracy: 0.3058 - auc: 0.5409 - val_loss: 1.1080 - val_accuracy: 0.2329 - val_auc: 0.4756\n",
            "Epoch 4/100\n",
            "41/41 [==============================] - 5s 125ms/step - loss: 1.0935 - accuracy: 0.2994 - auc: 0.5386 - val_loss: 1.1052 - val_accuracy: 0.2397 - val_auc: 0.4686\n",
            "Epoch 5/100\n",
            "41/41 [==============================] - 5s 124ms/step - loss: 1.0923 - accuracy: 0.3131 - auc: 0.5433 - val_loss: 1.1068 - val_accuracy: 0.2329 - val_auc: 0.4694\n",
            "Epoch 6/100\n",
            "41/41 [==============================] - 5s 124ms/step - loss: 1.0937 - accuracy: 0.3158 - auc: 0.5378 - val_loss: 1.1052 - val_accuracy: 0.2500 - val_auc: 0.4687\n",
            "Epoch 7/100\n",
            "41/41 [==============================] - 5s 123ms/step - loss: 1.0928 - accuracy: 0.3123 - auc: 0.5426 - val_loss: 1.1076 - val_accuracy: 0.2295 - val_auc: 0.4744\n",
            "Epoch 8/100\n",
            "41/41 [==============================] - 5s 124ms/step - loss: 1.0926 - accuracy: 0.3150 - auc: 0.5441 - val_loss: 1.1073 - val_accuracy: 0.2295 - val_auc: 0.4702\n",
            "Epoch 9/100\n",
            "41/41 [==============================] - 5s 125ms/step - loss: 1.0932 - accuracy: 0.3047 - auc: 0.5386 - val_loss: 1.1092 - val_accuracy: 0.2226 - val_auc: 0.4734\n",
            "Epoch 10/100\n",
            "41/41 [==============================] - 5s 123ms/step - loss: 1.0932 - accuracy: 0.3131 - auc: 0.5426 - val_loss: 1.1054 - val_accuracy: 0.2432 - val_auc: 0.4683\n",
            "Epoch 11/100\n",
            "41/41 [==============================] - 5s 123ms/step - loss: 1.0917 - accuracy: 0.3200 - auc: 0.5457 - val_loss: 1.1074 - val_accuracy: 0.2466 - val_auc: 0.4671\n",
            "Epoch 12/100\n",
            "41/41 [==============================] - 5s 123ms/step - loss: 1.0903 - accuracy: 0.3139 - auc: 0.5516 - val_loss: 1.1074 - val_accuracy: 0.2432 - val_auc: 0.4641\n",
            "Epoch 13/100\n",
            "41/41 [==============================] - 5s 123ms/step - loss: 1.0928 - accuracy: 0.3062 - auc: 0.5373 - val_loss: 1.1089 - val_accuracy: 0.2397 - val_auc: 0.4723\n",
            "Epoch 14/100\n",
            "41/41 [==============================] - 5s 123ms/step - loss: 1.0929 - accuracy: 0.3238 - auc: 0.5439 - val_loss: 1.1077 - val_accuracy: 0.2466 - val_auc: 0.4695\n",
            "Epoch 15/100\n",
            "41/41 [==============================] - 5s 124ms/step - loss: 1.0920 - accuracy: 0.3238 - auc: 0.5430 - val_loss: 1.1073 - val_accuracy: 0.2397 - val_auc: 0.4684\n",
            "Epoch 16/100\n",
            "41/41 [==============================] - 5s 124ms/step - loss: 1.0925 - accuracy: 0.3268 - auc: 0.5449 - val_loss: 1.1083 - val_accuracy: 0.2363 - val_auc: 0.4692\n",
            "Epoch 17/100\n",
            "41/41 [==============================] - 5s 124ms/step - loss: 1.0921 - accuracy: 0.3131 - auc: 0.5458 - val_loss: 1.1085 - val_accuracy: 0.2363 - val_auc: 0.4689\n",
            "Epoch 18/100\n",
            "41/41 [==============================] - 5s 124ms/step - loss: 1.0913 - accuracy: 0.3234 - auc: 0.5504 - val_loss: 1.1089 - val_accuracy: 0.2363 - val_auc: 0.4664\n",
            "Epoch 19/100\n",
            "41/41 [==============================] - 5s 124ms/step - loss: 1.0915 - accuracy: 0.3253 - auc: 0.5462 - val_loss: 1.1080 - val_accuracy: 0.2432 - val_auc: 0.4696\n",
            "Epoch 20/100\n",
            "41/41 [==============================] - 5s 124ms/step - loss: 1.0930 - accuracy: 0.3181 - auc: 0.5405 - val_loss: 1.1060 - val_accuracy: 0.2603 - val_auc: 0.4670\n",
            "Epoch 21/100\n",
            "41/41 [==============================] - 5s 124ms/step - loss: 1.0911 - accuracy: 0.3249 - auc: 0.5481 - val_loss: 1.1076 - val_accuracy: 0.2363 - val_auc: 0.4671\n",
            "Epoch 22/100\n",
            "41/41 [==============================] - 5s 124ms/step - loss: 1.0933 - accuracy: 0.3207 - auc: 0.5406 - val_loss: 1.1071 - val_accuracy: 0.2568 - val_auc: 0.4704\n",
            "Epoch 23/100\n",
            "41/41 [==============================] - 5s 124ms/step - loss: 1.0917 - accuracy: 0.3184 - auc: 0.5483 - val_loss: 1.1075 - val_accuracy: 0.2432 - val_auc: 0.4658\n",
            "Epoch 24/100\n",
            "41/41 [==============================] - 5s 124ms/step - loss: 1.0898 - accuracy: 0.3307 - auc: 0.5531 - val_loss: 1.1070 - val_accuracy: 0.2500 - val_auc: 0.4673\n",
            "Epoch 25/100\n",
            "41/41 [==============================] - 5s 124ms/step - loss: 1.0910 - accuracy: 0.3391 - auc: 0.5493 - val_loss: 1.1087 - val_accuracy: 0.2568 - val_auc: 0.4709\n",
            "Epoch 26/100\n",
            "41/41 [==============================] - 5s 124ms/step - loss: 1.0884 - accuracy: 0.3421 - auc: 0.5592 - val_loss: 1.1086 - val_accuracy: 0.2603 - val_auc: 0.4700\n",
            "Epoch 27/100\n",
            "41/41 [==============================] - 5s 124ms/step - loss: 1.0905 - accuracy: 0.3295 - auc: 0.5518 - val_loss: 1.1078 - val_accuracy: 0.2740 - val_auc: 0.4725\n",
            "Epoch 28/100\n",
            "41/41 [==============================] - 5s 124ms/step - loss: 1.0922 - accuracy: 0.3230 - auc: 0.5474 - val_loss: 1.1073 - val_accuracy: 0.2637 - val_auc: 0.4682\n",
            "Epoch 29/100\n",
            "41/41 [==============================] - 5s 124ms/step - loss: 1.0924 - accuracy: 0.3375 - auc: 0.5413 - val_loss: 1.1059 - val_accuracy: 0.2671 - val_auc: 0.4745\n",
            "Epoch 30/100\n",
            "41/41 [==============================] - 5s 124ms/step - loss: 1.0900 - accuracy: 0.3467 - auc: 0.5551 - val_loss: 1.1090 - val_accuracy: 0.2568 - val_auc: 0.4711\n",
            "Epoch 31/100\n",
            "41/41 [==============================] - 5s 124ms/step - loss: 1.0896 - accuracy: 0.3520 - auc: 0.5526 - val_loss: 1.1070 - val_accuracy: 0.2740 - val_auc: 0.4738\n",
            "Epoch 32/100\n",
            "41/41 [==============================] - 5s 124ms/step - loss: 1.0900 - accuracy: 0.3414 - auc: 0.5579 - val_loss: 1.1099 - val_accuracy: 0.2637 - val_auc: 0.4759\n",
            "Epoch 33/100\n",
            "41/41 [==============================] - 5s 124ms/step - loss: 1.0886 - accuracy: 0.3486 - auc: 0.5572 - val_loss: 1.1064 - val_accuracy: 0.2671 - val_auc: 0.4772\n",
            "Epoch 34/100\n",
            "41/41 [==============================] - 5s 125ms/step - loss: 1.0900 - accuracy: 0.3391 - auc: 0.5547 - val_loss: 1.1116 - val_accuracy: 0.2603 - val_auc: 0.4758\n",
            "Epoch 35/100\n",
            "41/41 [==============================] - 5s 124ms/step - loss: 1.0906 - accuracy: 0.3498 - auc: 0.5479 - val_loss: 1.1090 - val_accuracy: 0.2671 - val_auc: 0.4774\n",
            "Epoch 36/100\n",
            "41/41 [==============================] - 5s 123ms/step - loss: 1.0906 - accuracy: 0.3333 - auc: 0.5512 - val_loss: 1.1046 - val_accuracy: 0.2842 - val_auc: 0.4786\n",
            "Epoch 37/100\n",
            "41/41 [==============================] - 5s 124ms/step - loss: 1.0892 - accuracy: 0.3517 - auc: 0.5563 - val_loss: 1.1065 - val_accuracy: 0.2740 - val_auc: 0.4806\n",
            "Epoch 38/100\n",
            "41/41 [==============================] - 5s 125ms/step - loss: 1.0878 - accuracy: 0.3486 - auc: 0.5611 - val_loss: 1.1112 - val_accuracy: 0.2774 - val_auc: 0.4770\n",
            "Epoch 39/100\n",
            "41/41 [==============================] - 5s 124ms/step - loss: 1.0903 - accuracy: 0.3364 - auc: 0.5498 - val_loss: 1.1027 - val_accuracy: 0.2945 - val_auc: 0.4833\n",
            "Epoch 40/100\n",
            "41/41 [==============================] - 5s 125ms/step - loss: 1.0892 - accuracy: 0.3547 - auc: 0.5580 - val_loss: 1.1069 - val_accuracy: 0.2671 - val_auc: 0.4796\n",
            "Epoch 41/100\n",
            "41/41 [==============================] - 5s 124ms/step - loss: 1.0880 - accuracy: 0.3685 - auc: 0.5605 - val_loss: 1.1048 - val_accuracy: 0.2842 - val_auc: 0.4794\n",
            "Epoch 42/100\n",
            "41/41 [==============================] - 5s 124ms/step - loss: 1.0894 - accuracy: 0.3513 - auc: 0.5573 - val_loss: 1.1096 - val_accuracy: 0.2740 - val_auc: 0.4753\n",
            "Epoch 43/100\n",
            "41/41 [==============================] - 5s 125ms/step - loss: 1.0892 - accuracy: 0.3528 - auc: 0.5553 - val_loss: 1.1118 - val_accuracy: 0.2740 - val_auc: 0.4756\n",
            "Epoch 44/100\n",
            "41/41 [==============================] - 5s 125ms/step - loss: 1.0880 - accuracy: 0.3406 - auc: 0.5582 - val_loss: 1.1066 - val_accuracy: 0.2877 - val_auc: 0.4794\n",
            "Epoch 45/100\n",
            "41/41 [==============================] - 5s 124ms/step - loss: 1.0893 - accuracy: 0.3677 - auc: 0.5573 - val_loss: 1.1069 - val_accuracy: 0.2842 - val_auc: 0.4783\n",
            "Epoch 46/100\n",
            "41/41 [==============================] - 5s 124ms/step - loss: 1.0874 - accuracy: 0.3425 - auc: 0.5610 - val_loss: 1.1106 - val_accuracy: 0.2637 - val_auc: 0.4784\n",
            "Epoch 47/100\n",
            "41/41 [==============================] - 5s 125ms/step - loss: 1.0878 - accuracy: 0.3444 - auc: 0.5595 - val_loss: 1.1082 - val_accuracy: 0.2705 - val_auc: 0.4797\n",
            "Epoch 48/100\n",
            "41/41 [==============================] - 5s 124ms/step - loss: 1.0852 - accuracy: 0.3608 - auc: 0.5659 - val_loss: 1.1124 - val_accuracy: 0.2808 - val_auc: 0.4739\n",
            "Epoch 49/100\n",
            "41/41 [==============================] - 5s 125ms/step - loss: 1.0864 - accuracy: 0.3513 - auc: 0.5609 - val_loss: 1.1097 - val_accuracy: 0.2842 - val_auc: 0.4763\n",
            "Epoch 50/100\n",
            "41/41 [==============================] - 5s 124ms/step - loss: 1.0867 - accuracy: 0.3601 - auc: 0.5632 - val_loss: 1.1075 - val_accuracy: 0.2705 - val_auc: 0.4761\n",
            "Epoch 51/100\n",
            "41/41 [==============================] - 5s 125ms/step - loss: 1.0889 - accuracy: 0.3654 - auc: 0.5579 - val_loss: 1.1060 - val_accuracy: 0.2877 - val_auc: 0.4769\n",
            "Epoch 52/100\n",
            "41/41 [==============================] - 5s 125ms/step - loss: 1.0880 - accuracy: 0.3509 - auc: 0.5616 - val_loss: 1.1065 - val_accuracy: 0.3048 - val_auc: 0.4772\n",
            "Epoch 53/100\n",
            "41/41 [==============================] - 5s 125ms/step - loss: 1.0848 - accuracy: 0.3620 - auc: 0.5669 - val_loss: 1.1075 - val_accuracy: 0.2603 - val_auc: 0.4752\n",
            "Epoch 54/100\n",
            "41/41 [==============================] - 5s 124ms/step - loss: 1.0859 - accuracy: 0.3601 - auc: 0.5636 - val_loss: 1.1091 - val_accuracy: 0.2774 - val_auc: 0.4718\n",
            "Epoch 55/100\n",
            "41/41 [==============================] - 5s 125ms/step - loss: 1.0904 - accuracy: 0.3677 - auc: 0.5580 - val_loss: 1.1101 - val_accuracy: 0.2637 - val_auc: 0.4724\n",
            "Epoch 56/100\n",
            "41/41 [==============================] - 5s 124ms/step - loss: 1.0858 - accuracy: 0.3608 - auc: 0.5615 - val_loss: 1.1082 - val_accuracy: 0.2671 - val_auc: 0.4759\n",
            "Epoch 57/100\n",
            "41/41 [==============================] - 5s 125ms/step - loss: 1.0858 - accuracy: 0.3635 - auc: 0.5650 - val_loss: 1.1099 - val_accuracy: 0.2637 - val_auc: 0.4743\n",
            "Epoch 58/100\n",
            "41/41 [==============================] - 5s 125ms/step - loss: 1.0869 - accuracy: 0.3601 - auc: 0.5636 - val_loss: 1.1052 - val_accuracy: 0.2842 - val_auc: 0.4802\n",
            "Epoch 59/100\n",
            "41/41 [==============================] - 5s 125ms/step - loss: 1.0902 - accuracy: 0.3578 - auc: 0.5562 - val_loss: 1.1065 - val_accuracy: 0.2877 - val_auc: 0.4773\n",
            "Epoch 60/100\n",
            "41/41 [==============================] - 5s 124ms/step - loss: 1.0860 - accuracy: 0.3730 - auc: 0.5668 - val_loss: 1.1127 - val_accuracy: 0.2432 - val_auc: 0.4746\n",
            "Epoch 61/100\n",
            "41/41 [==============================] - 5s 125ms/step - loss: 1.0883 - accuracy: 0.3574 - auc: 0.5615 - val_loss: 1.1107 - val_accuracy: 0.2671 - val_auc: 0.4751\n",
            "Epoch 62/100\n",
            "41/41 [==============================] - 5s 125ms/step - loss: 1.0849 - accuracy: 0.3513 - auc: 0.5627 - val_loss: 1.1132 - val_accuracy: 0.2363 - val_auc: 0.4719\n",
            "Epoch 63/100\n",
            "41/41 [==============================] - 5s 124ms/step - loss: 1.0852 - accuracy: 0.3654 - auc: 0.5681 - val_loss: 1.1117 - val_accuracy: 0.2671 - val_auc: 0.4709\n",
            "Epoch 64/100\n",
            "41/41 [==============================] - 5s 124ms/step - loss: 1.0846 - accuracy: 0.3616 - auc: 0.5656 - val_loss: 1.1084 - val_accuracy: 0.2534 - val_auc: 0.4700\n",
            "Epoch 65/100\n",
            "41/41 [==============================] - 5s 124ms/step - loss: 1.0832 - accuracy: 0.3696 - auc: 0.5712 - val_loss: 1.1087 - val_accuracy: 0.2945 - val_auc: 0.4781\n",
            "Epoch 66/100\n",
            "41/41 [==============================] - 5s 124ms/step - loss: 1.0852 - accuracy: 0.3723 - auc: 0.5635 - val_loss: 1.1104 - val_accuracy: 0.2842 - val_auc: 0.4794\n",
            "Epoch 67/100\n",
            "41/41 [==============================] - 5s 124ms/step - loss: 1.0849 - accuracy: 0.3727 - auc: 0.5669 - val_loss: 1.1030 - val_accuracy: 0.3185 - val_auc: 0.4809\n",
            "Epoch 68/100\n",
            "41/41 [==============================] - 5s 125ms/step - loss: 1.0875 - accuracy: 0.3616 - auc: 0.5621 - val_loss: 1.1098 - val_accuracy: 0.2705 - val_auc: 0.4686\n",
            "Epoch 69/100\n",
            "41/41 [==============================] - 5s 125ms/step - loss: 1.0839 - accuracy: 0.3746 - auc: 0.5684 - val_loss: 1.1114 - val_accuracy: 0.2568 - val_auc: 0.4715\n",
            "Epoch 70/100\n",
            "41/41 [==============================] - 5s 124ms/step - loss: 1.0884 - accuracy: 0.3574 - auc: 0.5556 - val_loss: 1.1129 - val_accuracy: 0.2774 - val_auc: 0.4734\n",
            "Epoch 71/100\n",
            "41/41 [==============================] - 5s 124ms/step - loss: 1.0838 - accuracy: 0.3517 - auc: 0.5691 - val_loss: 1.1057 - val_accuracy: 0.3082 - val_auc: 0.4796\n",
            "Epoch 72/100\n",
            "41/41 [==============================] - 5s 124ms/step - loss: 1.0850 - accuracy: 0.3517 - auc: 0.5619 - val_loss: 1.1083 - val_accuracy: 0.2671 - val_auc: 0.4729\n",
            "Epoch 73/100\n",
            "41/41 [==============================] - 5s 123ms/step - loss: 1.0825 - accuracy: 0.3784 - auc: 0.5729 - val_loss: 1.1088 - val_accuracy: 0.2671 - val_auc: 0.4722\n",
            "Epoch 74/100\n",
            "41/41 [==============================] - 5s 123ms/step - loss: 1.0886 - accuracy: 0.3688 - auc: 0.5619 - val_loss: 1.1117 - val_accuracy: 0.2534 - val_auc: 0.4703\n",
            "Epoch 75/100\n",
            "41/41 [==============================] - 5s 124ms/step - loss: 1.0855 - accuracy: 0.3673 - auc: 0.5646 - val_loss: 1.1131 - val_accuracy: 0.2603 - val_auc: 0.4710\n",
            "Epoch 76/100\n",
            "41/41 [==============================] - 5s 125ms/step - loss: 1.0806 - accuracy: 0.3673 - auc: 0.5796 - val_loss: 1.1120 - val_accuracy: 0.2500 - val_auc: 0.4697\n",
            "Epoch 77/100\n",
            "41/41 [==============================] - 5s 124ms/step - loss: 1.0885 - accuracy: 0.3551 - auc: 0.5569 - val_loss: 1.1098 - val_accuracy: 0.2500 - val_auc: 0.4720\n",
            "Epoch 78/100\n",
            "41/41 [==============================] - 5s 124ms/step - loss: 1.0870 - accuracy: 0.3643 - auc: 0.5641 - val_loss: 1.1115 - val_accuracy: 0.2432 - val_auc: 0.4684\n",
            "Epoch 79/100\n",
            "41/41 [==============================] - 5s 124ms/step - loss: 1.0835 - accuracy: 0.3639 - auc: 0.5723 - val_loss: 1.1120 - val_accuracy: 0.2500 - val_auc: 0.4703\n",
            "Epoch 80/100\n",
            "41/41 [==============================] - 5s 124ms/step - loss: 1.0852 - accuracy: 0.3601 - auc: 0.5629 - val_loss: 1.1095 - val_accuracy: 0.2603 - val_auc: 0.4695\n",
            "Epoch 81/100\n",
            "41/41 [==============================] - 5s 125ms/step - loss: 1.0824 - accuracy: 0.3738 - auc: 0.5721 - val_loss: 1.1083 - val_accuracy: 0.2603 - val_auc: 0.4720\n",
            "Epoch 82/100\n",
            "41/41 [==============================] - 5s 124ms/step - loss: 1.0846 - accuracy: 0.3849 - auc: 0.5702 - val_loss: 1.1112 - val_accuracy: 0.2637 - val_auc: 0.4699\n",
            "Epoch 83/100\n",
            "41/41 [==============================] - 5s 125ms/step - loss: 1.0829 - accuracy: 0.3646 - auc: 0.5693 - val_loss: 1.1118 - val_accuracy: 0.2568 - val_auc: 0.4693\n",
            "Epoch 84/100\n",
            "41/41 [==============================] - 5s 125ms/step - loss: 1.0823 - accuracy: 0.3719 - auc: 0.5758 - val_loss: 1.1219 - val_accuracy: 0.2534 - val_auc: 0.4691\n",
            "Epoch 85/100\n",
            "41/41 [==============================] - 5s 125ms/step - loss: 1.0831 - accuracy: 0.3692 - auc: 0.5684 - val_loss: 1.1180 - val_accuracy: 0.2671 - val_auc: 0.4725\n",
            "Epoch 86/100\n",
            "41/41 [==============================] - 5s 124ms/step - loss: 1.0808 - accuracy: 0.3765 - auc: 0.5760 - val_loss: 1.1164 - val_accuracy: 0.2808 - val_auc: 0.4742\n",
            "Epoch 87/100\n",
            "41/41 [==============================] - 5s 125ms/step - loss: 1.0790 - accuracy: 0.3715 - auc: 0.5807 - val_loss: 1.1162 - val_accuracy: 0.2568 - val_auc: 0.4661\n",
            "Epoch 88/100\n",
            "41/41 [==============================] - 5s 124ms/step - loss: 1.0806 - accuracy: 0.3765 - auc: 0.5773 - val_loss: 1.1136 - val_accuracy: 0.2568 - val_auc: 0.4658\n",
            "Epoch 89/100\n",
            "41/41 [==============================] - 5s 125ms/step - loss: 1.0826 - accuracy: 0.3666 - auc: 0.5685 - val_loss: 1.1123 - val_accuracy: 0.2877 - val_auc: 0.4722\n",
            "Epoch 90/100\n",
            "41/41 [==============================] - 5s 124ms/step - loss: 1.0811 - accuracy: 0.3688 - auc: 0.5684 - val_loss: 1.1137 - val_accuracy: 0.2637 - val_auc: 0.4664\n",
            "Epoch 91/100\n",
            "41/41 [==============================] - 5s 125ms/step - loss: 1.0817 - accuracy: 0.3616 - auc: 0.5676 - val_loss: 1.1143 - val_accuracy: 0.2534 - val_auc: 0.4687\n",
            "Epoch 92/100\n",
            "41/41 [==============================] - 5s 125ms/step - loss: 1.0823 - accuracy: 0.3620 - auc: 0.5696 - val_loss: 1.1183 - val_accuracy: 0.2568 - val_auc: 0.4684\n",
            "Epoch 93/100\n",
            "41/41 [==============================] - 5s 125ms/step - loss: 1.0821 - accuracy: 0.3616 - auc: 0.5694 - val_loss: 1.1164 - val_accuracy: 0.2671 - val_auc: 0.4688\n",
            "Epoch 94/100\n",
            "41/41 [==============================] - 5s 124ms/step - loss: 1.0839 - accuracy: 0.3589 - auc: 0.5692 - val_loss: 1.1125 - val_accuracy: 0.2945 - val_auc: 0.4741\n",
            "Epoch 95/100\n",
            "41/41 [==============================] - 5s 124ms/step - loss: 1.0852 - accuracy: 0.3658 - auc: 0.5639 - val_loss: 1.1126 - val_accuracy: 0.2877 - val_auc: 0.4740\n",
            "Epoch 96/100\n",
            "41/41 [==============================] - 5s 124ms/step - loss: 1.0770 - accuracy: 0.3700 - auc: 0.5826 - val_loss: 1.1144 - val_accuracy: 0.2740 - val_auc: 0.4703\n",
            "Epoch 97/100\n",
            "41/41 [==============================] - 5s 125ms/step - loss: 1.0854 - accuracy: 0.3509 - auc: 0.5578 - val_loss: 1.1166 - val_accuracy: 0.2705 - val_auc: 0.4662\n",
            "Epoch 98/100\n",
            "41/41 [==============================] - 5s 125ms/step - loss: 1.0812 - accuracy: 0.3765 - auc: 0.5750 - val_loss: 1.1174 - val_accuracy: 0.2637 - val_auc: 0.4696\n",
            "Epoch 99/100\n",
            "41/41 [==============================] - 5s 124ms/step - loss: 1.0788 - accuracy: 0.3582 - auc: 0.5760 - val_loss: 1.1163 - val_accuracy: 0.2671 - val_auc: 0.4643\n",
            "Epoch 100/100\n",
            "41/41 [==============================] - 5s 124ms/step - loss: 1.0800 - accuracy: 0.3799 - auc: 0.5750 - val_loss: 1.1116 - val_accuracy: 0.2705 - val_auc: 0.4742\n"
          ],
          "name": "stdout"
        }
      ]
    },
    {
      "cell_type": "code",
      "metadata": {
        "id": "l6XDdONViCZ0",
        "colab_type": "code",
        "colab": {
          "base_uri": "https://localhost:8080/",
          "height": 606
        },
        "outputId": "79d101ed-b179-4b6f-cec1-30edb2f90fbe"
      },
      "source": [
        "plt.plot(history.history['accuracy'], label='train accuracy')\n",
        "plt.plot(history.history['val_accuracy'], label='val accuracy')\n",
        "plt.xlabel(\"epoch\")\n",
        "plt.ylabel(\"accuracy\")\n",
        "plt.legend();"
      ],
      "execution_count": null,
      "outputs": [
        {
          "output_type": "display_data",
          "data": {
            "image/png": "[encoded data removed]",
            "text/plain": [
              "<Figure size 864x720 with 1 Axes>"
            ]
          },
          "metadata": {
            "tags": [],
            "needs_background": "light"
          }
        }
      ]
    },
    {
      "cell_type": "code",
      "metadata": {
        "id": "JC_6dEkgiCiC",
        "colab_type": "code",
        "colab": {
          "base_uri": "https://localhost:8080/",
          "height": 53
        },
        "outputId": "ddb0b0d7-981b-4a6c-b66f-bded7f2a3508"
      },
      "source": [
        "model.evaluate(test_x, test_y)"
      ],
      "execution_count": null,
      "outputs": [
        {
          "output_type": "stream",
          "text": [
            "11/11 [==============================] - 1s 54ms/step - loss: 1.1299 - accuracy: 0.2593 - auc: 0.4310\n"
          ],
          "name": "stdout"
        },
        {
          "output_type": "execute_result",
          "data": {
            "text/plain": [
              "[1.1299116611480713, 0.25925925374031067, 0.4309788644313812]"
            ]
          },
          "metadata": {
            "tags": []
          },
          "execution_count": 65
        }
      ]
    },
    {
      "cell_type": "code",
      "metadata": {
        "id": "PJcZUwiriCtj",
        "colab_type": "code",
        "colab": {}
      },
      "source": [
        "predictions = model.predict(test_df['cleaned_text'])"
      ],
      "execution_count": null,
      "outputs": []
    },
    {
      "cell_type": "code",
      "metadata": {
        "id": "ZJ5jbcTz04pa",
        "colab_type": "code",
        "colab": {}
      },
      "source": [
        "class_preds = np.argmax(predictions, axis=1)\n",
        "class_preds = class_preds - 1\n",
        "test_df['sentiment_class'] = class_preds\n",
        "test_df[['id', 'sentiment_class']].to_csv('submission.csv', index=False)"
      ],
      "execution_count": null,
      "outputs": []
    },
    {
      "cell_type": "code",
      "metadata": {
        "id": "wS2NZBJoZm2d",
        "colab_type": "code",
        "colab": {}
      },
      "source": [
        "for x in class_preds:\n",
        "  if x == 1:\n",
        "    print(\"a\")"
      ],
      "execution_count": null,
      "outputs": []
    },
    {
      "cell_type": "markdown",
      "metadata": {
        "id": "CFh_O4R0yb4C",
        "colab_type": "text"
      },
      "source": [
        "# Modelling 4: Ensembling LSTM Networks"
      ]
    },
    {
      "cell_type": "code",
      "metadata": {
        "id": "aGE9R3Jpyipg",
        "colab_type": "code",
        "colab": {
          "base_uri": "https://localhost:8080/",
          "height": 71
        },
        "outputId": "dd3fa37c-abbd-4629-9459-e715865b67ec"
      },
      "source": [
        "sentiments = [-1, 0, 1]\n",
        "one_vs_all = []\n",
        "\n",
        "for sentiment in sentiments:    \n",
        "  df = train_df[train_df['sentiment_class'] == sentiment]\n",
        "  df['sentiment_class'] = 1\n",
        "  sample_n = df.shape[0]\n",
        "  negate_df = train_df[train_df['sentiment_class'] != sentiment]\n",
        "  negate_df['sentiment_class'] = 0  \n",
        "  negate_df_n = negate_df.sample(n=min(sample_n, len(negate_df)), random_state=1)  \n",
        "  df = df.append(negate_df_n)\n",
        "  df = df.sample(frac=1).reset_index(drop=True)\n",
        "  one_vs_all.append(df)\n",
        "\n",
        "for df in one_vs_all:\n",
        "  print(df.shape)  "
      ],
      "execution_count": null,
      "outputs": [
        {
          "output_type": "stream",
          "text": [
            "(1538, 2)\n",
            "(3235, 2)\n",
            "(1530, 2)\n"
          ],
          "name": "stdout"
        }
      ]
    },
    {
      "cell_type": "code",
      "metadata": {
        "id": "t7Xwaz9_yi7H",
        "colab_type": "code",
        "colab": {}
      },
      "source": [
        "METRICS = [keras.metrics.BinaryAccuracy(name='accuracy'),      \n",
        "           keras.metrics.AUC(name='auc'),]\n",
        "\n",
        "def make_model(metrics = METRICS, output_bias=None):\n",
        "  hub_layer = hub.KerasLayer(\"https://tfhub.dev/google/tf2-preview/nnlm-en-dim128/1\",\n",
        "                            output_shape=[128],\n",
        "                            input_shape=[], \n",
        "                             dtype=tf.string)\n",
        "                             \n",
        "  model = keras.Sequential()\n",
        "  model.add(hub_layer)\n",
        "  model.add(keras.layers.Reshape(target_shape=(128, 1)))\n",
        "  model.add(keras.layers.Bidirectional(keras.layers.LSTM(64, return_sequences=True)))\n",
        "  model.add(keras.layers.Bidirectional(keras.layers.LSTM(32)))\n",
        "  model.add(keras.layers.Dense(64, activation='relu'))\n",
        "  model.add(keras.layers.Dropout(rate=0.5))\n",
        "  model.add(keras.layers.Dense(1, activation='sigmoid', bias_initializer=output_bias))\n",
        "\n",
        "  model.compile(loss='binary_crossentropy', \n",
        "                optimizer=keras.optimizers.Adam(lr=1e-3), \n",
        "                metrics=METRICS)\n",
        "  return model"
      ],
      "execution_count": null,
      "outputs": []
    },
    {
      "cell_type": "code",
      "metadata": {
        "id": "6SA7pZhtyjXD",
        "colab_type": "code",
        "colab": {
          "base_uri": "https://localhost:8080/",
          "height": 1000
        },
        "outputId": "a521b2bd-5ccf-4d1c-a2ed-fbb11490d46f"
      },
      "source": [
        "models = []\n",
        "histories = []\n",
        "\n",
        "for sentiment, train_df in zip(sentiments, one_vs_all):\n",
        "\n",
        "  train_x, test_x, train_y, test_y = train_test_split(train_df.cleaned_text,\n",
        "                                                      train_df.sentiment_class,\n",
        "                                                      test_size=.1,\n",
        "                                                      random_state=1)\n",
        "  \n",
        "  model = make_model()  \n",
        "\n",
        "  print(f'Running model with sentiment class {sentiment}.')\n",
        "  history = model.fit(train_x, train_y, epochs=50, batch_size=64, \n",
        "                    validation_split=0.1, \n",
        "                    verbose=1, \n",
        "                    shuffle=True)\n",
        "  \n",
        "  models.append(model)\n",
        "  histories.append(history)\n",
        "  print(model.evaluate(test_x, test_y))"
      ],
      "execution_count": null,
      "outputs": [
        {
          "output_type": "stream",
          "text": [
            "Running model with sentiment class -1.\n",
            "Epoch 1/50\n",
            "20/20 [==============================] - 4s 209ms/step - loss: 0.7222 - accuracy: 0.4607 - auc: 0.4373 - val_loss: 0.6918 - val_accuracy: 0.5324 - val_auc: 0.4381\n",
            "Epoch 2/50\n",
            "20/20 [==============================] - 2s 117ms/step - loss: 0.6965 - accuracy: 0.4956 - auc: 0.5095 - val_loss: 0.6959 - val_accuracy: 0.4676 - val_auc: 0.4403\n",
            "Epoch 3/50\n",
            "20/20 [==============================] - 2s 117ms/step - loss: 0.6999 - accuracy: 0.5052 - auc: 0.4794 - val_loss: 0.6924 - val_accuracy: 0.5324 - val_auc: 0.4782\n",
            "Epoch 4/50\n",
            "20/20 [==============================] - 2s 118ms/step - loss: 0.6978 - accuracy: 0.5036 - auc: 0.4941 - val_loss: 0.6913 - val_accuracy: 0.5324 - val_auc: 0.4460\n",
            "Epoch 5/50\n",
            "20/20 [==============================] - 2s 117ms/step - loss: 0.6958 - accuracy: 0.4956 - auc: 0.5022 - val_loss: 0.6941 - val_accuracy: 0.4676 - val_auc: 0.4995\n",
            "Epoch 6/50\n",
            "20/20 [==============================] - 2s 118ms/step - loss: 0.6976 - accuracy: 0.5044 - auc: 0.4918 - val_loss: 0.6914 - val_accuracy: 0.5324 - val_auc: 0.5075\n",
            "Epoch 7/50\n",
            "20/20 [==============================] - 2s 117ms/step - loss: 0.6932 - accuracy: 0.5100 - auc: 0.5172 - val_loss: 0.6920 - val_accuracy: 0.5324 - val_auc: 0.5181\n",
            "Epoch 8/50\n",
            "20/20 [==============================] - 2s 119ms/step - loss: 0.6940 - accuracy: 0.5141 - auc: 0.5156 - val_loss: 0.6926 - val_accuracy: 0.5396 - val_auc: 0.5540\n",
            "Epoch 9/50\n",
            "20/20 [==============================] - 2s 118ms/step - loss: 0.6964 - accuracy: 0.4988 - auc: 0.5025 - val_loss: 0.6930 - val_accuracy: 0.4892 - val_auc: 0.5678\n",
            "Epoch 10/50\n",
            "20/20 [==============================] - 2s 118ms/step - loss: 0.6979 - accuracy: 0.4924 - auc: 0.4886 - val_loss: 0.6908 - val_accuracy: 0.5324 - val_auc: 0.5247\n",
            "Epoch 11/50\n",
            "20/20 [==============================] - 2s 119ms/step - loss: 0.6946 - accuracy: 0.5173 - auc: 0.5090 - val_loss: 0.6927 - val_accuracy: 0.5396 - val_auc: 0.5120\n",
            "Epoch 12/50\n",
            "20/20 [==============================] - 2s 117ms/step - loss: 0.6948 - accuracy: 0.5100 - auc: 0.5106 - val_loss: 0.6924 - val_accuracy: 0.5827 - val_auc: 0.5599\n",
            "Epoch 13/50\n",
            "20/20 [==============================] - 2s 119ms/step - loss: 0.6967 - accuracy: 0.4956 - auc: 0.4937 - val_loss: 0.6913 - val_accuracy: 0.5324 - val_auc: 0.5676\n",
            "Epoch 14/50\n",
            "20/20 [==============================] - 2s 118ms/step - loss: 0.6944 - accuracy: 0.5092 - auc: 0.5122 - val_loss: 0.6915 - val_accuracy: 0.5612 - val_auc: 0.5849\n",
            "Epoch 15/50\n",
            "20/20 [==============================] - 2s 117ms/step - loss: 0.6960 - accuracy: 0.5028 - auc: 0.4998 - val_loss: 0.6907 - val_accuracy: 0.5396 - val_auc: 0.5649\n",
            "Epoch 16/50\n",
            "20/20 [==============================] - 2s 118ms/step - loss: 0.6951 - accuracy: 0.4892 - auc: 0.4959 - val_loss: 0.6914 - val_accuracy: 0.5540 - val_auc: 0.5841\n",
            "Epoch 17/50\n",
            "20/20 [==============================] - 2s 118ms/step - loss: 0.6943 - accuracy: 0.5197 - auc: 0.5242 - val_loss: 0.6896 - val_accuracy: 0.5324 - val_auc: 0.5595\n",
            "Epoch 18/50\n",
            "20/20 [==============================] - 2s 118ms/step - loss: 0.6985 - accuracy: 0.4988 - auc: 0.5003 - val_loss: 0.6908 - val_accuracy: 0.5252 - val_auc: 0.5443\n",
            "Epoch 19/50\n",
            "20/20 [==============================] - 2s 118ms/step - loss: 0.6944 - accuracy: 0.4932 - auc: 0.5029 - val_loss: 0.6932 - val_accuracy: 0.4748 - val_auc: 0.5334\n",
            "Epoch 20/50\n",
            "20/20 [==============================] - 2s 118ms/step - loss: 0.6977 - accuracy: 0.4859 - auc: 0.4814 - val_loss: 0.6910 - val_accuracy: 0.5612 - val_auc: 0.5282\n",
            "Epoch 21/50\n",
            "20/20 [==============================] - 2s 116ms/step - loss: 0.6937 - accuracy: 0.5197 - auc: 0.5150 - val_loss: 0.6922 - val_accuracy: 0.5252 - val_auc: 0.5381\n",
            "Epoch 22/50\n",
            "20/20 [==============================] - 2s 118ms/step - loss: 0.6952 - accuracy: 0.4948 - auc: 0.4973 - val_loss: 0.6926 - val_accuracy: 0.4892 - val_auc: 0.5521\n",
            "Epoch 23/50\n",
            "20/20 [==============================] - 2s 118ms/step - loss: 0.6955 - accuracy: 0.4811 - auc: 0.4954 - val_loss: 0.6914 - val_accuracy: 0.5252 - val_auc: 0.5327\n",
            "Epoch 24/50\n",
            "20/20 [==============================] - 2s 118ms/step - loss: 0.6933 - accuracy: 0.5116 - auc: 0.5133 - val_loss: 0.6895 - val_accuracy: 0.5468 - val_auc: 0.5640\n",
            "Epoch 25/50\n",
            "20/20 [==============================] - 2s 118ms/step - loss: 0.6943 - accuracy: 0.5004 - auc: 0.5030 - val_loss: 0.6911 - val_accuracy: 0.5108 - val_auc: 0.5552\n",
            "Epoch 26/50\n",
            "20/20 [==============================] - 2s 118ms/step - loss: 0.6932 - accuracy: 0.5076 - auc: 0.5208 - val_loss: 0.6881 - val_accuracy: 0.5612 - val_auc: 0.5810\n",
            "Epoch 27/50\n",
            "20/20 [==============================] - 2s 118ms/step - loss: 0.6957 - accuracy: 0.5012 - auc: 0.5009 - val_loss: 0.6838 - val_accuracy: 0.6043 - val_auc: 0.6106\n",
            "Epoch 28/50\n",
            "20/20 [==============================] - 2s 118ms/step - loss: 0.6948 - accuracy: 0.5108 - auc: 0.5171 - val_loss: 0.6941 - val_accuracy: 0.4676 - val_auc: 0.5417\n",
            "Epoch 29/50\n",
            "20/20 [==============================] - 2s 117ms/step - loss: 0.6931 - accuracy: 0.5068 - auc: 0.5187 - val_loss: 0.6900 - val_accuracy: 0.5683 - val_auc: 0.5478\n",
            "Epoch 30/50\n",
            "20/20 [==============================] - 2s 119ms/step - loss: 0.6939 - accuracy: 0.5052 - auc: 0.5135 - val_loss: 0.6923 - val_accuracy: 0.4748 - val_auc: 0.5330\n",
            "Epoch 31/50\n",
            "20/20 [==============================] - 2s 118ms/step - loss: 0.6977 - accuracy: 0.5012 - auc: 0.4896 - val_loss: 0.6895 - val_accuracy: 0.5612 - val_auc: 0.5351\n",
            "Epoch 32/50\n",
            "20/20 [==============================] - 2s 118ms/step - loss: 0.6953 - accuracy: 0.5028 - auc: 0.4968 - val_loss: 0.6905 - val_accuracy: 0.5612 - val_auc: 0.5441\n",
            "Epoch 33/50\n",
            "20/20 [==============================] - 2s 118ms/step - loss: 0.6926 - accuracy: 0.5213 - auc: 0.5242 - val_loss: 0.6911 - val_accuracy: 0.5324 - val_auc: 0.5452\n",
            "Epoch 34/50\n",
            "20/20 [==============================] - 2s 117ms/step - loss: 0.6969 - accuracy: 0.5004 - auc: 0.4874 - val_loss: 0.6907 - val_accuracy: 0.5468 - val_auc: 0.5430\n",
            "Epoch 35/50\n",
            "20/20 [==============================] - 2s 118ms/step - loss: 0.6941 - accuracy: 0.5189 - auc: 0.5129 - val_loss: 0.6913 - val_accuracy: 0.4820 - val_auc: 0.5442\n",
            "Epoch 36/50\n",
            "20/20 [==============================] - 2s 118ms/step - loss: 0.6937 - accuracy: 0.4972 - auc: 0.5098 - val_loss: 0.6909 - val_accuracy: 0.5540 - val_auc: 0.5350\n",
            "Epoch 37/50\n",
            "20/20 [==============================] - 2s 118ms/step - loss: 0.6953 - accuracy: 0.5044 - auc: 0.5074 - val_loss: 0.6908 - val_accuracy: 0.5396 - val_auc: 0.5353\n",
            "Epoch 38/50\n",
            "20/20 [==============================] - 2s 118ms/step - loss: 0.6934 - accuracy: 0.5092 - auc: 0.5226 - val_loss: 0.6896 - val_accuracy: 0.5468 - val_auc: 0.5381\n",
            "Epoch 39/50\n",
            "20/20 [==============================] - 2s 119ms/step - loss: 0.6956 - accuracy: 0.5237 - auc: 0.5068 - val_loss: 0.6913 - val_accuracy: 0.5324 - val_auc: 0.5403\n",
            "Epoch 40/50\n",
            "20/20 [==============================] - 2s 117ms/step - loss: 0.6941 - accuracy: 0.5044 - auc: 0.5105 - val_loss: 0.6911 - val_accuracy: 0.5252 - val_auc: 0.5386\n",
            "Epoch 41/50\n",
            "20/20 [==============================] - 2s 117ms/step - loss: 0.6907 - accuracy: 0.5293 - auc: 0.5437 - val_loss: 0.6917 - val_accuracy: 0.4892 - val_auc: 0.5438\n",
            "Epoch 42/50\n",
            "20/20 [==============================] - 2s 119ms/step - loss: 0.6946 - accuracy: 0.4964 - auc: 0.5161 - val_loss: 0.6889 - val_accuracy: 0.5540 - val_auc: 0.5444\n",
            "Epoch 43/50\n",
            "20/20 [==============================] - 2s 118ms/step - loss: 0.6941 - accuracy: 0.4948 - auc: 0.5115 - val_loss: 0.6873 - val_accuracy: 0.5540 - val_auc: 0.5788\n",
            "Epoch 44/50\n",
            "20/20 [==============================] - 2s 117ms/step - loss: 0.6911 - accuracy: 0.5181 - auc: 0.5367 - val_loss: 0.6936 - val_accuracy: 0.5108 - val_auc: 0.5211\n",
            "Epoch 45/50\n",
            "20/20 [==============================] - 2s 118ms/step - loss: 0.6940 - accuracy: 0.5060 - auc: 0.5117 - val_loss: 0.6918 - val_accuracy: 0.5036 - val_auc: 0.5320\n",
            "Epoch 46/50\n",
            "20/20 [==============================] - 2s 117ms/step - loss: 0.6934 - accuracy: 0.5253 - auc: 0.5223 - val_loss: 0.6901 - val_accuracy: 0.5396 - val_auc: 0.5429\n",
            "Epoch 47/50\n",
            "20/20 [==============================] - 2s 118ms/step - loss: 0.6941 - accuracy: 0.5141 - auc: 0.5201 - val_loss: 0.6891 - val_accuracy: 0.5396 - val_auc: 0.5446\n",
            "Epoch 48/50\n",
            "20/20 [==============================] - 2s 118ms/step - loss: 0.6937 - accuracy: 0.5076 - auc: 0.5179 - val_loss: 0.6884 - val_accuracy: 0.5468 - val_auc: 0.5542\n",
            "Epoch 49/50\n",
            "20/20 [==============================] - 2s 117ms/step - loss: 0.6956 - accuracy: 0.5052 - auc: 0.5072 - val_loss: 0.6904 - val_accuracy: 0.4892 - val_auc: 0.5620\n",
            "Epoch 50/50\n",
            "20/20 [==============================] - 2s 117ms/step - loss: 0.6903 - accuracy: 0.5349 - auc: 0.5492 - val_loss: 0.6920 - val_accuracy: 0.5108 - val_auc: 0.5430\n",
            "5/5 [==============================] - 0s 44ms/step - loss: 0.6948 - accuracy: 0.4675 - auc: 0.4911\n",
            "[0.6948271989822388, 0.4675324559211731, 0.49112123250961304]\n",
            "Running model with sentiment class 0.\n",
            "Epoch 1/50\n",
            "41/41 [==============================] - 7s 163ms/step - loss: 0.7223 - accuracy: 0.5211 - auc: 0.4967 - val_loss: 0.7210 - val_accuracy: 0.5068 - val_auc: 0.4707\n",
            "Epoch 2/50\n",
            "41/41 [==============================] - 5s 119ms/step - loss: 0.7022 - accuracy: 0.5189 - auc: 0.4854 - val_loss: 0.6957 - val_accuracy: 0.5068 - val_auc: 0.4659\n",
            "Epoch 3/50\n",
            "41/41 [==============================] - 5s 119ms/step - loss: 0.7012 - accuracy: 0.5067 - auc: 0.4826 - val_loss: 0.6949 - val_accuracy: 0.5034 - val_auc: 0.4637\n",
            "Epoch 4/50\n",
            "41/41 [==============================] - 5s 119ms/step - loss: 0.6997 - accuracy: 0.5063 - auc: 0.4943 - val_loss: 0.6963 - val_accuracy: 0.5068 - val_auc: 0.4691\n",
            "Epoch 5/50\n",
            "41/41 [==============================] - 5s 118ms/step - loss: 0.6967 - accuracy: 0.5193 - auc: 0.4991 - val_loss: 0.6956 - val_accuracy: 0.5068 - val_auc: 0.4467\n",
            "Epoch 6/50\n",
            "41/41 [==============================] - 5s 118ms/step - loss: 0.6984 - accuracy: 0.5044 - auc: 0.4942 - val_loss: 0.6967 - val_accuracy: 0.5068 - val_auc: 0.4576\n",
            "Epoch 7/50\n",
            "41/41 [==============================] - 5s 119ms/step - loss: 0.6952 - accuracy: 0.5208 - auc: 0.5093 - val_loss: 0.6963 - val_accuracy: 0.5068 - val_auc: 0.4554\n",
            "Epoch 8/50\n",
            "41/41 [==============================] - 5s 119ms/step - loss: 0.6932 - accuracy: 0.5178 - auc: 0.5224 - val_loss: 0.6959 - val_accuracy: 0.5000 - val_auc: 0.4610\n",
            "Epoch 9/50\n",
            "41/41 [==============================] - 5s 119ms/step - loss: 0.6942 - accuracy: 0.5178 - auc: 0.5147 - val_loss: 0.6975 - val_accuracy: 0.5103 - val_auc: 0.4486\n",
            "Epoch 10/50\n",
            "41/41 [==============================] - 5s 119ms/step - loss: 0.6945 - accuracy: 0.5082 - auc: 0.5116 - val_loss: 0.7056 - val_accuracy: 0.5068 - val_auc: 0.4677\n",
            "Epoch 11/50\n",
            "41/41 [==============================] - 5s 119ms/step - loss: 0.6936 - accuracy: 0.5254 - auc: 0.5260 - val_loss: 0.6957 - val_accuracy: 0.4658 - val_auc: 0.4407\n",
            "Epoch 12/50\n",
            "41/41 [==============================] - 5s 119ms/step - loss: 0.6972 - accuracy: 0.5040 - auc: 0.5026 - val_loss: 0.6962 - val_accuracy: 0.5103 - val_auc: 0.4374\n",
            "Epoch 13/50\n",
            "41/41 [==============================] - 5s 119ms/step - loss: 0.6954 - accuracy: 0.5166 - auc: 0.5076 - val_loss: 0.6967 - val_accuracy: 0.5137 - val_auc: 0.4425\n",
            "Epoch 14/50\n",
            "41/41 [==============================] - 5s 119ms/step - loss: 0.6978 - accuracy: 0.5147 - auc: 0.4978 - val_loss: 0.6968 - val_accuracy: 0.5103 - val_auc: 0.4478\n",
            "Epoch 15/50\n",
            "41/41 [==============================] - 5s 119ms/step - loss: 0.6986 - accuracy: 0.5017 - auc: 0.4883 - val_loss: 0.6966 - val_accuracy: 0.5034 - val_auc: 0.4536\n",
            "Epoch 16/50\n",
            "41/41 [==============================] - 5s 120ms/step - loss: 0.6936 - accuracy: 0.5166 - auc: 0.5169 - val_loss: 0.6985 - val_accuracy: 0.5068 - val_auc: 0.4383\n",
            "Epoch 17/50\n",
            "41/41 [==============================] - 5s 119ms/step - loss: 0.6937 - accuracy: 0.5204 - auc: 0.5168 - val_loss: 0.6988 - val_accuracy: 0.5068 - val_auc: 0.4559\n",
            "Epoch 18/50\n",
            "41/41 [==============================] - 5s 119ms/step - loss: 0.6964 - accuracy: 0.5216 - auc: 0.5000 - val_loss: 0.6999 - val_accuracy: 0.5068 - val_auc: 0.4453\n",
            "Epoch 19/50\n",
            "41/41 [==============================] - 5s 119ms/step - loss: 0.6928 - accuracy: 0.5155 - auc: 0.5175 - val_loss: 0.7003 - val_accuracy: 0.5068 - val_auc: 0.4414\n",
            "Epoch 20/50\n",
            "41/41 [==============================] - 5s 119ms/step - loss: 0.6967 - accuracy: 0.5097 - auc: 0.5010 - val_loss: 0.7006 - val_accuracy: 0.5068 - val_auc: 0.4440\n",
            "Epoch 21/50\n",
            "41/41 [==============================] - 5s 119ms/step - loss: 0.6935 - accuracy: 0.5296 - auc: 0.5176 - val_loss: 0.6978 - val_accuracy: 0.5034 - val_auc: 0.4378\n",
            "Epoch 22/50\n",
            "41/41 [==============================] - 5s 119ms/step - loss: 0.6927 - accuracy: 0.5342 - auc: 0.5208 - val_loss: 0.6984 - val_accuracy: 0.4932 - val_auc: 0.4549\n",
            "Epoch 23/50\n",
            "41/41 [==============================] - 5s 119ms/step - loss: 0.6983 - accuracy: 0.5109 - auc: 0.4882 - val_loss: 0.7017 - val_accuracy: 0.5068 - val_auc: 0.4495\n",
            "Epoch 24/50\n",
            "41/41 [==============================] - 5s 119ms/step - loss: 0.6939 - accuracy: 0.5254 - auc: 0.5183 - val_loss: 0.7005 - val_accuracy: 0.4521 - val_auc: 0.4568\n",
            "Epoch 25/50\n",
            "41/41 [==============================] - 5s 119ms/step - loss: 0.6961 - accuracy: 0.5067 - auc: 0.5115 - val_loss: 0.6992 - val_accuracy: 0.5068 - val_auc: 0.4510\n",
            "Epoch 26/50\n",
            "41/41 [==============================] - 5s 118ms/step - loss: 0.6937 - accuracy: 0.5231 - auc: 0.5142 - val_loss: 0.6979 - val_accuracy: 0.5000 - val_auc: 0.4509\n",
            "Epoch 27/50\n",
            "41/41 [==============================] - 5s 119ms/step - loss: 0.6950 - accuracy: 0.5193 - auc: 0.5039 - val_loss: 0.6982 - val_accuracy: 0.4966 - val_auc: 0.4467\n",
            "Epoch 28/50\n",
            "41/41 [==============================] - 5s 119ms/step - loss: 0.6925 - accuracy: 0.5231 - auc: 0.5220 - val_loss: 0.6997 - val_accuracy: 0.4897 - val_auc: 0.4527\n",
            "Epoch 29/50\n",
            "41/41 [==============================] - 5s 119ms/step - loss: 0.6972 - accuracy: 0.5040 - auc: 0.4918 - val_loss: 0.7022 - val_accuracy: 0.5103 - val_auc: 0.4545\n",
            "Epoch 30/50\n",
            "41/41 [==============================] - 5s 120ms/step - loss: 0.6911 - accuracy: 0.5426 - auc: 0.5366 - val_loss: 0.7011 - val_accuracy: 0.4589 - val_auc: 0.4497\n",
            "Epoch 31/50\n",
            "41/41 [==============================] - 5s 118ms/step - loss: 0.7002 - accuracy: 0.5025 - auc: 0.4810 - val_loss: 0.6994 - val_accuracy: 0.5068 - val_auc: 0.4425\n",
            "Epoch 32/50\n",
            "41/41 [==============================] - 5s 119ms/step - loss: 0.6940 - accuracy: 0.5254 - auc: 0.5128 - val_loss: 0.7003 - val_accuracy: 0.5034 - val_auc: 0.4594\n",
            "Epoch 33/50\n",
            "41/41 [==============================] - 5s 119ms/step - loss: 0.6926 - accuracy: 0.5246 - auc: 0.5257 - val_loss: 0.7024 - val_accuracy: 0.5068 - val_auc: 0.4410\n",
            "Epoch 34/50\n",
            "41/41 [==============================] - 5s 119ms/step - loss: 0.6959 - accuracy: 0.5181 - auc: 0.5023 - val_loss: 0.6991 - val_accuracy: 0.5068 - val_auc: 0.4529\n",
            "Epoch 35/50\n",
            "41/41 [==============================] - 5s 119ms/step - loss: 0.6953 - accuracy: 0.5067 - auc: 0.5035 - val_loss: 0.7013 - val_accuracy: 0.4760 - val_auc: 0.4499\n",
            "Epoch 36/50\n",
            "41/41 [==============================] - 5s 119ms/step - loss: 0.6942 - accuracy: 0.5155 - auc: 0.5075 - val_loss: 0.6980 - val_accuracy: 0.5034 - val_auc: 0.4577\n",
            "Epoch 37/50\n",
            "41/41 [==============================] - 5s 119ms/step - loss: 0.6930 - accuracy: 0.5208 - auc: 0.5160 - val_loss: 0.6995 - val_accuracy: 0.5068 - val_auc: 0.4374\n",
            "Epoch 38/50\n",
            "41/41 [==============================] - 5s 119ms/step - loss: 0.6972 - accuracy: 0.5029 - auc: 0.4868 - val_loss: 0.6975 - val_accuracy: 0.5068 - val_auc: 0.4453\n",
            "Epoch 39/50\n",
            "41/41 [==============================] - 5s 120ms/step - loss: 0.6938 - accuracy: 0.5254 - auc: 0.5074 - val_loss: 0.6981 - val_accuracy: 0.5068 - val_auc: 0.4425\n",
            "Epoch 40/50\n",
            "41/41 [==============================] - 5s 119ms/step - loss: 0.6933 - accuracy: 0.5105 - auc: 0.5169 - val_loss: 0.6986 - val_accuracy: 0.4897 - val_auc: 0.4405\n",
            "Epoch 41/50\n",
            "41/41 [==============================] - 5s 118ms/step - loss: 0.6956 - accuracy: 0.5109 - auc: 0.4948 - val_loss: 0.7000 - val_accuracy: 0.5068 - val_auc: 0.4382\n",
            "Epoch 42/50\n",
            "41/41 [==============================] - 5s 118ms/step - loss: 0.6902 - accuracy: 0.5269 - auc: 0.5371 - val_loss: 0.6996 - val_accuracy: 0.5068 - val_auc: 0.4420\n",
            "Epoch 43/50\n",
            "41/41 [==============================] - 5s 119ms/step - loss: 0.6941 - accuracy: 0.5109 - auc: 0.5139 - val_loss: 0.6989 - val_accuracy: 0.4589 - val_auc: 0.4463\n",
            "Epoch 44/50\n",
            "41/41 [==============================] - 5s 119ms/step - loss: 0.6918 - accuracy: 0.5208 - auc: 0.5232 - val_loss: 0.7012 - val_accuracy: 0.5103 - val_auc: 0.4493\n",
            "Epoch 45/50\n",
            "41/41 [==============================] - 5s 119ms/step - loss: 0.6943 - accuracy: 0.5055 - auc: 0.5056 - val_loss: 0.7012 - val_accuracy: 0.5103 - val_auc: 0.4391\n",
            "Epoch 46/50\n",
            "41/41 [==============================] - 5s 119ms/step - loss: 0.6926 - accuracy: 0.5166 - auc: 0.5163 - val_loss: 0.7008 - val_accuracy: 0.4692 - val_auc: 0.4337\n",
            "Epoch 47/50\n",
            "41/41 [==============================] - 5s 119ms/step - loss: 0.6936 - accuracy: 0.5265 - auc: 0.5139 - val_loss: 0.7004 - val_accuracy: 0.5103 - val_auc: 0.4516\n",
            "Epoch 48/50\n",
            "41/41 [==============================] - 5s 118ms/step - loss: 0.6950 - accuracy: 0.5223 - auc: 0.4974 - val_loss: 0.7011 - val_accuracy: 0.5068 - val_auc: 0.4389\n",
            "Epoch 49/50\n",
            "41/41 [==============================] - 5s 119ms/step - loss: 0.6944 - accuracy: 0.5109 - auc: 0.4995 - val_loss: 0.7006 - val_accuracy: 0.5103 - val_auc: 0.4358\n",
            "Epoch 50/50\n",
            "41/41 [==============================] - 5s 119ms/step - loss: 0.6942 - accuracy: 0.5208 - auc: 0.5051 - val_loss: 0.7030 - val_accuracy: 0.4863 - val_auc: 0.4100\n",
            "11/11 [==============================] - 1s 48ms/step - loss: 0.6909 - accuracy: 0.5432 - auc: 0.4737\n",
            "[0.6909241080284119, 0.5432098507881165, 0.4737279415130615]\n",
            "Running model with sentiment class 1.\n",
            "Epoch 1/50\n",
            "20/20 [==============================] - 4s 208ms/step - loss: 0.9058 - accuracy: 0.5042 - auc: 0.4824 - val_loss: 0.6939 - val_accuracy: 0.5145 - val_auc: 0.5398\n",
            "Epoch 2/50\n",
            "20/20 [==============================] - 2s 119ms/step - loss: 0.7309 - accuracy: 0.4584 - auc: 0.4610 - val_loss: 0.6925 - val_accuracy: 0.4928 - val_auc: 0.5354\n",
            "Epoch 3/50\n",
            "20/20 [==============================] - 2s 119ms/step - loss: 0.7145 - accuracy: 0.5077 - auc: 0.5161 - val_loss: 0.7029 - val_accuracy: 0.4855 - val_auc: 0.5412\n",
            "Epoch 4/50\n",
            "20/20 [==============================] - 2s 118ms/step - loss: 0.7152 - accuracy: 0.5077 - auc: 0.4965 - val_loss: 0.6974 - val_accuracy: 0.4855 - val_auc: 0.5025\n",
            "Epoch 5/50\n",
            "20/20 [==============================] - 2s 118ms/step - loss: 0.7093 - accuracy: 0.5125 - auc: 0.5075 - val_loss: 0.7015 - val_accuracy: 0.4855 - val_auc: 0.5444\n",
            "Epoch 6/50\n",
            "20/20 [==============================] - 2s 118ms/step - loss: 0.7199 - accuracy: 0.4883 - auc: 0.4737 - val_loss: 0.6965 - val_accuracy: 0.4855 - val_auc: 0.4889\n",
            "Epoch 7/50\n",
            "20/20 [==============================] - 2s 118ms/step - loss: 0.7153 - accuracy: 0.5044 - auc: 0.4894 - val_loss: 0.6966 - val_accuracy: 0.4855 - val_auc: 0.5087\n",
            "Epoch 8/50\n",
            "20/20 [==============================] - 2s 118ms/step - loss: 0.7169 - accuracy: 0.4867 - auc: 0.4813 - val_loss: 0.6966 - val_accuracy: 0.4855 - val_auc: 0.5118\n",
            "Epoch 9/50\n",
            "20/20 [==============================] - 2s 117ms/step - loss: 0.7141 - accuracy: 0.4891 - auc: 0.4922 - val_loss: 0.6925 - val_accuracy: 0.5145 - val_auc: 0.5040\n",
            "Epoch 10/50\n",
            "20/20 [==============================] - 2s 116ms/step - loss: 0.7083 - accuracy: 0.4851 - auc: 0.5006 - val_loss: 0.6938 - val_accuracy: 0.4928 - val_auc: 0.5133\n",
            "Epoch 11/50\n",
            "20/20 [==============================] - 2s 117ms/step - loss: 0.7113 - accuracy: 0.4931 - auc: 0.4929 - val_loss: 0.6926 - val_accuracy: 0.5000 - val_auc: 0.4807\n",
            "Epoch 12/50\n",
            "20/20 [==============================] - 2s 118ms/step - loss: 0.7176 - accuracy: 0.4786 - auc: 0.4789 - val_loss: 0.6964 - val_accuracy: 0.4855 - val_auc: 0.4761\n",
            "Epoch 13/50\n",
            "20/20 [==============================] - 2s 118ms/step - loss: 0.7138 - accuracy: 0.5004 - auc: 0.4901 - val_loss: 0.6925 - val_accuracy: 0.5145 - val_auc: 0.4826\n",
            "Epoch 14/50\n",
            "20/20 [==============================] - 2s 118ms/step - loss: 0.7168 - accuracy: 0.4931 - auc: 0.4821 - val_loss: 0.6927 - val_accuracy: 0.4928 - val_auc: 0.4832\n",
            "Epoch 15/50\n",
            "20/20 [==============================] - 2s 118ms/step - loss: 0.7226 - accuracy: 0.4810 - auc: 0.4741 - val_loss: 0.6961 - val_accuracy: 0.5145 - val_auc: 0.5185\n",
            "Epoch 16/50\n",
            "20/20 [==============================] - 2s 117ms/step - loss: 0.7127 - accuracy: 0.4923 - auc: 0.5005 - val_loss: 0.6939 - val_accuracy: 0.4928 - val_auc: 0.5022\n",
            "Epoch 17/50\n",
            "20/20 [==============================] - 2s 118ms/step - loss: 0.7181 - accuracy: 0.4746 - auc: 0.4694 - val_loss: 0.6947 - val_accuracy: 0.4855 - val_auc: 0.5189\n",
            "Epoch 18/50\n",
            "20/20 [==============================] - 2s 118ms/step - loss: 0.7162 - accuracy: 0.4770 - auc: 0.4754 - val_loss: 0.6978 - val_accuracy: 0.4855 - val_auc: 0.5068\n",
            "Epoch 19/50\n",
            "20/20 [==============================] - 2s 118ms/step - loss: 0.7136 - accuracy: 0.4802 - auc: 0.4752 - val_loss: 0.6928 - val_accuracy: 0.5000 - val_auc: 0.4905\n",
            "Epoch 20/50\n",
            "20/20 [==============================] - 2s 117ms/step - loss: 0.7175 - accuracy: 0.4843 - auc: 0.4818 - val_loss: 0.6971 - val_accuracy: 0.4855 - val_auc: 0.5095\n",
            "Epoch 21/50\n",
            "20/20 [==============================] - 2s 118ms/step - loss: 0.7010 - accuracy: 0.5101 - auc: 0.5234 - val_loss: 0.6934 - val_accuracy: 0.5145 - val_auc: 0.4836\n",
            "Epoch 22/50\n",
            "20/20 [==============================] - 2s 118ms/step - loss: 0.7159 - accuracy: 0.4923 - auc: 0.4804 - val_loss: 0.6967 - val_accuracy: 0.4855 - val_auc: 0.4964\n",
            "Epoch 23/50\n",
            "20/20 [==============================] - 2s 117ms/step - loss: 0.7073 - accuracy: 0.5061 - auc: 0.5101 - val_loss: 0.6931 - val_accuracy: 0.4855 - val_auc: 0.4950\n",
            "Epoch 24/50\n",
            "20/20 [==============================] - 2s 118ms/step - loss: 0.7143 - accuracy: 0.4907 - auc: 0.4854 - val_loss: 0.6928 - val_accuracy: 0.4855 - val_auc: 0.5115\n",
            "Epoch 25/50\n",
            "20/20 [==============================] - 2s 117ms/step - loss: 0.7086 - accuracy: 0.4972 - auc: 0.4984 - val_loss: 0.6958 - val_accuracy: 0.4855 - val_auc: 0.5060\n",
            "Epoch 26/50\n",
            "20/20 [==============================] - 2s 118ms/step - loss: 0.7149 - accuracy: 0.4915 - auc: 0.4786 - val_loss: 0.7002 - val_accuracy: 0.4855 - val_auc: 0.5048\n",
            "Epoch 27/50\n",
            "20/20 [==============================] - 2s 118ms/step - loss: 0.7038 - accuracy: 0.5190 - auc: 0.5174 - val_loss: 0.6927 - val_accuracy: 0.5072 - val_auc: 0.4896\n",
            "Epoch 28/50\n",
            "20/20 [==============================] - 2s 118ms/step - loss: 0.7063 - accuracy: 0.5028 - auc: 0.5003 - val_loss: 0.6954 - val_accuracy: 0.4855 - val_auc: 0.4898\n",
            "Epoch 29/50\n",
            "20/20 [==============================] - 2s 119ms/step - loss: 0.7169 - accuracy: 0.4802 - auc: 0.4732 - val_loss: 0.6949 - val_accuracy: 0.4855 - val_auc: 0.5166\n",
            "Epoch 30/50\n",
            "20/20 [==============================] - 2s 118ms/step - loss: 0.7019 - accuracy: 0.5109 - auc: 0.5172 - val_loss: 0.6957 - val_accuracy: 0.4855 - val_auc: 0.5169\n",
            "Epoch 31/50\n",
            "20/20 [==============================] - 2s 118ms/step - loss: 0.7060 - accuracy: 0.4883 - auc: 0.4978 - val_loss: 0.6933 - val_accuracy: 0.4928 - val_auc: 0.4783\n",
            "Epoch 32/50\n",
            "20/20 [==============================] - 2s 119ms/step - loss: 0.7063 - accuracy: 0.5085 - auc: 0.5018 - val_loss: 0.6941 - val_accuracy: 0.5000 - val_auc: 0.4793\n",
            "Epoch 33/50\n",
            "20/20 [==============================] - 2s 119ms/step - loss: 0.7089 - accuracy: 0.4875 - auc: 0.4910 - val_loss: 0.7016 - val_accuracy: 0.4855 - val_auc: 0.4886\n",
            "Epoch 34/50\n",
            "20/20 [==============================] - 2s 118ms/step - loss: 0.7032 - accuracy: 0.5174 - auc: 0.5210 - val_loss: 0.6950 - val_accuracy: 0.4855 - val_auc: 0.5021\n",
            "Epoch 35/50\n",
            "20/20 [==============================] - 2s 118ms/step - loss: 0.7066 - accuracy: 0.5012 - auc: 0.5086 - val_loss: 0.6932 - val_accuracy: 0.5072 - val_auc: 0.4820\n",
            "Epoch 36/50\n",
            "20/20 [==============================] - 2s 118ms/step - loss: 0.7129 - accuracy: 0.4794 - auc: 0.4838 - val_loss: 0.6951 - val_accuracy: 0.4855 - val_auc: 0.5119\n",
            "Epoch 37/50\n",
            "20/20 [==============================] - 2s 119ms/step - loss: 0.7115 - accuracy: 0.4980 - auc: 0.4840 - val_loss: 0.6942 - val_accuracy: 0.5000 - val_auc: 0.4919\n",
            "Epoch 38/50\n",
            "20/20 [==============================] - 2s 117ms/step - loss: 0.7023 - accuracy: 0.5077 - auc: 0.5102 - val_loss: 0.6940 - val_accuracy: 0.5072 - val_auc: 0.5094\n",
            "Epoch 39/50\n",
            "20/20 [==============================] - 2s 118ms/step - loss: 0.6957 - accuracy: 0.5149 - auc: 0.5352 - val_loss: 0.6944 - val_accuracy: 0.5000 - val_auc: 0.4656\n",
            "Epoch 40/50\n",
            "20/20 [==============================] - 2s 117ms/step - loss: 0.7067 - accuracy: 0.4972 - auc: 0.4971 - val_loss: 0.6962 - val_accuracy: 0.4855 - val_auc: 0.4920\n",
            "Epoch 41/50\n",
            "20/20 [==============================] - 2s 118ms/step - loss: 0.7125 - accuracy: 0.4810 - auc: 0.4773 - val_loss: 0.6938 - val_accuracy: 0.5145 - val_auc: 0.4987\n",
            "Epoch 42/50\n",
            "20/20 [==============================] - 2s 119ms/step - loss: 0.7128 - accuracy: 0.4923 - auc: 0.4860 - val_loss: 0.7011 - val_accuracy: 0.4855 - val_auc: 0.5082\n",
            "Epoch 43/50\n",
            "20/20 [==============================] - 2s 119ms/step - loss: 0.7082 - accuracy: 0.5004 - auc: 0.5000 - val_loss: 0.6931 - val_accuracy: 0.5000 - val_auc: 0.4794\n",
            "Epoch 44/50\n",
            "20/20 [==============================] - 2s 119ms/step - loss: 0.7096 - accuracy: 0.4875 - auc: 0.4959 - val_loss: 0.6937 - val_accuracy: 0.5000 - val_auc: 0.5044\n",
            "Epoch 45/50\n",
            "20/20 [==============================] - 2s 118ms/step - loss: 0.7144 - accuracy: 0.4762 - auc: 0.4663 - val_loss: 0.6940 - val_accuracy: 0.5145 - val_auc: 0.4742\n",
            "Epoch 46/50\n",
            "20/20 [==============================] - 2s 118ms/step - loss: 0.7057 - accuracy: 0.5117 - auc: 0.4993 - val_loss: 0.6950 - val_accuracy: 0.4928 - val_auc: 0.4746\n",
            "Epoch 47/50\n",
            "20/20 [==============================] - 2s 118ms/step - loss: 0.7060 - accuracy: 0.4972 - auc: 0.4991 - val_loss: 0.6935 - val_accuracy: 0.4855 - val_auc: 0.5011\n",
            "Epoch 48/50\n",
            "20/20 [==============================] - 2s 118ms/step - loss: 0.7061 - accuracy: 0.5004 - auc: 0.5001 - val_loss: 0.6947 - val_accuracy: 0.5000 - val_auc: 0.4892\n",
            "Epoch 49/50\n",
            "20/20 [==============================] - 2s 119ms/step - loss: 0.7116 - accuracy: 0.4923 - auc: 0.4841 - val_loss: 0.6978 - val_accuracy: 0.4855 - val_auc: 0.4985\n",
            "Epoch 50/50\n",
            "20/20 [==============================] - 2s 119ms/step - loss: 0.7077 - accuracy: 0.5149 - auc: 0.5077 - val_loss: 0.6933 - val_accuracy: 0.4783 - val_auc: 0.4927\n",
            "5/5 [==============================] - 0s 43ms/step - loss: 0.6956 - accuracy: 0.4641 - auc: 0.5342\n",
            "[0.6956055164337158, 0.46405228972435, 0.5341695547103882]\n"
          ],
          "name": "stdout"
        }
      ]
    },
    {
      "cell_type": "code",
      "metadata": {
        "id": "-hj6ahPpyjyN",
        "colab_type": "code",
        "colab": {
          "base_uri": "https://localhost:8080/",
          "height": 279
        },
        "outputId": "a9ad937b-f386-4ebe-d319-18b0b826a6ca"
      },
      "source": [
        "for history in histories[0:1]:\n",
        "  plt.plot(history.history['accuracy'], label='train accuracy')\n",
        "  plt.plot(history.history['val_accuracy'], label='val accuracy')\n",
        "  plt.xlabel(\"epoch\")\n",
        "  plt.ylabel(\"accuracy\")\n",
        "  plt.legend();"
      ],
      "execution_count": null,
      "outputs": [
        {
          "output_type": "display_data",
          "data": {
            "image/png": "[encoded data removed]",
            "text/plain": [
              "<Figure size 432x288 with 1 Axes>"
            ]
          },
          "metadata": {
            "tags": [],
            "needs_background": "light"
          }
        }
      ]
    },
    {
      "cell_type": "code",
      "metadata": {
        "colab_type": "code",
        "id": "UzSTQGuHqGeQ",
        "colab": {}
      },
      "source": [
        "predictions_0 = models[0].predict(test_df['cleaned_text'])\n",
        "predictions_1 = models[1].predict(test_df['cleaned_text'])\n",
        "predictions_2 = models[2].predict(test_df['cleaned_text'])\n",
        "predictions_all =  np.hstack((predictions_0, predictions_1, predictions_2)) \n",
        "class_preds = np.argmax(predictions_all, axis=1)\n",
        "class_preds = class_preds - 1\n",
        "test_df['sentiment_class'] = class_preds\n",
        "test_df[['id', 'sentiment_class']].to_csv('submission.csv', index=False)"
      ],
      "execution_count": null,
      "outputs": []
    }
  ]
}