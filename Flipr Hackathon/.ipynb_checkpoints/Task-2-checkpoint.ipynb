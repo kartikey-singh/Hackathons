{
 "cells": [
  {
   "cell_type": "code",
   "execution_count": 1,
   "metadata": {},
   "outputs": [
    {
     "name": "stderr",
     "output_type": "stream",
     "text": [
      "Using TensorFlow backend.\n"
     ]
    }
   ],
   "source": [
    "%matplotlib inline\n",
    "import warnings\n",
    "import re as re\n",
    "import numpy as np\n",
    "import pandas as pd\n",
    "import seaborn as sns\n",
    "import xgboost as xgb\n",
    "import random, sys, os\n",
    "import matplotlib.pyplot as plt\n",
    "warnings.filterwarnings('ignore')\n",
    "\n",
    "from pandas_profiling import ProfileReport\n",
    "\n",
    "from sklearn.impute import SimpleImputer\n",
    "from sklearn.metrics import roc_auc_score, roc_curve, auc\n",
    "from sklearn.preprocessing import MinMaxScaler, LabelEncoder, OneHotEncoder\n",
    "from sklearn.model_selection import (train_test_split, RandomizedSearchCV, \n",
    "                                     GridSearchCV, KFold, cross_val_predict, \n",
    "                                     permutation_test_score, StratifiedKFold) \n",
    "\n",
    "from sklearn.svm import SVC\n",
    "from sklearn.naive_bayes import GaussianNB\n",
    "from sklearn.tree import DecisionTreeClassifier\n",
    "from sklearn.linear_model import LinearRegression\n",
    "from sklearn.neighbors import KNeighborsClassifier\n",
    "from sklearn.linear_model import LogisticRegressionCV, LogisticRegression\n",
    "from sklearn.ensemble import (RandomForestClassifier, AdaBoostClassifier,\n",
    "                              GradientBoostingClassifier, ExtraTreesClassifier)\n",
    "\n",
    "from keras.models import Sequential, load_model\n",
    "from keras.layers import Dense, Dropout, LSTM\n",
    "from keras.callbacks import EarlyStopping\n",
    "from keras.wrappers.scikit_learn import KerasRegressor, KerasClassifier"
   ]
  },
  {
   "cell_type": "code",
   "execution_count": 2,
   "metadata": {},
   "outputs": [
    {
     "data": {
      "text/plain": [
       "Index(['Region', 'Gender', 'Married', 'Children', 'Occupation',\n",
       "       'Mode_transport', 'cases/1M', 'Deaths/1M', 'comorbidity', 'Age',\n",
       "       'Coma score', 'Pulmonary score', 'cardiological pressure', 'Diuresis',\n",
       "       'Platelets', 'HBB', 'd-dimer', 'Heart rate', 'HDL cholesterol',\n",
       "       'Charlson Index', 'Blood Glucose', 'Insurance', 'salary', 'FT/month'],\n",
       "      dtype='object')"
      ]
     },
     "execution_count": 2,
     "metadata": {},
     "output_type": "execute_result"
    }
   ],
   "source": [
    "# Loading Pickled DataFrames\n",
    "X_train = pd.read_pickle(\"Processed_Data/X_train.pkl\")\n",
    "X_test = pd.read_pickle(\"Processed_Data/X_test.pkl\")\n",
    "y_train = pd.read_pickle(\"Processed_Data/y_train.pkl\")\n",
    "y_test = pd.read_pickle(\"Processed_Data/y_test.pkl\")\n",
    "test = pd.read_pickle(\"Processed_Data/test.pkl\")\n",
    "X_train.columns"
   ]
  },
  {
   "cell_type": "code",
   "execution_count": 3,
   "metadata": {},
   "outputs": [
    {
     "data": {
      "text/html": [
       "<div>\n",
       "<style scoped>\n",
       "    .dataframe tbody tr th:only-of-type {\n",
       "        vertical-align: middle;\n",
       "    }\n",
       "\n",
       "    .dataframe tbody tr th {\n",
       "        vertical-align: top;\n",
       "    }\n",
       "\n",
       "    .dataframe thead th {\n",
       "        text-align: right;\n",
       "    }\n",
       "</style>\n",
       "<table border=\"1\" class=\"dataframe\">\n",
       "  <thead>\n",
       "    <tr style=\"text-align: right;\">\n",
       "      <th></th>\n",
       "      <th>Region</th>\n",
       "      <th>Gender</th>\n",
       "      <th>Married</th>\n",
       "      <th>Children</th>\n",
       "      <th>Occupation</th>\n",
       "      <th>Mode_transport</th>\n",
       "      <th>cases/1M</th>\n",
       "      <th>Deaths/1M</th>\n",
       "      <th>comorbidity</th>\n",
       "      <th>Age</th>\n",
       "      <th>...</th>\n",
       "      <th>Platelets</th>\n",
       "      <th>HBB</th>\n",
       "      <th>d-dimer</th>\n",
       "      <th>Heart rate</th>\n",
       "      <th>HDL cholesterol</th>\n",
       "      <th>Charlson Index</th>\n",
       "      <th>Blood Glucose</th>\n",
       "      <th>Insurance</th>\n",
       "      <th>salary</th>\n",
       "      <th>FT/month</th>\n",
       "    </tr>\n",
       "    <tr>\n",
       "      <th>people_ID</th>\n",
       "      <th></th>\n",
       "      <th></th>\n",
       "      <th></th>\n",
       "      <th></th>\n",
       "      <th></th>\n",
       "      <th></th>\n",
       "      <th></th>\n",
       "      <th></th>\n",
       "      <th></th>\n",
       "      <th></th>\n",
       "      <th></th>\n",
       "      <th></th>\n",
       "      <th></th>\n",
       "      <th></th>\n",
       "      <th></th>\n",
       "      <th></th>\n",
       "      <th></th>\n",
       "      <th></th>\n",
       "      <th></th>\n",
       "      <th></th>\n",
       "      <th></th>\n",
       "    </tr>\n",
       "  </thead>\n",
       "  <tbody>\n",
       "    <tr>\n",
       "      <th>21635</th>\n",
       "      <td>10</td>\n",
       "      <td>1</td>\n",
       "      <td>1</td>\n",
       "      <td>1</td>\n",
       "      <td>5.0</td>\n",
       "      <td>0.0</td>\n",
       "      <td>8</td>\n",
       "      <td>2</td>\n",
       "      <td>2.0</td>\n",
       "      <td>57</td>\n",
       "      <td>...</td>\n",
       "      <td>126.0</td>\n",
       "      <td>53.0</td>\n",
       "      <td>202.0</td>\n",
       "      <td>89.0</td>\n",
       "      <td>44.000000</td>\n",
       "      <td>15</td>\n",
       "      <td>7</td>\n",
       "      <td>400000.0</td>\n",
       "      <td>1300000</td>\n",
       "      <td>0.0</td>\n",
       "    </tr>\n",
       "    <tr>\n",
       "      <th>14718</th>\n",
       "      <td>8</td>\n",
       "      <td>1</td>\n",
       "      <td>0</td>\n",
       "      <td>0</td>\n",
       "      <td>7.0</td>\n",
       "      <td>0.0</td>\n",
       "      <td>2</td>\n",
       "      <td>0</td>\n",
       "      <td>3.0</td>\n",
       "      <td>17</td>\n",
       "      <td>...</td>\n",
       "      <td>146.0</td>\n",
       "      <td>176.0</td>\n",
       "      <td>294.0</td>\n",
       "      <td>54.0</td>\n",
       "      <td>37.000000</td>\n",
       "      <td>33</td>\n",
       "      <td>5</td>\n",
       "      <td>2400000.0</td>\n",
       "      <td>500000</td>\n",
       "      <td>0.0</td>\n",
       "    </tr>\n",
       "    <tr>\n",
       "      <th>2977</th>\n",
       "      <td>9</td>\n",
       "      <td>0</td>\n",
       "      <td>1</td>\n",
       "      <td>2</td>\n",
       "      <td>7.0</td>\n",
       "      <td>2.0</td>\n",
       "      <td>1</td>\n",
       "      <td>0</td>\n",
       "      <td>3.0</td>\n",
       "      <td>55</td>\n",
       "      <td>...</td>\n",
       "      <td>126.0</td>\n",
       "      <td>107.0</td>\n",
       "      <td>350.0</td>\n",
       "      <td>94.0</td>\n",
       "      <td>52.716577</td>\n",
       "      <td>7</td>\n",
       "      <td>6</td>\n",
       "      <td>4100000.0</td>\n",
       "      <td>2000000</td>\n",
       "      <td>1.0</td>\n",
       "    </tr>\n",
       "    <tr>\n",
       "      <th>14515</th>\n",
       "      <td>8</td>\n",
       "      <td>1</td>\n",
       "      <td>0</td>\n",
       "      <td>0</td>\n",
       "      <td>3.0</td>\n",
       "      <td>0.0</td>\n",
       "      <td>2</td>\n",
       "      <td>0</td>\n",
       "      <td>3.0</td>\n",
       "      <td>18</td>\n",
       "      <td>...</td>\n",
       "      <td>44.0</td>\n",
       "      <td>96.0</td>\n",
       "      <td>201.0</td>\n",
       "      <td>95.0</td>\n",
       "      <td>55.000000</td>\n",
       "      <td>38</td>\n",
       "      <td>6</td>\n",
       "      <td>3800000.0</td>\n",
       "      <td>600000</td>\n",
       "      <td>0.0</td>\n",
       "    </tr>\n",
       "    <tr>\n",
       "      <th>14697</th>\n",
       "      <td>8</td>\n",
       "      <td>1</td>\n",
       "      <td>1</td>\n",
       "      <td>1</td>\n",
       "      <td>3.0</td>\n",
       "      <td>0.0</td>\n",
       "      <td>2</td>\n",
       "      <td>0</td>\n",
       "      <td>3.0</td>\n",
       "      <td>44</td>\n",
       "      <td>...</td>\n",
       "      <td>27.0</td>\n",
       "      <td>66.0</td>\n",
       "      <td>297.0</td>\n",
       "      <td>64.0</td>\n",
       "      <td>42.000000</td>\n",
       "      <td>20</td>\n",
       "      <td>7</td>\n",
       "      <td>3800000.0</td>\n",
       "      <td>1400000</td>\n",
       "      <td>0.0</td>\n",
       "    </tr>\n",
       "  </tbody>\n",
       "</table>\n",
       "<p>5 rows × 24 columns</p>\n",
       "</div>"
      ],
      "text/plain": [
       "           Region  Gender  Married  Children  Occupation  Mode_transport  \\\n",
       "people_ID                                                                  \n",
       "21635          10       1        1         1         5.0             0.0   \n",
       "14718           8       1        0         0         7.0             0.0   \n",
       "2977            9       0        1         2         7.0             2.0   \n",
       "14515           8       1        0         0         3.0             0.0   \n",
       "14697           8       1        1         1         3.0             0.0   \n",
       "\n",
       "           cases/1M  Deaths/1M  comorbidity  Age  ...  Platelets    HBB  \\\n",
       "people_ID                                         ...                     \n",
       "21635             8          2          2.0   57  ...      126.0   53.0   \n",
       "14718             2          0          3.0   17  ...      146.0  176.0   \n",
       "2977              1          0          3.0   55  ...      126.0  107.0   \n",
       "14515             2          0          3.0   18  ...       44.0   96.0   \n",
       "14697             2          0          3.0   44  ...       27.0   66.0   \n",
       "\n",
       "           d-dimer  Heart rate  HDL cholesterol  Charlson Index  \\\n",
       "people_ID                                                         \n",
       "21635        202.0        89.0        44.000000              15   \n",
       "14718        294.0        54.0        37.000000              33   \n",
       "2977         350.0        94.0        52.716577               7   \n",
       "14515        201.0        95.0        55.000000              38   \n",
       "14697        297.0        64.0        42.000000              20   \n",
       "\n",
       "           Blood Glucose  Insurance   salary  FT/month  \n",
       "people_ID                                               \n",
       "21635                  7   400000.0  1300000       0.0  \n",
       "14718                  5  2400000.0   500000       0.0  \n",
       "2977                   6  4100000.0  2000000       1.0  \n",
       "14515                  6  3800000.0   600000       0.0  \n",
       "14697                  7  3800000.0  1400000       0.0  \n",
       "\n",
       "[5 rows x 24 columns]"
      ]
     },
     "execution_count": 3,
     "metadata": {},
     "output_type": "execute_result"
    }
   ],
   "source": [
    "X_train.head()"
   ]
  },
  {
   "cell_type": "code",
   "execution_count": 4,
   "metadata": {},
   "outputs": [
    {
     "data": {
      "text/html": [
       "<div>\n",
       "<style scoped>\n",
       "    .dataframe tbody tr th:only-of-type {\n",
       "        vertical-align: middle;\n",
       "    }\n",
       "\n",
       "    .dataframe tbody tr th {\n",
       "        vertical-align: top;\n",
       "    }\n",
       "\n",
       "    .dataframe thead th {\n",
       "        text-align: right;\n",
       "    }\n",
       "</style>\n",
       "<table border=\"1\" class=\"dataframe\">\n",
       "  <thead>\n",
       "    <tr style=\"text-align: right;\">\n",
       "      <th></th>\n",
       "      <th>people_ID</th>\n",
       "      <th>2020-03-20 00:00:00</th>\n",
       "      <th>2020-03-21 00:00:00</th>\n",
       "      <th>2020-03-22 00:00:00</th>\n",
       "      <th>2020-03-23 00:00:00</th>\n",
       "      <th>2020-03-24 00:00:00</th>\n",
       "      <th>2020-03-25 00:00:00</th>\n",
       "      <th>2020-03-26 00:00:00</th>\n",
       "    </tr>\n",
       "  </thead>\n",
       "  <tbody>\n",
       "    <tr>\n",
       "      <th>0</th>\n",
       "      <td>1</td>\n",
       "      <td>441</td>\n",
       "      <td>544.2</td>\n",
       "      <td>669.64</td>\n",
       "      <td>821.368</td>\n",
       "      <td>1002.2416</td>\n",
       "      <td>1215.68992</td>\n",
       "      <td>1472.627904</td>\n",
       "    </tr>\n",
       "    <tr>\n",
       "      <th>1</th>\n",
       "      <td>2</td>\n",
       "      <td>151</td>\n",
       "      <td>197.2</td>\n",
       "      <td>253.24</td>\n",
       "      <td>321.688</td>\n",
       "      <td>399.9256</td>\n",
       "      <td>492.91072</td>\n",
       "      <td>606.892864</td>\n",
       "    </tr>\n",
       "    <tr>\n",
       "      <th>2</th>\n",
       "      <td>3</td>\n",
       "      <td>416</td>\n",
       "      <td>515.2</td>\n",
       "      <td>632.44</td>\n",
       "      <td>776.728</td>\n",
       "      <td>947.7736</td>\n",
       "      <td>1150.32832</td>\n",
       "      <td>1395.793984</td>\n",
       "    </tr>\n",
       "    <tr>\n",
       "      <th>3</th>\n",
       "      <td>4</td>\n",
       "      <td>410</td>\n",
       "      <td>506.0</td>\n",
       "      <td>621.40</td>\n",
       "      <td>761.880</td>\n",
       "      <td>928.1560</td>\n",
       "      <td>1126.78720</td>\n",
       "      <td>1368.344640</td>\n",
       "    </tr>\n",
       "    <tr>\n",
       "      <th>4</th>\n",
       "      <td>5</td>\n",
       "      <td>390</td>\n",
       "      <td>483.0</td>\n",
       "      <td>595.00</td>\n",
       "      <td>730.200</td>\n",
       "      <td>892.8400</td>\n",
       "      <td>1084.40800</td>\n",
       "      <td>1315.889600</td>\n",
       "    </tr>\n",
       "  </tbody>\n",
       "</table>\n",
       "</div>"
      ],
      "text/plain": [
       "   people_ID  2020-03-20 00:00:00  2020-03-21 00:00:00  2020-03-22 00:00:00  \\\n",
       "0          1                  441                544.2               669.64   \n",
       "1          2                  151                197.2               253.24   \n",
       "2          3                  416                515.2               632.44   \n",
       "3          4                  410                506.0               621.40   \n",
       "4          5                  390                483.0               595.00   \n",
       "\n",
       "   2020-03-23 00:00:00  2020-03-24 00:00:00  2020-03-25 00:00:00  \\\n",
       "0              821.368            1002.2416           1215.68992   \n",
       "1              321.688             399.9256            492.91072   \n",
       "2              776.728             947.7736           1150.32832   \n",
       "3              761.880             928.1560           1126.78720   \n",
       "4              730.200             892.8400           1084.40800   \n",
       "\n",
       "   2020-03-26 00:00:00  \n",
       "0          1472.627904  \n",
       "1           606.892864  \n",
       "2          1395.793984  \n",
       "3          1368.344640  \n",
       "4          1315.889600  "
      ]
     },
     "execution_count": 4,
     "metadata": {},
     "output_type": "execute_result"
    }
   ],
   "source": [
    "df = pd.read_excel('Train_dataset.xlsx', sheet_name='Diuresis_TS')\n",
    "df.head()"
   ]
  },
  {
   "cell_type": "code",
   "execution_count": 5,
   "metadata": {},
   "outputs": [],
   "source": [
    "inital_vals = []\n",
    "for col in df.columns[1:-1]:\n",
    "    inital_vals.append(df[col].values)\n",
    "\n",
    "diuresis_X = inital_vals[0]    \n",
    "for val in inital_vals[1:]:\n",
    "    diuresis_X = np.append(diuresis_X, val)\n",
    "    \n",
    "forecast_vals = []    \n",
    "for col in df.columns[2:]:\n",
    "    forecast_vals.append(df[col].values)\n",
    "\n",
    "diuresis_y = forecast_vals[0]    \n",
    "for val in forecast_vals[1:]:\n",
    "    diuresis_y = np.append(diuresis_y, val)    "
   ]
  },
  {
   "cell_type": "code",
   "execution_count": 6,
   "metadata": {},
   "outputs": [
    {
     "name": "stdout",
     "output_type": "stream",
     "text": [
      "64284 64284\n"
     ]
    }
   ],
   "source": [
    "print(len(diuresis_X), len(diuresis_y))"
   ]
  },
  {
   "cell_type": "code",
   "execution_count": 7,
   "metadata": {},
   "outputs": [
    {
     "data": {
      "text/plain": [
       "(14498,)"
      ]
     },
     "execution_count": 7,
     "metadata": {},
     "output_type": "execute_result"
    }
   ],
   "source": [
    "diuresis_test_X = test['Diuresis']\n",
    "diuresis_test_X.shape"
   ]
  },
  {
   "cell_type": "code",
   "execution_count": 8,
   "metadata": {},
   "outputs": [],
   "source": [
    "n_steps = 1\n",
    "n_features = 1\n",
    "\n",
    "X_train_feed = np.array(diuresis_X).reshape((diuresis_X.shape[0], n_steps, n_features))\n",
    "X_test_feed = np.array(diuresis_test_X).reshape((diuresis_test_X.shape[0], n_steps, n_features))\n",
    "y_train_feed = np.array(diuresis_y)"
   ]
  },
  {
   "cell_type": "code",
   "execution_count": null,
   "metadata": {},
   "outputs": [],
   "source": [
    "model = Sequential()\n",
    "model.add(LSTM(50, activation='relu', input_shape=(n_steps, n_features)))\n",
    "model.add(Dense(1))\n",
    "model.compile(optimizer='adam', loss='mse')\n",
    "model.fit(X_train_feed, y_train_feed, epochs=10, validation_split=0.2)\n",
    "model.save('Models/Task-2.h5')"
   ]
  },
  {
   "cell_type": "code",
   "execution_count": 10,
   "metadata": {},
   "outputs": [
    {
     "name": "stdout",
     "output_type": "stream",
     "text": [
      "Model: \"sequential_1\"\n",
      "_________________________________________________________________\n",
      "Layer (type)                 Output Shape              Param #   \n",
      "=================================================================\n",
      "lstm_1 (LSTM)                (None, 50)                10400     \n",
      "_________________________________________________________________\n",
      "dense_1 (Dense)              (None, 1)                 51        \n",
      "=================================================================\n",
      "Total params: 10,451\n",
      "Trainable params: 10,451\n",
      "Non-trainable params: 0\n",
      "_________________________________________________________________\n"
     ]
    }
   ],
   "source": [
    "model.summary()"
   ]
  },
  {
   "cell_type": "code",
   "execution_count": 11,
   "metadata": {},
   "outputs": [
    {
     "data": {
      "text/plain": [
       "(14498, 1, 1)"
      ]
     },
     "execution_count": 11,
     "metadata": {},
     "output_type": "execute_result"
    }
   ],
   "source": [
    "X_test_feed.shape"
   ]
  },
  {
   "cell_type": "code",
   "execution_count": 12,
   "metadata": {},
   "outputs": [
    {
     "data": {
      "text/plain": [
       "array([1599.8959 , 1675.3964 , 1786.8495 , ...,  782.1461 ,  829.4274 ,\n",
       "        653.14703], dtype=float32)"
      ]
     },
     "execution_count": 12,
     "metadata": {},
     "output_type": "execute_result"
    }
   ],
   "source": [
    "# As data provided to us was for 20th March and we need predictions for 27th March.\n",
    "# So we would need to keep sampling till 26th March to get predictions for 27th March\n",
    "# No real use of days_till_final_predict list (just for readability)\n",
    "\n",
    "days_till_final_predict = [20, 21, 22, 23, 24, 25, 26]\n",
    "\n",
    "for day in days_till_final_predict:\n",
    "    predictions = model.predict(X_test_feed)\n",
    "    predictions = np.squeeze(predictions, axis=(1,))\n",
    "    X_test_feed = X_test_feed = np.array(predictions).reshape((predictions.shape[0], n_steps, n_features))\n",
    "    \n",
    "test['Diuresis'] = predictions\n",
    "predictions"
   ]
  },
  {
   "cell_type": "code",
   "execution_count": 18,
   "metadata": {},
   "outputs": [],
   "source": [
    "# Scaling the datasets\n",
    "scaler = MinMaxScaler()\n",
    "X_train = scaler.fit_transform(X_train)\n",
    "X_test = scaler.transform(X_test)\n",
    "test = scaler.transform(test)"
   ]
  },
  {
   "cell_type": "code",
   "execution_count": 19,
   "metadata": {},
   "outputs": [],
   "source": [
    "# Load Model from Task-1\n",
    "model_1 = load_model('Models/Task-1-reg.h5')\n",
    "predictions_final = model_1.predict(test)\n",
    "predictions_final = np.squeeze(predictions_final, axis=(1,))"
   ]
  },
  {
   "cell_type": "code",
   "execution_count": 20,
   "metadata": {},
   "outputs": [
    {
     "data": {
      "text/plain": [
       "array([0.6093626 , 0.4874894 , 0.11088762, ..., 0.64028084, 0.73314   ,\n",
       "       0.68541837], dtype=float32)"
      ]
     },
     "execution_count": 20,
     "metadata": {},
     "output_type": "execute_result"
    }
   ],
   "source": [
    "predictions_final"
   ]
  },
  {
   "cell_type": "code",
   "execution_count": 14,
   "metadata": {},
   "outputs": [
    {
     "data": {
      "text/html": [
       "<div>\n",
       "<style scoped>\n",
       "    .dataframe tbody tr th:only-of-type {\n",
       "        vertical-align: middle;\n",
       "    }\n",
       "\n",
       "    .dataframe tbody tr th {\n",
       "        vertical-align: top;\n",
       "    }\n",
       "\n",
       "    .dataframe thead th {\n",
       "        text-align: right;\n",
       "    }\n",
       "</style>\n",
       "<table border=\"1\" class=\"dataframe\">\n",
       "  <thead>\n",
       "    <tr style=\"text-align: right;\">\n",
       "      <th></th>\n",
       "      <th>people_ID</th>\n",
       "      <th>Infect_Prob</th>\n",
       "    </tr>\n",
       "  </thead>\n",
       "  <tbody>\n",
       "    <tr>\n",
       "      <th>0</th>\n",
       "      <td>5942</td>\n",
       "      <td>0.0</td>\n",
       "    </tr>\n",
       "    <tr>\n",
       "      <th>1</th>\n",
       "      <td>18664</td>\n",
       "      <td>0.0</td>\n",
       "    </tr>\n",
       "    <tr>\n",
       "      <th>2</th>\n",
       "      <td>5603</td>\n",
       "      <td>0.0</td>\n",
       "    </tr>\n",
       "    <tr>\n",
       "      <th>3</th>\n",
       "      <td>5649</td>\n",
       "      <td>0.0</td>\n",
       "    </tr>\n",
       "    <tr>\n",
       "      <th>4</th>\n",
       "      <td>5099</td>\n",
       "      <td>0.0</td>\n",
       "    </tr>\n",
       "  </tbody>\n",
       "</table>\n",
       "</div>"
      ],
      "text/plain": [
       "   people_ID  Infect_Prob\n",
       "0       5942          0.0\n",
       "1      18664          0.0\n",
       "2       5603          0.0\n",
       "3       5649          0.0\n",
       "4       5099          0.0"
      ]
     },
     "execution_count": 14,
     "metadata": {},
     "output_type": "execute_result"
    }
   ],
   "source": [
    "test_people = pd.read_excel('Test_dataset.xlsx')\n",
    "final_df = pd.DataFrame({'people_ID':test_people['people_ID'], 'Infect_Prob': predictions_final*100})\n",
    "final_df.head()"
   ]
  },
  {
   "cell_type": "code",
   "execution_count": 15,
   "metadata": {},
   "outputs": [
    {
     "data": {
      "text/plain": [
       "{0.0}"
      ]
     },
     "execution_count": 15,
     "metadata": {},
     "output_type": "execute_result"
    }
   ],
   "source": [
    "set(predictions_final)"
   ]
  },
  {
   "cell_type": "code",
   "execution_count": 15,
   "metadata": {},
   "outputs": [],
   "source": [
    "final_df.to_csv('Results/Task-2_Results.csv', index=False)"
   ]
  }
 ],
 "metadata": {
  "kernelspec": {
   "display_name": "Python 3",
   "language": "python",
   "name": "python3"
  },
  "language_info": {
   "codemirror_mode": {
    "name": "ipython",
    "version": 3
   },
   "file_extension": ".py",
   "mimetype": "text/x-python",
   "name": "python",
   "nbconvert_exporter": "python",
   "pygments_lexer": "ipython3",
   "version": "3.7.4"
  }
 },
 "nbformat": 4,
 "nbformat_minor": 4
}
