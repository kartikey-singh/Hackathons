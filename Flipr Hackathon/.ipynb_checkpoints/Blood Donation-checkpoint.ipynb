{
 "cells": [
  {
   "cell_type": "code",
   "execution_count": 26,
   "metadata": {},
   "outputs": [],
   "source": [
    "%matplotlib notebook\n",
    "%matplotlib inline\n",
    "from __future__ import division\n",
    "import pandas as pd\n",
    "import numpy as np\n",
    "import re as re\n",
    "import sklearn\n",
    "import seaborn as sns\n",
    "import matplotlib.pyplot as plt\n",
    "import random, sys, os\n",
    "import warnings\n",
    "warnings.filterwarnings('ignore')\n",
    "\n",
    "from sklearn.preprocessing import LabelEncoder\n",
    "from sklearn.preprocessing import OneHotEncoder\n",
    "from sklearn.model_selection import train_test_split\n",
    "from sklearn.metrics import roc_auc_score\n",
    "from sklearn.metrics import roc_curve, auc\n",
    "from sklearn.preprocessing import MinMaxScaler\n",
    "from sklearn.model_selection import KFold\n",
    "from sklearn.linear_model import LogisticRegressionCV\n",
    "from sklearn.grid_search import RandomizedSearchCV, GridSearchCV\n",
    "from sklearn.cross_validation import cross_val_predict, permutation_test_score, StratifiedKFold\n",
    "# from sklearn.model_selection import StratifiedKFold\n",
    "\n",
    "from sklearn.neighbors import KNeighborsClassifier\n",
    "from sklearn.tree import DecisionTreeClassifier\n",
    "from sklearn.svm import SVC\n",
    "from sklearn.naive_bayes import GaussianNB\n",
    "from sklearn.linear_model import LogisticRegression\n",
    "from sklearn.ensemble import (RandomForestClassifier, AdaBoostClassifier,\n",
    "                              GradientBoostingClassifier, ExtraTreesClassifier)\n",
    "import xgboost as xgb"
   ]
  },
  {
   "cell_type": "code",
   "execution_count": 27,
   "metadata": {},
   "outputs": [],
   "source": [
    "def preprocess(file):\n",
    "    df = pd.read_csv(file)\n",
    "    df['AvgDon'] = (df['Months since First Donation'] - df['Months since Last Donation'])/df['Number of Donations']\n",
    "    df['MonthRatio'] = df['Months since Last Donation']/df['Months since First Donation']\n",
    "    df.drop(['Total Volume Donated (c.c.)','Unnamed: 0'],axis=1,inplace=True)\n",
    "    return df\n",
    "train = preprocess('train.csv')\n",
    "test = preprocess('test.csv')"
   ]
  },
  {
   "cell_type": "code",
   "execution_count": 100,
   "metadata": {},
   "outputs": [
    {
     "data": {
      "text/html": [
       "<div>\n",
       "<style scoped>\n",
       "    .dataframe tbody tr th:only-of-type {\n",
       "        vertical-align: middle;\n",
       "    }\n",
       "\n",
       "    .dataframe tbody tr th {\n",
       "        vertical-align: top;\n",
       "    }\n",
       "\n",
       "    .dataframe thead th {\n",
       "        text-align: right;\n",
       "    }\n",
       "</style>\n",
       "<table border=\"1\" class=\"dataframe\">\n",
       "  <thead>\n",
       "    <tr style=\"text-align: right;\">\n",
       "      <th></th>\n",
       "      <th>Months since Last Donation</th>\n",
       "      <th>Number of Donations</th>\n",
       "      <th>Months since First Donation</th>\n",
       "      <th>Made Donation in March 2007</th>\n",
       "      <th>AvgDon</th>\n",
       "      <th>MonthRatio</th>\n",
       "    </tr>\n",
       "  </thead>\n",
       "  <tbody>\n",
       "    <tr>\n",
       "      <th>0</th>\n",
       "      <td>2</td>\n",
       "      <td>50</td>\n",
       "      <td>98</td>\n",
       "      <td>1</td>\n",
       "      <td>1.920000</td>\n",
       "      <td>0.020408</td>\n",
       "    </tr>\n",
       "    <tr>\n",
       "      <th>1</th>\n",
       "      <td>0</td>\n",
       "      <td>13</td>\n",
       "      <td>28</td>\n",
       "      <td>1</td>\n",
       "      <td>2.153846</td>\n",
       "      <td>0.000000</td>\n",
       "    </tr>\n",
       "    <tr>\n",
       "      <th>2</th>\n",
       "      <td>1</td>\n",
       "      <td>16</td>\n",
       "      <td>35</td>\n",
       "      <td>1</td>\n",
       "      <td>2.125000</td>\n",
       "      <td>0.028571</td>\n",
       "    </tr>\n",
       "  </tbody>\n",
       "</table>\n",
       "</div>"
      ],
      "text/plain": [
       "   Months since Last Donation  Number of Donations  \\\n",
       "0                           2                   50   \n",
       "1                           0                   13   \n",
       "2                           1                   16   \n",
       "\n",
       "   Months since First Donation  Made Donation in March 2007    AvgDon  \\\n",
       "0                           98                            1  1.920000   \n",
       "1                           28                            1  2.153846   \n",
       "2                           35                            1  2.125000   \n",
       "\n",
       "   MonthRatio  \n",
       "0    0.020408  \n",
       "1    0.000000  \n",
       "2    0.028571  "
      ]
     },
     "execution_count": 100,
     "metadata": {},
     "output_type": "execute_result"
    }
   ],
   "source": [
    "train.head(3)"
   ]
  },
  {
   "cell_type": "code",
   "execution_count": 29,
   "metadata": {},
   "outputs": [
    {
     "name": "stdout",
     "output_type": "stream",
     "text": [
      "<class 'pandas.core.frame.DataFrame'>\n",
      "RangeIndex: 576 entries, 0 to 575\n",
      "Data columns (total 6 columns):\n",
      "Months since Last Donation     576 non-null int64\n",
      "Number of Donations            576 non-null int64\n",
      "Months since First Donation    576 non-null int64\n",
      "Made Donation in March 2007    576 non-null int64\n",
      "AvgDon                         576 non-null float64\n",
      "MonthRatio                     576 non-null float64\n",
      "dtypes: float64(2), int64(4)\n",
      "memory usage: 27.1 KB\n"
     ]
    }
   ],
   "source": [
    "train.info()"
   ]
  },
  {
   "cell_type": "code",
   "execution_count": 30,
   "metadata": {},
   "outputs": [
    {
     "data": {
      "text/html": [
       "<div>\n",
       "<style scoped>\n",
       "    .dataframe tbody tr th:only-of-type {\n",
       "        vertical-align: middle;\n",
       "    }\n",
       "\n",
       "    .dataframe tbody tr th {\n",
       "        vertical-align: top;\n",
       "    }\n",
       "\n",
       "    .dataframe thead th {\n",
       "        text-align: right;\n",
       "    }\n",
       "</style>\n",
       "<table border=\"1\" class=\"dataframe\">\n",
       "  <thead>\n",
       "    <tr style=\"text-align: right;\">\n",
       "      <th></th>\n",
       "      <th>Months since Last Donation</th>\n",
       "      <th>Number of Donations</th>\n",
       "      <th>Months since First Donation</th>\n",
       "      <th>AvgDon</th>\n",
       "      <th>MonthRatio</th>\n",
       "    </tr>\n",
       "  </thead>\n",
       "  <tbody>\n",
       "    <tr>\n",
       "      <th>0</th>\n",
       "      <td>2</td>\n",
       "      <td>12</td>\n",
       "      <td>52</td>\n",
       "      <td>4.166667</td>\n",
       "      <td>0.038462</td>\n",
       "    </tr>\n",
       "    <tr>\n",
       "      <th>1</th>\n",
       "      <td>21</td>\n",
       "      <td>7</td>\n",
       "      <td>38</td>\n",
       "      <td>2.428571</td>\n",
       "      <td>0.552632</td>\n",
       "    </tr>\n",
       "    <tr>\n",
       "      <th>2</th>\n",
       "      <td>4</td>\n",
       "      <td>1</td>\n",
       "      <td>4</td>\n",
       "      <td>0.000000</td>\n",
       "      <td>1.000000</td>\n",
       "    </tr>\n",
       "  </tbody>\n",
       "</table>\n",
       "</div>"
      ],
      "text/plain": [
       "   Months since Last Donation  Number of Donations  \\\n",
       "0                           2                   12   \n",
       "1                          21                    7   \n",
       "2                           4                    1   \n",
       "\n",
       "   Months since First Donation    AvgDon  MonthRatio  \n",
       "0                           52  4.166667    0.038462  \n",
       "1                           38  2.428571    0.552632  \n",
       "2                            4  0.000000    1.000000  "
      ]
     },
     "execution_count": 30,
     "metadata": {},
     "output_type": "execute_result"
    }
   ],
   "source": [
    "test.head(3)"
   ]
  },
  {
   "cell_type": "code",
   "execution_count": 31,
   "metadata": {},
   "outputs": [
    {
     "name": "stdout",
     "output_type": "stream",
     "text": [
      "<class 'pandas.core.frame.DataFrame'>\n",
      "RangeIndex: 200 entries, 0 to 199\n",
      "Data columns (total 5 columns):\n",
      "Months since Last Donation     200 non-null int64\n",
      "Number of Donations            200 non-null int64\n",
      "Months since First Donation    200 non-null int64\n",
      "AvgDon                         200 non-null float64\n",
      "MonthRatio                     200 non-null float64\n",
      "dtypes: float64(2), int64(3)\n",
      "memory usage: 7.9 KB\n"
     ]
    }
   ],
   "source": [
    "test.info()"
   ]
  },
  {
   "cell_type": "code",
   "execution_count": 32,
   "metadata": {},
   "outputs": [
    {
     "data": {
      "image/png": "[encoded data removed]",
      "text/plain": [
       "<Figure size 432x432 with 2 Axes>"
      ]
     },
     "metadata": {},
     "output_type": "display_data"
    }
   ],
   "source": [
    "plt.figure(figsize=(6,6))\n",
    "plt.title('Pearson Correlation of Features', y=1.05, size=15)\n",
    "g = sns.heatmap(train.astype(float).corr(),linewidths=0,square=True,annot=True,cmap=\"YlGnBu\")\n",
    "plt.show()"
   ]
  },
  {
   "cell_type": "code",
   "execution_count": 126,
   "metadata": {},
   "outputs": [
    {
     "data": {
      "text/plain": [
       "<matplotlib.axes._subplots.AxesSubplot at 0x7f232ca22588>"
      ]
     },
     "execution_count": 126,
     "metadata": {},
     "output_type": "execute_result"
    },
    {
     "data": {
      "image/png": "[encoded data removed]",
      "text/plain": [
       "<Figure size 432x288 with 1 Axes>"
      ]
     },
     "metadata": {},
     "output_type": "display_data"
    }
   ],
   "source": [
    "# Outliers are outside [Q3 + 1.5*IQR , Q1 - 1.5*IQR] Where IQR(Inter Quartile Range) = Q3 - Q1\n",
    "# Q2 is median of whole data where as Q1 is median of minimum value and data upto median and similarly for Q3\n",
    "\n",
    "# So, use this to remove outliers or use the abs(x.mean() - x) <= k*x.std()\n",
    "# df = pd.DataFrame({'Data':np.random.normal(size=200)})\n",
    "# example dataset of normally distributed data. \n",
    "# df[np.abs(df.Data-df.Data.mean()) <= (3*df.Data.std())]\n",
    "# keep only the ones that are within +3 to -3 standard deviations in the column 'Data'.\n",
    "# df[~(np.abs(df.Data-df.Data.mean()) > (3*df.Data.std()))]\n",
    "# or if you prefer the other way around\n",
    "# If you have multiple columns in your dataframe and would like to remove all rows that\n",
    "# have outliers in at least one column, the following expression would do that in one shot.\n",
    "# from scipy import stats\n",
    "# df[(np.abs(stats.zscore(df)) < 3).all(axis=1)]\n",
    "sns.boxplot(x=train['Months since Last Donation'])"
   ]
  },
  {
   "cell_type": "code",
   "execution_count": 134,
   "metadata": {},
   "outputs": [
    {
     "data": {
      "text/plain": [
       "<matplotlib.axes._subplots.AxesSubplot at 0x7f2311cf3828>"
      ]
     },
     "execution_count": 134,
     "metadata": {},
     "output_type": "execute_result"
    },
    {
     "data": {
      "image/png": "[encoded data removed]",
      "text/plain": [
       "<Figure size 432x288 with 1 Axes>"
      ]
     },
     "metadata": {},
     "output_type": "display_data"
    }
   ],
   "source": [
    "sns.violinplot(data=train[['Months since First Donation','Months since Last Donation']])"
   ]
  },
  {
   "cell_type": "code",
   "execution_count": 33,
   "metadata": {},
   "outputs": [
    {
     "data": {
      "image/png": "[encoded data removed]",
      "text/plain": [
       "<Figure size 720x864 with 6 Axes>"
      ]
     },
     "metadata": {},
     "output_type": "display_data"
    }
   ],
   "source": [
    "# https://pair-code.github.io/facets/\n",
    "fig, ((ax1, ax2),(ax3, ax4),(ax5,ax6)) = plt.subplots(3,2, sharex=True,figsize=(10,12))\n",
    "axs = [ax1,ax2,ax3,ax4,ax5,ax6]\n",
    "\n",
    "for n in range(0,len(axs)):\n",
    "    axs[n].hist(train.iloc[:,n])\n",
    "    axs[n].set_title(train.columns[n])\n",
    "    axs[n].tick_params(top='off', bottom='off', left='on', right='off', labelleft='on', labelbottom='on')"
   ]
  },
  {
   "cell_type": "code",
   "execution_count": 34,
   "metadata": {},
   "outputs": [],
   "source": [
    "y = train['Made Donation in March 2007']\n",
    "X = train.drop(['Made Donation in March 2007'],axis=1)\n",
    "\n",
    "X_train, X_test, y_train, y_test = train_test_split(X, y)\n",
    "scaler = MinMaxScaler()\n",
    "X_train = scaler.fit_transform(X_train)\n",
    "X_test = scaler.transform(X_test)\n",
    "test_trans = scaler.transform(test)"
   ]
  },
  {
   "cell_type": "code",
   "execution_count": 35,
   "metadata": {},
   "outputs": [],
   "source": [
    "classifiers = [\n",
    "    KNeighborsClassifier,\n",
    "    SVC,\n",
    "    RandomForestClassifier,\n",
    "    AdaBoostClassifier,\n",
    "    GradientBoostingClassifier,\n",
    "    GaussianNB,\n",
    "    ExtraTreesClassifier,\n",
    "    LogisticRegression,\n",
    "]"
   ]
  },
  {
   "cell_type": "code",
   "execution_count": 36,
   "metadata": {},
   "outputs": [],
   "source": [
    "# AdaBoost parameters\n",
    "ada_params = {\n",
    "    'n_estimators': 500, \n",
    "    'learning_rate': 0.75\n",
    "}\n",
    "# Gradient Boosting parameters\n",
    "gb_params = {\n",
    "    'n_estimators': 500,\n",
    "    'max_features': 4,\n",
    "    'max_depth': 5,\n",
    "    'min_samples_leaf': 3,\n",
    "    'verbose': 0,\n",
    "    'learning_rate': 0.1,\n",
    "    'min_samples_split': 30,\n",
    "    'subsample': 0.8\n",
    "}\n",
    "# Random Forest parameters\n",
    "rf_params = {\n",
    "    'n_jobs': -1,\n",
    "    'n_estimators': 500,\n",
    "    'warm_start': True,\n",
    "    #'max_features': 0.2,\n",
    "    'max_depth': 6,\n",
    "    'min_samples_leaf': 2,\n",
    "    'max_features': 'sqrt',\n",
    "    'verbose': 0\n",
    "}\n",
    "# Extra Trees Parameters\n",
    "et_params = {\n",
    "    'n_jobs': -1,\n",
    "    'n_estimators': 500,\n",
    "    #'max_features': 0.5,\n",
    "    'max_depth': 8,\n",
    "    'min_samples_leaf': 2,\n",
    "    'verbose': 0\n",
    "}\n",
    "# Scalabe Vector Machine Parameters\n",
    "svm_params = {\n",
    "    'kernel': 'rbf', \n",
    "    'gamma': 1, \n",
    "    'C': 1, \n",
    "    'degree': 2\n",
    "}\n",
    "# K-Neighbors Parameters\n",
    "kn_params = {\n",
    "    'algorithm': 'auto',\n",
    "    'leaf_size': 10,\n",
    "    'weights': 'distance',\n",
    "    'n_neighbors': 5,\n",
    "    'p': 2\n",
    "}\n",
    "# Naive-Bayes Parameters\n",
    "gnb_params = {\n",
    "    \n",
    "}\n",
    "# Logistic Regression Parameters\n",
    "lr_params = {\n",
    "    \n",
    "}\n",
    "\n",
    "classifier_params = [kn_params, svm_params, rf_params, ada_params, gb_params, gnb_params, et_params, lr_params]"
   ]
  },
  {
   "cell_type": "code",
   "execution_count": 37,
   "metadata": {},
   "outputs": [
    {
     "name": "stdout",
     "output_type": "stream",
     "text": [
      "<class 'sklearn.neighbors.classification.KNeighborsClassifier'>\n",
      "Test Scores (accuracy):  0.7222222222222222\n",
      "Train Scores (accuracy):  0.8541666666666666\n",
      "ROC-AOC Socres:  0.591941391941392\n",
      "\n",
      "\n",
      "<class 'sklearn.svm.classes.SVC'>\n",
      "Test Scores (accuracy):  0.7291666666666666\n",
      "Train Scores (accuracy):  0.7708333333333334\n",
      "ROC-AOC Socres:  0.5\n",
      "\n",
      "\n",
      "<class 'sklearn.ensemble.forest.RandomForestClassifier'>\n",
      "Test Scores (accuracy):  0.7291666666666666\n",
      "Train Scores (accuracy):  0.9189814814814815\n",
      "ROC-AOC Socres:  0.5886446886446886\n",
      "\n",
      "\n",
      "<class 'sklearn.ensemble.weight_boosting.AdaBoostClassifier'>\n",
      "Test Scores (accuracy):  0.75\n",
      "Train Scores (accuracy):  0.8472222222222222\n",
      "ROC-AOC Socres:  0.6029304029304029\n",
      "\n",
      "\n",
      "<class 'sklearn.ensemble.gradient_boosting.GradientBoostingClassifier'>\n",
      "Test Scores (accuracy):  0.7152777777777778\n",
      "Train Scores (accuracy):  0.9097222222222222\n",
      "ROC-AOC Socres:  0.563003663003663\n",
      "\n",
      "\n",
      "<class 'sklearn.naive_bayes.GaussianNB'>\n",
      "Test Scores (accuracy):  0.7569444444444444\n",
      "Train Scores (accuracy):  0.7685185185185185\n",
      "ROC-AOC Socres:  0.6963369963369963\n",
      "\n",
      "\n",
      "<class 'sklearn.ensemble.forest.ExtraTreesClassifier'>\n",
      "Test Scores (accuracy):  0.6944444444444444\n",
      "Train Scores (accuracy):  0.9467592592592593\n",
      "ROC-AOC Socres:  0.5567765567765569\n",
      "\n",
      "\n",
      "<class 'sklearn.linear_model.logistic.LogisticRegression'>\n",
      "Test Scores (accuracy):  0.7222222222222222\n",
      "Train Scores (accuracy):  0.7777777777777778\n",
      "ROC-AOC Socres:  0.49523809523809526\n",
      "\n",
      "\n"
     ]
    }
   ],
   "source": [
    "for i,(classifier,params) in enumerate(zip(classifiers,classifier_params)):\n",
    "    clf = classifier().fit(X_train,y_train)\n",
    "    y_predict = clf.predict(X_test)\n",
    "    print(classifier)\n",
    "    print('Test Scores (accuracy): ',clf.score(X_test,y_test))\n",
    "    print('Train Scores (accuracy): ',clf.score(X_train,y_train))\n",
    "    print('ROC-AOC Socres: ',roc_auc_score(y_test,y_predict))\n",
    "    print('\\n')    "
   ]
  },
  {
   "cell_type": "code",
   "execution_count": 77,
   "metadata": {},
   "outputs": [
    {
     "name": "stdout",
     "output_type": "stream",
     "text": [
      "Checking whether there is an H2O instance running at http://localhost:54321. connected.\n"
     ]
    },
    {
     "data": {
      "text/html": [
       "<div style=\"overflow:auto\"><table style=\"width:50%\"><tr><td>H2O cluster uptime:</td>\n",
       "<td>6 hours 0 mins</td></tr>\n",
       "<tr><td>H2O cluster timezone:</td>\n",
       "<td>Asia/Kolkata</td></tr>\n",
       "<tr><td>H2O data parsing timezone:</td>\n",
       "<td>UTC</td></tr>\n",
       "<tr><td>H2O cluster version:</td>\n",
       "<td>3.22.0.2</td></tr>\n",
       "<tr><td>H2O cluster version age:</td>\n",
       "<td>1 month and 2 days </td></tr>\n",
       "<tr><td>H2O cluster name:</td>\n",
       "<td>H2O_from_python_kartikey_t2f4xv</td></tr>\n",
       "<tr><td>H2O cluster total nodes:</td>\n",
       "<td>1</td></tr>\n",
       "<tr><td>H2O cluster free memory:</td>\n",
       "<td>2.874 Gb</td></tr>\n",
       "<tr><td>H2O cluster total cores:</td>\n",
       "<td>8</td></tr>\n",
       "<tr><td>H2O cluster allowed cores:</td>\n",
       "<td>8</td></tr>\n",
       "<tr><td>H2O cluster status:</td>\n",
       "<td>locked, healthy</td></tr>\n",
       "<tr><td>H2O connection url:</td>\n",
       "<td>http://localhost:54321</td></tr>\n",
       "<tr><td>H2O connection proxy:</td>\n",
       "<td>None</td></tr>\n",
       "<tr><td>H2O internal security:</td>\n",
       "<td>False</td></tr>\n",
       "<tr><td>H2O API Extensions:</td>\n",
       "<td>XGBoost, Algos, AutoML, Core V3, Core V4</td></tr>\n",
       "<tr><td>Python version:</td>\n",
       "<td>3.6.5 final</td></tr></table></div>"
      ],
      "text/plain": [
       "--------------------------  ----------------------------------------\n",
       "H2O cluster uptime:         6 hours 0 mins\n",
       "H2O cluster timezone:       Asia/Kolkata\n",
       "H2O data parsing timezone:  UTC\n",
       "H2O cluster version:        3.22.0.2\n",
       "H2O cluster version age:    1 month and 2 days\n",
       "H2O cluster name:           H2O_from_python_kartikey_t2f4xv\n",
       "H2O cluster total nodes:    1\n",
       "H2O cluster free memory:    2.874 Gb\n",
       "H2O cluster total cores:    8\n",
       "H2O cluster allowed cores:  8\n",
       "H2O cluster status:         locked, healthy\n",
       "H2O connection url:         http://localhost:54321\n",
       "H2O connection proxy:\n",
       "H2O internal security:      False\n",
       "H2O API Extensions:         XGBoost, Algos, AutoML, Core V3, Core V4\n",
       "Python version:             3.6.5 final\n",
       "--------------------------  ----------------------------------------"
      ]
     },
     "metadata": {},
     "output_type": "display_data"
    }
   ],
   "source": [
    "import h2o\n",
    "from h2o.automl import H2OAutoML\n",
    "h2o.init()"
   ]
  },
  {
   "cell_type": "code",
   "execution_count": 105,
   "metadata": {},
   "outputs": [
    {
     "data": {
      "text/html": [
       "<div>\n",
       "<style scoped>\n",
       "    .dataframe tbody tr th:only-of-type {\n",
       "        vertical-align: middle;\n",
       "    }\n",
       "\n",
       "    .dataframe tbody tr th {\n",
       "        vertical-align: top;\n",
       "    }\n",
       "\n",
       "    .dataframe thead th {\n",
       "        text-align: right;\n",
       "    }\n",
       "</style>\n",
       "<table border=\"1\" class=\"dataframe\">\n",
       "  <thead>\n",
       "    <tr style=\"text-align: right;\">\n",
       "      <th></th>\n",
       "      <th>Months since Last Donation</th>\n",
       "      <th>Number of Donations</th>\n",
       "      <th>Months since First Donation</th>\n",
       "      <th>AvgDon</th>\n",
       "      <th>MonthRatio</th>\n",
       "      <th>Made Donation in March 2007</th>\n",
       "    </tr>\n",
       "  </thead>\n",
       "  <tbody>\n",
       "    <tr>\n",
       "      <th>187</th>\n",
       "      <td>8</td>\n",
       "      <td>8</td>\n",
       "      <td>52</td>\n",
       "      <td>5.50</td>\n",
       "      <td>0.153846</td>\n",
       "      <td>1</td>\n",
       "    </tr>\n",
       "    <tr>\n",
       "      <th>425</th>\n",
       "      <td>2</td>\n",
       "      <td>4</td>\n",
       "      <td>23</td>\n",
       "      <td>5.25</td>\n",
       "      <td>0.086957</td>\n",
       "      <td>0</td>\n",
       "    </tr>\n",
       "    <tr>\n",
       "      <th>422</th>\n",
       "      <td>4</td>\n",
       "      <td>4</td>\n",
       "      <td>16</td>\n",
       "      <td>3.00</td>\n",
       "      <td>0.250000</td>\n",
       "      <td>0</td>\n",
       "    </tr>\n",
       "  </tbody>\n",
       "</table>\n",
       "</div>"
      ],
      "text/plain": [
       "     Months since Last Donation  Number of Donations  \\\n",
       "187                           8                    8   \n",
       "425                           2                    4   \n",
       "422                           4                    4   \n",
       "\n",
       "     Months since First Donation  AvgDon  MonthRatio  \\\n",
       "187                           52    5.50    0.153846   \n",
       "425                           23    5.25    0.086957   \n",
       "422                           16    3.00    0.250000   \n",
       "\n",
       "     Made Donation in March 2007  \n",
       "187                            1  \n",
       "425                            0  \n",
       "422                            0  "
      ]
     },
     "execution_count": 105,
     "metadata": {},
     "output_type": "execute_result"
    }
   ],
   "source": [
    "y = train['Made Donation in March 2007']\n",
    "X = train.drop(['Made Donation in March 2007'],axis=1)\n",
    "\n",
    "X_train, X_test, y_train, y_test = train_test_split(X,y,random_state=1)\n",
    "# scaler = MinMaxScaler()\n",
    "# X_train = scaler.fit_transform(X_train)\n",
    "# X_test = scaler.transform(X_test)\n",
    "# test_trans = scaler.transform(test)\n",
    "# X_train\n",
    "train_f = pd.DataFrame(X_train,columns=X.columns)\n",
    "train_f['Made Donation in March 2007'] = y_train\n",
    "test_f  = pd.DataFrame(X_test,columns=X.columns)\n",
    "test_f['Made Donation in March 2007'] = y_test\n",
    "train_f.head(3)\n",
    "# test_f.head(3)"
   ]
  },
  {
   "cell_type": "code",
   "execution_count": 119,
   "metadata": {},
   "outputs": [
    {
     "name": "stdout",
     "output_type": "stream",
     "text": [
      "Parse progress: |█████████████████████████████████████████████████████████| 100%\n",
      "Parse progress: |█████████████████████████████████████████████████████████| 100%\n"
     ]
    }
   ],
   "source": [
    "htrain = h2o.H2OFrame(train)\n",
    "htest = h2o.H2OFrame(test)\n",
    "# htest_final = h2o.H2OFrame(test)\n",
    "x = htrain.columns\n",
    "y = 'Made Donation in March 2007'\n",
    "x.remove(y)\n",
    "# This line is added in the case of classification\n",
    "htrain[y] = htrain[y].asfactor()\n",
    "# htest[y] = htest[y].asfactor()"
   ]
  },
  {
   "cell_type": "code",
   "execution_count": 120,
   "metadata": {},
   "outputs": [
    {
     "name": "stdout",
     "output_type": "stream",
     "text": [
      "AutoML progress: |████████████████████████████████████████████████████████| 100%\n"
     ]
    },
    {
     "data": {
      "text/html": [
       "<table>\n",
       "<thead>\n",
       "<tr><th>model_id                                           </th><th style=\"text-align: right;\">     auc</th><th style=\"text-align: right;\">  logloss</th><th style=\"text-align: right;\">  mean_per_class_error</th><th style=\"text-align: right;\">    rmse</th><th style=\"text-align: right;\">     mse</th></tr>\n",
       "</thead>\n",
       "<tbody>\n",
       "<tr><td>DeepLearning_1_AutoML_20181224_193029              </td><td style=\"text-align: right;\">0.743711</td><td style=\"text-align: right;\"> 0.485074</td><td style=\"text-align: right;\">              0.277476</td><td style=\"text-align: right;\">0.393168</td><td style=\"text-align: right;\">0.154581</td></tr>\n",
       "<tr><td>GLM_grid_1_AutoML_20181224_193029_model_1          </td><td style=\"text-align: right;\">0.741983</td><td style=\"text-align: right;\"> 0.484921</td><td style=\"text-align: right;\">              0.295198</td><td style=\"text-align: right;\">0.394668</td><td style=\"text-align: right;\">0.155763</td></tr>\n",
       "<tr><td>DeepLearning_grid_1_AutoML_20181224_193029_model_1 </td><td style=\"text-align: right;\">0.740958</td><td style=\"text-align: right;\"> 0.509769</td><td style=\"text-align: right;\">              0.301085</td><td style=\"text-align: right;\">0.401148</td><td style=\"text-align: right;\">0.16092 </td></tr>\n",
       "<tr><td>StackedEnsemble_BestOfFamily_AutoML_20181224_193029</td><td style=\"text-align: right;\">0.73688 </td><td style=\"text-align: right;\"> 0.486588</td><td style=\"text-align: right;\">              0.298001</td><td style=\"text-align: right;\">0.39713 </td><td style=\"text-align: right;\">0.157712</td></tr>\n",
       "<tr><td>DeepLearning_grid_1_AutoML_20181224_193029_model_5 </td><td style=\"text-align: right;\">0.736357</td><td style=\"text-align: right;\"> 0.521408</td><td style=\"text-align: right;\">              0.301045</td><td style=\"text-align: right;\">0.398696</td><td style=\"text-align: right;\">0.158959</td></tr>\n",
       "<tr><td>DeepLearning_grid_1_AutoML_20181224_193029_model_8 </td><td style=\"text-align: right;\">0.735996</td><td style=\"text-align: right;\"> 0.519982</td><td style=\"text-align: right;\">              0.28271 </td><td style=\"text-align: right;\">0.396095</td><td style=\"text-align: right;\">0.156892</td></tr>\n",
       "<tr><td>XGBoost_3_AutoML_20181224_193029                   </td><td style=\"text-align: right;\">0.731354</td><td style=\"text-align: right;\"> 0.491141</td><td style=\"text-align: right;\">              0.2914  </td><td style=\"text-align: right;\">0.398528</td><td style=\"text-align: right;\">0.158824</td></tr>\n",
       "<tr><td>GBM_5_AutoML_20181224_193029                       </td><td style=\"text-align: right;\">0.731143</td><td style=\"text-align: right;\"> 0.490989</td><td style=\"text-align: right;\">              0.30652 </td><td style=\"text-align: right;\">0.399391</td><td style=\"text-align: right;\">0.159513</td></tr>\n",
       "<tr><td>XGBoost_grid_1_AutoML_20181224_193029_model_5      </td><td style=\"text-align: right;\">0.729817</td><td style=\"text-align: right;\"> 0.488981</td><td style=\"text-align: right;\">              0.310759</td><td style=\"text-align: right;\">0.397595</td><td style=\"text-align: right;\">0.158082</td></tr>\n",
       "<tr><td>DeepLearning_grid_1_AutoML_20181224_193029_model_6 </td><td style=\"text-align: right;\">0.727496</td><td style=\"text-align: right;\"> 0.50048 </td><td style=\"text-align: right;\">              0.313261</td><td style=\"text-align: right;\">0.403798</td><td style=\"text-align: right;\">0.163053</td></tr>\n",
       "</tbody>\n",
       "</table>"
      ]
     },
     "metadata": {},
     "output_type": "display_data"
    },
    {
     "name": "stdout",
     "output_type": "stream",
     "text": [
      "\n",
      "Done processing ....\n"
     ]
    }
   ],
   "source": [
    "aml = H2OAutoML(max_runtime_secs=2000)\n",
    "aml.train(x=x, y=y, training_frame=htrain)\n",
    "lb = aml.leaderboard\n",
    "print(lb)\n",
    "print('Done processing ....')"
   ]
  },
  {
   "cell_type": "code",
   "execution_count": 121,
   "metadata": {},
   "outputs": [
    {
     "name": "stdout",
     "output_type": "stream",
     "text": [
      "Generate predictions…\n",
      "deeplearning prediction progress: |███████████████████████████████████████| 100%\n"
     ]
    },
    {
     "data": {
      "text/html": [
       "<div>\n",
       "<style scoped>\n",
       "    .dataframe tbody tr th:only-of-type {\n",
       "        vertical-align: middle;\n",
       "    }\n",
       "\n",
       "    .dataframe tbody tr th {\n",
       "        vertical-align: top;\n",
       "    }\n",
       "\n",
       "    .dataframe thead th {\n",
       "        text-align: right;\n",
       "    }\n",
       "</style>\n",
       "<table border=\"1\" class=\"dataframe\">\n",
       "  <thead>\n",
       "    <tr style=\"text-align: right;\">\n",
       "      <th></th>\n",
       "      <th>predict</th>\n",
       "      <th>p0</th>\n",
       "      <th>p1</th>\n",
       "    </tr>\n",
       "  </thead>\n",
       "  <tbody>\n",
       "    <tr>\n",
       "      <th>0</th>\n",
       "      <td>1</td>\n",
       "      <td>0.487108</td>\n",
       "      <td>0.512892</td>\n",
       "    </tr>\n",
       "    <tr>\n",
       "      <th>1</th>\n",
       "      <td>0</td>\n",
       "      <td>0.940408</td>\n",
       "      <td>0.059592</td>\n",
       "    </tr>\n",
       "    <tr>\n",
       "      <th>2</th>\n",
       "      <td>0</td>\n",
       "      <td>0.883728</td>\n",
       "      <td>0.116272</td>\n",
       "    </tr>\n",
       "  </tbody>\n",
       "</table>\n",
       "</div>"
      ],
      "text/plain": [
       "   predict        p0        p1\n",
       "0        1  0.487108  0.512892\n",
       "1        0  0.940408  0.059592\n",
       "2        0  0.883728  0.116272"
      ]
     },
     "execution_count": 121,
     "metadata": {},
     "output_type": "execute_result"
    }
   ],
   "source": [
    "print('Generate predictions…')\n",
    "test_y = aml.leader.predict(htest)\n",
    "test_y = test_y.as_data_frame()\n",
    "test_y.head(3)"
   ]
  },
  {
   "cell_type": "code",
   "execution_count": 122,
   "metadata": {},
   "outputs": [],
   "source": [
    "test_unnamed = pd.read_csv('test.csv')\n",
    "Submission = pd.DataFrame({\n",
    "    '': test_unnamed['Unnamed: 0'],\n",
    "    'Made Donation in March 2007': test_y['p1']\n",
    "})\n",
    "Submission.to_csv(\"Submission_2_better.csv\", index=False)"
   ]
  },
  {
   "cell_type": "code",
   "execution_count": 43,
   "metadata": {},
   "outputs": [
    {
     "name": "stdout",
     "output_type": "stream",
     "text": [
      "0.8865740740740741\n",
      "0.7291666666666666\n"
     ]
    }
   ],
   "source": [
    "# XGB BOOST\n",
    "gbm = xgb.XGBClassifier(\n",
    "    learning_rate = 0.02,\n",
    "    n_estimators=2000,\n",
    "    max_depth=10,\n",
    "    min_child_weight=1,\n",
    "    gamma=1.2,\n",
    "    subsample=1,\n",
    "    nthread=-1,\n",
    "    scale_pos_weight=1).fit(X_train, y_train)\n",
    "y_pred = gbm.predict(X_test)\n",
    "print(gbm.score(X_train,y_train))\n",
    "print(gbm.score(X_test,y_test))\n",
    "test_trans = scaler.transform(test)\n",
    "pred = gbm.predict_proba(test_trans)"
   ]
  },
  {
   "cell_type": "code",
   "execution_count": 44,
   "metadata": {},
   "outputs": [
    {
     "name": "stdout",
     "output_type": "stream",
     "text": [
      "0.9351851851851852\n",
      "0.7291666666666666\n"
     ]
    }
   ],
   "source": [
    "# Random Forest\n",
    "rf_params = {\n",
    "    'n_jobs': -1,\n",
    "    'n_estimators': 100,\n",
    "    'warm_start': True,\n",
    "    'max_depth': 8,\n",
    "#     'min_samples_leaf': 0.1,\n",
    "#     'min_samples_split':0.1,\n",
    "    'verbose': 0\n",
    "}\n",
    "clf = RandomForestClassifier(**rf_params).fit(X_train, y_train)\n",
    "y_pred = clf.predict(X_test)\n",
    "print(clf.score(X_train,y_train))\n",
    "print(clf.score(X_test,y_test))\n",
    "pred = clf.predict_proba(test_trans)"
   ]
  },
  {
   "cell_type": "code",
   "execution_count": 68,
   "metadata": {},
   "outputs": [
    {
     "name": "stdout",
     "output_type": "stream",
     "text": [
      "0.7685185185185185\n",
      "0.7569444444444444\n"
     ]
    }
   ],
   "source": [
    "clf = GaussianNB(**gnb_params).fit(X_train, y_train)\n",
    "y_pred = clf.predict(X_test)\n",
    "print(clf.score(X_train,y_train))\n",
    "print(clf.score(X_test,y_test))\n",
    "pred = clf.predict_proba(test_trans)"
   ]
  },
  {
   "cell_type": "code",
   "execution_count": 45,
   "metadata": {},
   "outputs": [
    {
     "name": "stdout",
     "output_type": "stream",
     "text": [
      "[False False  True  True  True]\n",
      "[3 2 1 1 1]\n"
     ]
    }
   ],
   "source": [
    "# Recursive Feature Elimination\n",
    "from sklearn.feature_selection import RFE\n",
    "# create the RFE model and select 3 attributes\n",
    "clf = RandomForestClassifier()\n",
    "rfe = RFE(clf, 3)\n",
    "rfe = rfe.fit(X_train, y_train)\n",
    "# summarize the selection of the attributes\n",
    "print(rfe.support_)\n",
    "print(rfe.ranking_)"
   ]
  },
  {
   "cell_type": "code",
   "execution_count": 21,
   "metadata": {},
   "outputs": [
    {
     "name": "stdout",
     "output_type": "stream",
     "text": [
      "[0.12237721 0.18051079 0.19409833 0.25753663 0.24547704]\n"
     ]
    },
    {
     "data": {
      "image/png": "[encoded data removed]",
      "text/plain": [
       "<Figure size 576x432 with 1 Axes>"
      ]
     },
     "metadata": {},
     "output_type": "display_data"
    }
   ],
   "source": [
    "# Feature Importance\n",
    "from sklearn import metrics\n",
    "from sklearn.ensemble import ExtraTreesClassifier\n",
    "model = RandomForestClassifier()\n",
    "model.fit(X_train, y_train)\n",
    "# display the relative importance of each attribute\n",
    "print(model.feature_importances_)\n",
    "plt.figure(figsize=(8,6))\n",
    "plt.plot(X.columns,model.feature_importances_,'rp',)\n",
    "plt.title('Feature Importance')\n",
    "# plt.xticks.set_rotation(45)\n",
    "for spine in plt.gca().spines.values():\n",
    "    spine.set_visible(False)\n",
    " \n",
    "x = plt.gca().xaxis\n",
    "for item in x.get_ticklabels():\n",
    "    item.set_rotation(10)"
   ]
  },
  {
   "cell_type": "code",
   "execution_count": 47,
   "metadata": {},
   "outputs": [],
   "source": [
    "# Don't run all params at once or it won't solve in adequate time\n",
    "# K-Neighbors\n",
    "\n",
    "# grid_values = {\n",
    "#     'weights':['uniform','distance'],\n",
    "#     'algorithm':['auto', 'ball_tree', 'kd_tree', 'brute'],\n",
    "#     'leaf_size':range(10,100,10)\n",
    "# }\n",
    "\n",
    "# Random Forest\n",
    "\n",
    "# grid_values = {\n",
    "#     'n_estimators':[16, 32, 64, 100, 200,500,1000],\n",
    "#     'max_depth':np.linspace(1, 32, 32),\n",
    "#     'min_samples_split':np.linspace(0.1, 1.0, 10, endpoint=True),\n",
    "#     'min_samples_leaf':np.linspace(0.1, 0.5, 5, endpoint=True),\n",
    "#     'max_features':list(range(1,X_train.shape[1]))\n",
    "# }\n",
    "\n",
    "# SVM\n",
    "\n",
    "# grid_values = {\n",
    "#     'kernel': ['linear', 'rbf', 'poly'],\n",
    "#     'gamma': [0.001, 0.1, 1, 10, 100],\n",
    "#     'C': [0.1, 1, 10, 100, 1000],\n",
    "#     'degree': [2, 3, 4, 5, 6]\n",
    "# }\n",
    "\n",
    "# clf = RandomForestClassifier()\n",
    "# grid_clf_acc = GridSearchCV(clf, param_grid = grid_values,n_jobs=-1,scoring='roc_auc')\n",
    "# grid_clf_acc.fit(X_train, y_train)\n",
    "# print('Grid best parameter (max. accuracy): ', grid_clf_acc.best_params_)\n",
    "# print('Grid best score (accuracy): ', grid_clf_acc.best_score_)\n",
    "# grid_clf_acc.grid_scores_, grid_clf_acc.best_params_, grid_clf_acc.best_score_"
   ]
  },
  {
   "cell_type": "code",
   "execution_count": 49,
   "metadata": {},
   "outputs": [
    {
     "data": {
      "image/png": "[encoded data removed]",
      "text/plain": [
       "<Figure size 432x288 with 1 Axes>"
      ]
     },
     "metadata": {},
     "output_type": "display_data"
    }
   ],
   "source": [
    "plt.figure()\n",
    "def aoc_plotter(clf,*args):\n",
    "    train_results = []\n",
    "    test_results = []\n",
    "    feature,list_to_plot = args\n",
    "    for estimator in list_to_plot:\n",
    "        param = {feature:estimator}\n",
    "        model = clf(**param)\n",
    "        model.fit(X_train, y_train)\n",
    "        train_pred = model.predict(X_train)\n",
    "        false_positive_rate, true_positive_rate, thresholds = roc_curve(y_train, train_pred)\n",
    "        roc_auc = auc(false_positive_rate, true_positive_rate)\n",
    "        train_results.append(roc_auc)\n",
    "        y_pred = model.predict(X_test)\n",
    "        false_positive_rate, true_positive_rate, thresholds = roc_curve(y_test, y_pred)\n",
    "        roc_auc = auc(false_positive_rate, true_positive_rate)\n",
    "        test_results.append(roc_auc)\n",
    "    plt.plot(list_to_plot, train_results, 'b', label='Train AUC')\n",
    "    plt.plot(list_to_plot, test_results, 'r', label='Test AUC')\n",
    "    plt.ylabel('AUC score')\n",
    "    plt.xlabel('Param')\n",
    "    plt.show()\n",
    "    return None\n",
    "aoc_plotter(RandomForestClassifier,'min_samples_leaf',np.linspace(0.1, 0.5, 5, endpoint=True))\n",
    "# plt.show()\n",
    "# grid_values = {\n",
    "#     'n_estimators':[16, 32, 64, 100, 200,500,1000],\n",
    "#     'max_depth':np.linspace(1, 32, 32),\n",
    "#     'min_samples_split':np.linspace(0.1, 1.0, 10, endpoint=True),\n",
    "#     'min_samples_leaf':np.linspace(0.1, 0.5, 5, endpoint=True),\n",
    "#     'max_features':list(range(1,X_train.shape[1]))\n",
    "# }\n"
   ]
  },
  {
   "cell_type": "code",
   "execution_count": 71,
   "metadata": {},
   "outputs": [
    {
     "name": "stdout",
     "output_type": "stream",
     "text": [
      "clf_params = {'fit_intercept': False, 'max_iter': 50, 'penalty': 'l2', 'solver': 'newton-cg'}\n",
      "score: 0.7824074074074074\n",
      "CPU times: user 1.14 s, sys: 206 ms, total: 1.34 s\n",
      "Wall time: 44.2 s\n"
     ]
    }
   ],
   "source": [
    "%%time\n",
    "SEED   = 97\n",
    "scale  = False \n",
    "minmax = False\n",
    "norm   = False\n",
    "nointercept = True\n",
    "engineering = True\n",
    "N_CLASSES = 2\n",
    "\n",
    "StatifiedCV = StratifiedKFold(y            = y_train, \n",
    "                              n_folds      = 10, \n",
    "                              shuffle      = True, \n",
    "                              random_state = SEED)\n",
    "random.seed(SEED)\n",
    "\n",
    "clf = LogisticRegressionCV(Cs                = 10, \n",
    "                           cv                = 10,\n",
    "                           \n",
    "                           fit_intercept     = True, \n",
    "                           penalty           = 'l2',\n",
    "                           solver            = 'liblinear', \n",
    "                           max_iter          = 100,\n",
    "                            \n",
    "                           dual              = False, \n",
    "                           scoring           = None, \n",
    "                           tol               = 0.0001, \n",
    "                           class_weight      = None, \n",
    "                           n_jobs            = -1, \n",
    "                           verbose           = 0, \n",
    "                           refit             = True, \n",
    "                           intercept_scaling = 1.0, \n",
    "                           multi_class       = 'ovr', \n",
    "                           random_state      = SEED,\n",
    "                          )\n",
    "\n",
    "\n",
    "param_grid = dict(fit_intercept = [True, False],\n",
    "                  penalty       = ['l2'],\n",
    "                  solver        = ['newton-cg', 'lbfgs', 'liblinear', 'sag'],\n",
    "                  max_iter      = [50, 100, 250])\n",
    "\n",
    "grid_clf = GridSearchCV(estimator  = clf, \n",
    "                        param_grid = param_grid,\n",
    "                        n_jobs     = -1,  \n",
    "                        cv         = StatifiedCV).fit(X_train, y_train)\n",
    "\n",
    "print(\"clf_params = {}\".format(grid_clf.best_params_))\n",
    "print(\"score: {}\".format(grid_clf.best_score_))\n",
    "\n",
    "clf = grid_clf.best_estimator_\n",
    "# clf_params = {'penalty': 'l2', 'max_iter': 50, 'fit_intercept': True}\n",
    "# clf.set_params(**clf_params)\n",
    "clf.fit(X_train, y_train)\n",
    "pred = clf.predict_proba(test_trans)"
   ]
  },
  {
   "cell_type": "code",
   "execution_count": 75,
   "metadata": {},
   "outputs": [
    {
     "name": "stdout",
     "output_type": "stream",
     "text": [
      "Test Scores (accuracy):  0.7430555555555556\n",
      "Train Scores (accuracy):  0.7824074074074074\n",
      "ROC-AOC Socres:  0.49523809523809526\n"
     ]
    }
   ],
   "source": [
    "print('Test Scores (accuracy): ',clf.score(X_test,y_test))\n",
    "print('Train Scores (accuracy): ',clf.score(X_train,y_train))\n",
    "print('ROC-AOC Socres: ',roc_auc_score(y_test,y_predict))"
   ]
  },
  {
   "cell_type": "code",
   "execution_count": 76,
   "metadata": {},
   "outputs": [],
   "source": [
    "test_unnamed = pd.read_csv('test.csv')\n",
    "Submission = pd.DataFrame({ '':test_unnamed['Unnamed: 0'] ,\n",
    "                            'Made Donation in March 2007': pred[:,1] })\n",
    "Submission.to_csv(\"Submission_1.csv\", index=False)"
   ]
  }
 ],
 "metadata": {
  "kernelspec": {
   "display_name": "Python 3",
   "language": "python",
   "name": "python3"
  },
  "language_info": {
   "codemirror_mode": {
    "name": "ipython",
    "version": 3
   },
   "file_extension": ".py",
   "mimetype": "text/x-python",
   "name": "python",
   "nbconvert_exporter": "python",
   "pygments_lexer": "ipython3",
   "version": "3.7.4"
  }
 },
 "nbformat": 4,
 "nbformat_minor": 2
}
