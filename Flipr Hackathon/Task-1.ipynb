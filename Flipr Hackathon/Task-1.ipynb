{
 "cells": [
  {
   "cell_type": "code",
   "execution_count": 1,
   "metadata": {},
   "outputs": [
    {
     "name": "stderr",
     "output_type": "stream",
     "text": [
      "Using TensorFlow backend.\n"
     ]
    }
   ],
   "source": [
    "%matplotlib inline\n",
    "import warnings\n",
    "import re as re\n",
    "import numpy as np\n",
    "import pandas as pd\n",
    "import seaborn as sns\n",
    "import xgboost as xgb\n",
    "import random, sys, os\n",
    "import matplotlib.pyplot as plt\n",
    "warnings.filterwarnings('ignore')\n",
    "\n",
    "from pandas_profiling import ProfileReport\n",
    "\n",
    "from sklearn.impute import SimpleImputer\n",
    "from sklearn.metrics import roc_auc_score, roc_curve, auc\n",
    "from sklearn.preprocessing import MinMaxScaler, LabelEncoder, OneHotEncoder\n",
    "from sklearn.model_selection import (train_test_split, RandomizedSearchCV, \n",
    "                                     GridSearchCV, KFold, cross_val_predict, \n",
    "                                     permutation_test_score, StratifiedKFold) \n",
    "\n",
    "from sklearn.svm import SVC\n",
    "from sklearn.naive_bayes import GaussianNB\n",
    "from sklearn.tree import DecisionTreeClassifier\n",
    "from sklearn.linear_model import LinearRegression\n",
    "from sklearn.neighbors import KNeighborsClassifier\n",
    "from sklearn.linear_model import LogisticRegressionCV, LogisticRegression\n",
    "from sklearn.ensemble import (RandomForestClassifier, AdaBoostClassifier,\n",
    "                              GradientBoostingClassifier, ExtraTreesClassifier)\n",
    "\n",
    "from keras.models import Sequential\n",
    "from keras.layers.core import Dense, Dropout\n",
    "from keras.callbacks import EarlyStopping\n",
    "from keras.wrappers.scikit_learn import KerasRegressor, KerasClassifier"
   ]
  },
  {
   "cell_type": "code",
   "execution_count": 2,
   "metadata": {},
   "outputs": [
    {
     "data": {
      "text/plain": [
       "Index(['Region', 'Gender', 'Married', 'Children', 'Occupation',\n",
       "       'Mode_transport', 'cases/1M', 'Deaths/1M', 'comorbidity', 'Age',\n",
       "       'Coma score', 'Pulmonary score', 'cardiological pressure', 'Diuresis',\n",
       "       'Platelets', 'HBB', 'd-dimer', 'Heart rate', 'HDL cholesterol',\n",
       "       'Charlson Index', 'Blood Glucose', 'Insurance', 'salary', 'FT/month'],\n",
       "      dtype='object')"
      ]
     },
     "execution_count": 2,
     "metadata": {},
     "output_type": "execute_result"
    }
   ],
   "source": [
    "# Loading Pickled DataFrames\n",
    "X_train = pd.read_pickle(\"Processed_Data/X_train.pkl\")\n",
    "X_test = pd.read_pickle(\"Processed_Data/X_test.pkl\")\n",
    "y_train = pd.read_pickle(\"Processed_Data/y_train.pkl\")\n",
    "y_test = pd.read_pickle(\"Processed_Data/y_test.pkl\")\n",
    "test = pd.read_pickle(\"Processed_Data/test.pkl\")\n",
    "X_train.columns"
   ]
  },
  {
   "cell_type": "code",
   "execution_count": 3,
   "metadata": {},
   "outputs": [],
   "source": [
    "# Converting to binary values and use binary_crossentropy\n",
    "# y_bin_train = y_train > 0.5 \n",
    "# y_bin_train = y_bin_train + 0\n",
    "\n",
    "# y_bin_test = y_test > 0.5\n",
    "# y_bin_test = y_bin_test + 0\n",
    "\n",
    "# If using direct probabilities\n",
    "y_bin_train = y_train\n",
    "y_bin_test = y_test"
   ]
  },
  {
   "cell_type": "code",
   "execution_count": 4,
   "metadata": {},
   "outputs": [],
   "source": [
    "scaler = MinMaxScaler()\n",
    "X_train = scaler.fit_transform(X_train)\n",
    "X_test = scaler.transform(X_test)\n",
    "test = scaler.transform(test)"
   ]
  },
  {
   "cell_type": "code",
   "execution_count": 5,
   "metadata": {},
   "outputs": [],
   "source": [
    "# cols = ['Region', 'Married', 'Children', 'Deaths/1M', 'Insurance', 'salary', 'Occupation', 'Gender']\n",
    "# X_train.drop(columns=cols, inplace=True)\n",
    "# X_test.drop(columns=cols, inplace=True)\n",
    "# test.drop(columns=cols, inplace=True)\n",
    "# X_train.columns"
   ]
  },
  {
   "cell_type": "code",
   "execution_count": 6,
   "metadata": {},
   "outputs": [],
   "source": [
    "def baseline_model():\n",
    "    model = Sequential()\n",
    "    #get number of columns in training data\n",
    "    n_cols = X_train.shape[1]\n",
    "    #add model layers\n",
    "    model.add(Dense(128, activation='relu', input_shape=(n_cols,)))\n",
    "    model.add(Dropout(0.5))\n",
    "    model.add(Dense(64, activation='relu'))\n",
    "    model.add(Dropout(0.5))\n",
    "    model.add(Dense(32, activation='relu'))\n",
    "    model.add(Dropout(0.5))\n",
    "    model.add(Dense(16, activation='relu'))\n",
    "    model.add(Dense(1, activation='sigmoid'))\n",
    "    # Compile model\n",
    "    model.compile(loss='mean_squared_error', optimizer='adam')\n",
    "#     model.compile(loss='binary_crossentropy', optimizer='adam', metrics=['accuracy'])\n",
    "    return model"
   ]
  },
  {
   "cell_type": "code",
   "execution_count": 7,
   "metadata": {},
   "outputs": [
    {
     "name": "stdout",
     "output_type": "stream",
     "text": [
      "WARNING:tensorflow:From /home/kartikey/anaconda3/lib/python3.7/site-packages/keras/backend/tensorflow_backend.py:422: The name tf.global_variables is deprecated. Please use tf.compat.v1.global_variables instead.\n",
      "\n",
      "Epoch 1/50\n",
      "8571/8571 [==============================] - 1s 152us/step - loss: 0.0113\n",
      "Epoch 2/50\n",
      "8571/8571 [==============================] - 1s 111us/step - loss: 0.0096\n",
      "Epoch 3/50\n",
      "8571/8571 [==============================] - 1s 110us/step - loss: 0.0093\n",
      "Epoch 4/50\n",
      "8571/8571 [==============================] - 1s 110us/step - loss: 0.0089\n",
      "Epoch 5/50\n",
      "8571/8571 [==============================] - 1s 110us/step - loss: 0.0089\n",
      "Epoch 6/50\n",
      "8571/8571 [==============================] - 1s 114us/step - loss: 0.0088\n",
      "Epoch 7/50\n",
      "8571/8571 [==============================] - 1s 112us/step - loss: 0.0086\n",
      "Epoch 8/50\n",
      "8571/8571 [==============================] - 1s 114us/step - loss: 0.0087\n",
      "Epoch 9/50\n",
      "8571/8571 [==============================] - 1s 112us/step - loss: 0.0086\n",
      "Epoch 10/50\n",
      "8571/8571 [==============================] - 1s 110us/step - loss: 0.0085\n",
      "Epoch 11/50\n",
      "8571/8571 [==============================] - 1s 91us/step - loss: 0.0084\n",
      "Epoch 12/50\n",
      "8571/8571 [==============================] - 1s 103us/step - loss: 0.0084\n",
      "Epoch 13/50\n",
      "8571/8571 [==============================] - 1s 116us/step - loss: 0.0084\n",
      "Epoch 14/50\n",
      "8571/8571 [==============================] - 1s 112us/step - loss: 0.0084\n",
      "Epoch 15/50\n",
      "8571/8571 [==============================] - 1s 107us/step - loss: 0.0084\n",
      "Epoch 16/50\n",
      "8571/8571 [==============================] - 1s 118us/step - loss: 0.0084\n",
      "Epoch 17/50\n",
      "8571/8571 [==============================] - 1s 115us/step - loss: 0.0083\n",
      "Epoch 18/50\n",
      "8571/8571 [==============================] - 1s 117us/step - loss: 0.0083\n",
      "Epoch 19/50\n",
      "8571/8571 [==============================] - 1s 111us/step - loss: 0.0083\n",
      "Epoch 20/50\n",
      "8571/8571 [==============================] - 1s 109us/step - loss: 0.0081\n",
      "Epoch 21/50\n",
      "8571/8571 [==============================] - 1s 111us/step - loss: 0.0083\n",
      "Epoch 22/50\n",
      "8571/8571 [==============================] - 1s 103us/step - loss: 0.0082\n",
      "Epoch 23/50\n",
      "8571/8571 [==============================] - 1s 112us/step - loss: 0.0083\n",
      "Epoch 24/50\n",
      "8571/8571 [==============================] - 1s 112us/step - loss: 0.0082\n",
      "Epoch 25/50\n",
      "8571/8571 [==============================] - 1s 108us/step - loss: 0.0083\n",
      "Epoch 26/50\n",
      "8571/8571 [==============================] - 1s 115us/step - loss: 0.0083\n",
      "Epoch 27/50\n",
      "8571/8571 [==============================] - 1s 107us/step - loss: 0.0081\n",
      "Epoch 28/50\n",
      "8571/8571 [==============================] - 1s 110us/step - loss: 0.0082\n",
      "Epoch 29/50\n",
      "8571/8571 [==============================] - 1s 110us/step - loss: 0.0083\n",
      "Epoch 30/50\n",
      "8571/8571 [==============================] - 1s 111us/step - loss: 0.0081\n",
      "Epoch 31/50\n",
      "8571/8571 [==============================] - 1s 110us/step - loss: 0.0081\n",
      "Epoch 32/50\n",
      "8571/8571 [==============================] - 1s 110us/step - loss: 0.0081\n",
      "Epoch 33/50\n",
      "8571/8571 [==============================] - 1s 112us/step - loss: 0.0080\n",
      "Epoch 34/50\n",
      "8571/8571 [==============================] - 1s 106us/step - loss: 0.0081\n",
      "Epoch 35/50\n",
      "8571/8571 [==============================] - 1s 119us/step - loss: 0.0080\n",
      "Epoch 36/50\n",
      "8571/8571 [==============================] - 1s 119us/step - loss: 0.0080\n",
      "Epoch 37/50\n",
      "8571/8571 [==============================] - 1s 109us/step - loss: 0.0081\n",
      "Epoch 38/50\n",
      "8571/8571 [==============================] - 1s 114us/step - loss: 0.0081\n",
      "Epoch 39/50\n",
      "8571/8571 [==============================] - 1s 110us/step - loss: 0.0080\n",
      "Epoch 40/50\n",
      "8571/8571 [==============================] - 1s 108us/step - loss: 0.0080\n",
      "Epoch 41/50\n",
      "8571/8571 [==============================] - 1s 112us/step - loss: 0.0080\n",
      "Epoch 42/50\n",
      "8571/8571 [==============================] - 1s 113us/step - loss: 0.0080\n",
      "Epoch 43/50\n",
      "8571/8571 [==============================] - 1s 112us/step - loss: 0.0079\n",
      "Epoch 44/50\n",
      "8571/8571 [==============================] - 1s 111us/step - loss: 0.0079\n",
      "Epoch 45/50\n",
      "8571/8571 [==============================] - 1s 111us/step - loss: 0.0079\n",
      "Epoch 46/50\n",
      "8571/8571 [==============================] - 1s 113us/step - loss: 0.0079\n",
      "Epoch 47/50\n",
      "8571/8571 [==============================] - 1s 114us/step - loss: 0.0079\n",
      "Epoch 48/50\n",
      "8571/8571 [==============================] - 1s 118us/step - loss: 0.0078\n",
      "Epoch 49/50\n",
      "8571/8571 [==============================] - 1s 105us/step - loss: 0.0077\n",
      "Epoch 50/50\n",
      "8571/8571 [==============================] - 1s 112us/step - loss: 0.0079\n",
      "2143/2143 [==============================] - 0s 50us/step\n",
      "0.009346770418819164\n"
     ]
    }
   ],
   "source": [
    "model = baseline_model()\n",
    "model.fit(X_train, y_bin_train, epochs=50, batch_size=32)\n",
    "score = model.evaluate(X_test, y_bin_test)\n",
    "model.save('Models/Task-1-reg.h5')\n",
    "predictions = model.predict(test)\n",
    "print(score)"
   ]
  },
  {
   "cell_type": "code",
   "execution_count": 8,
   "metadata": {},
   "outputs": [
    {
     "name": "stdout",
     "output_type": "stream",
     "text": [
      "Model: \"sequential_1\"\n",
      "_________________________________________________________________\n",
      "Layer (type)                 Output Shape              Param #   \n",
      "=================================================================\n",
      "dense_1 (Dense)              (None, 128)               3200      \n",
      "_________________________________________________________________\n",
      "dropout_1 (Dropout)          (None, 128)               0         \n",
      "_________________________________________________________________\n",
      "dense_2 (Dense)              (None, 64)                8256      \n",
      "_________________________________________________________________\n",
      "dropout_2 (Dropout)          (None, 64)                0         \n",
      "_________________________________________________________________\n",
      "dense_3 (Dense)              (None, 32)                2080      \n",
      "_________________________________________________________________\n",
      "dropout_3 (Dropout)          (None, 32)                0         \n",
      "_________________________________________________________________\n",
      "dense_4 (Dense)              (None, 16)                528       \n",
      "_________________________________________________________________\n",
      "dense_5 (Dense)              (None, 1)                 17        \n",
      "=================================================================\n",
      "Total params: 14,081\n",
      "Trainable params: 14,081\n",
      "Non-trainable params: 0\n",
      "_________________________________________________________________\n"
     ]
    }
   ],
   "source": [
    "model.summary()"
   ]
  },
  {
   "cell_type": "code",
   "execution_count": 9,
   "metadata": {},
   "outputs": [
    {
     "data": {
      "text/plain": [
       "array([0.52716863, 0.53764963, 0.50077134, ..., 0.495145  , 0.52048343,\n",
       "       0.49574503], dtype=float32)"
      ]
     },
     "execution_count": 9,
     "metadata": {},
     "output_type": "execute_result"
    }
   ],
   "source": [
    "predictions = model.predict(test)\n",
    "predictions = np.squeeze(predictions, axis=(1,))\n",
    "predictions"
   ]
  },
  {
   "cell_type": "code",
   "execution_count": 10,
   "metadata": {},
   "outputs": [
    {
     "data": {
      "text/html": [
       "<div>\n",
       "<style scoped>\n",
       "    .dataframe tbody tr th:only-of-type {\n",
       "        vertical-align: middle;\n",
       "    }\n",
       "\n",
       "    .dataframe tbody tr th {\n",
       "        vertical-align: top;\n",
       "    }\n",
       "\n",
       "    .dataframe thead th {\n",
       "        text-align: right;\n",
       "    }\n",
       "</style>\n",
       "<table border=\"1\" class=\"dataframe\">\n",
       "  <thead>\n",
       "    <tr style=\"text-align: right;\">\n",
       "      <th></th>\n",
       "      <th>people_ID</th>\n",
       "      <th>Infect_Prob</th>\n",
       "    </tr>\n",
       "  </thead>\n",
       "  <tbody>\n",
       "    <tr>\n",
       "      <th>0</th>\n",
       "      <td>5942</td>\n",
       "      <td>52.716862</td>\n",
       "    </tr>\n",
       "    <tr>\n",
       "      <th>1</th>\n",
       "      <td>18664</td>\n",
       "      <td>53.764961</td>\n",
       "    </tr>\n",
       "    <tr>\n",
       "      <th>2</th>\n",
       "      <td>5603</td>\n",
       "      <td>50.077133</td>\n",
       "    </tr>\n",
       "    <tr>\n",
       "      <th>3</th>\n",
       "      <td>5649</td>\n",
       "      <td>51.810932</td>\n",
       "    </tr>\n",
       "    <tr>\n",
       "      <th>4</th>\n",
       "      <td>5099</td>\n",
       "      <td>50.798637</td>\n",
       "    </tr>\n",
       "  </tbody>\n",
       "</table>\n",
       "</div>"
      ],
      "text/plain": [
       "   people_ID  Infect_Prob\n",
       "0       5942    52.716862\n",
       "1      18664    53.764961\n",
       "2       5603    50.077133\n",
       "3       5649    51.810932\n",
       "4       5099    50.798637"
      ]
     },
     "execution_count": 10,
     "metadata": {},
     "output_type": "execute_result"
    }
   ],
   "source": [
    "test_people = pd.read_excel('Test_dataset.xlsx')\n",
    "final_df = pd.DataFrame({'people_ID':test_people['people_ID'], 'Infect_Prob': predictions*100})\n",
    "final_df.head()"
   ]
  },
  {
   "cell_type": "code",
   "execution_count": 11,
   "metadata": {},
   "outputs": [],
   "source": [
    "final_df.to_csv('Results/Task-1_Results.csv', index=False)"
   ]
  }
 ],
 "metadata": {
  "kernelspec": {
   "display_name": "Python 3",
   "language": "python",
   "name": "python3"
  },
  "language_info": {
   "codemirror_mode": {
    "name": "ipython",
    "version": 3
   },
   "file_extension": ".py",
   "mimetype": "text/x-python",
   "name": "python",
   "nbconvert_exporter": "python",
   "pygments_lexer": "ipython3",
   "version": "3.7.4"
  }
 },
 "nbformat": 4,
 "nbformat_minor": 4
}
